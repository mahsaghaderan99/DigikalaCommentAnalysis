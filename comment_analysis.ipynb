{
  "nbformat": 4,
  "nbformat_minor": 0,
  "metadata": {
    "colab": {
      "name": "comment_analysis.ipynb",
      "provenance": [],
      "collapsed_sections": [],
      "mount_file_id": "1osMIF3l7ebRJ3icm-2851UODZo2PqH-4",
      "authorship_tag": "ABX9TyMog8qlmL4ZrFZUXdHjmSUf",
      "include_colab_link": true
    },
    "kernelspec": {
      "name": "python3",
      "display_name": "Python 3"
    }
  },
  "cells": [
    {
      "cell_type": "markdown",
      "metadata": {
        "id": "view-in-github",
        "colab_type": "text"
      },
      "source": [
        "<a href=\"https://colab.research.google.com/github/mahsaghaderan99/DigikalaCommentAnalysis/blob/tokenizer/comment_analysis.ipynb\" target=\"_parent\"><img src=\"https://colab.research.google.com/assets/colab-badge.svg\" alt=\"Open In Colab\"/></a>"
      ]
    },
    {
      "cell_type": "markdown",
      "metadata": {
        "id": "EHdscTCirHZh"
      },
      "source": [
        "#Installation"
      ]
    },
    {
      "cell_type": "code",
      "metadata": {
        "id": "ocIxrDHloNot"
      },
      "source": [
        "!pip install stanfordnlp"
      ],
      "execution_count": null,
      "outputs": []
    },
    {
      "cell_type": "markdown",
      "metadata": {
        "id": "FxYtjv-oq12t"
      },
      "source": [
        "#Imports"
      ]
    },
    {
      "cell_type": "code",
      "metadata": {
        "id": "fYlcRYzcnwpF"
      },
      "source": [
        "import stanfordnlp\n",
        "import numpy as np\n",
        "import pandas as pd "
      ],
      "execution_count": 28,
      "outputs": []
    },
    {
      "cell_type": "markdown",
      "metadata": {
        "id": "UEcOSQvSq7Bl"
      },
      "source": [
        "#Data preparation"
      ]
    },
    {
      "cell_type": "markdown",
      "metadata": {
        "id": "xumijJApsHFl"
      },
      "source": [
        "##Dataset"
      ]
    },
    {
      "cell_type": "markdown",
      "metadata": {
        "id": "GE_hf8m6DuA1"
      },
      "source": [
        "##Clean dataset"
      ]
    },
    {
      "cell_type": "code",
      "metadata": {
        "id": "rCAnMJuTyzrA"
      },
      "source": [
        "#Save text file into drive\n",
        "\n",
        "# !ls /content/drive/MyDrive\n",
        "# !mkdir /content/drive/MyDrive/digikala\n",
        "# !cp /content/digikala_dataset.txt /content/drive/MyDrive/digikala"
      ],
      "execution_count": null,
      "outputs": []
    },
    {
      "cell_type": "code",
      "metadata": {
        "id": "StlSM7Z8zRi4"
      },
      "source": [
        "x = []\n",
        "y = []\n",
        "with open('/content/drive/MyDrive/digikala/digikala_dataset.txt','r') as f:\n",
        "  for line in f:\n",
        "    index = line.find('\\t')\n",
        "    dy = line[:index]\n",
        "    dx = line[index+1:]\n",
        "    x.append(dx)\n",
        "    y.append(dy)\n"
      ],
      "execution_count": 2,
      "outputs": []
    },
    {
      "cell_type": "code",
      "metadata": {
        "id": "j3XzcoBj439_"
      },
      "source": [
        "x = np.array(x)\n",
        "y = np.array(y)"
      ],
      "execution_count": 6,
      "outputs": []
    },
    {
      "cell_type": "code",
      "metadata": {
        "id": "X0pm27Sk6-GS"
      },
      "source": [
        "punct = str.maketrans(dict.fromkeys(string.punctuation,' '))\n",
        "nopunct_x = [s.translate(table) for s in x]\n",
        "nopunct_x = [s.replace('\\n',' ').replace('\\t',' ') for s in x]"
      ],
      "execution_count": 11,
      "outputs": []
    },
    {
      "cell_type": "code",
      "metadata": {
        "colab": {
          "base_uri": "https://localhost:8080/",
          "height": 406
        },
        "id": "FWU7QXPGAuVO",
        "outputId": "9bc95023-9f29-44f5-f286-2bf00312cf59"
      },
      "source": [
        "data = {'label':y, \n",
        "        'comment':nopunct_x} \n",
        "df = pd.DataFrame(data) \n",
        "df "
      ],
      "execution_count": 33,
      "outputs": [
        {
          "output_type": "execute_result",
          "data": {
            "text/html": [
              "<div>\n",
              "<style scoped>\n",
              "    .dataframe tbody tr th:only-of-type {\n",
              "        vertical-align: middle;\n",
              "    }\n",
              "\n",
              "    .dataframe tbody tr th {\n",
              "        vertical-align: top;\n",
              "    }\n",
              "\n",
              "    .dataframe thead th {\n",
              "        text-align: right;\n",
              "    }\n",
              "</style>\n",
              "<table border=\"1\" class=\"dataframe\">\n",
              "  <thead>\n",
              "    <tr style=\"text-align: right;\">\n",
              "      <th></th>\n",
              "      <th>label</th>\n",
              "      <th>comment</th>\n",
              "    </tr>\n",
              "  </thead>\n",
              "  <tbody>\n",
              "    <tr>\n",
              "      <th>0</th>\n",
              "      <td>0</td>\n",
              "      <td>لطفا رنگ سفید رو هم موجود کنید</td>\n",
              "    </tr>\n",
              "    <tr>\n",
              "      <th>1</th>\n",
              "      <td>0</td>\n",
              "      <td>با سلام؛ من همین الان میخواستم نوک مدادی بخرم ...</td>\n",
              "    </tr>\n",
              "    <tr>\n",
              "      <th>2</th>\n",
              "      <td>0</td>\n",
              "      <td>من یه روز گذاشتم شارژ 12 روز شارژ داشت</td>\n",
              "    </tr>\n",
              "    <tr>\n",
              "      <th>3</th>\n",
              "      <td>0</td>\n",
              "      <td>برای خاموش کردن نوار چراغ پایین گوشی از برنامه...</td>\n",
              "    </tr>\n",
              "    <tr>\n",
              "      <th>4</th>\n",
              "      <td>0</td>\n",
              "      <td>سلام بر دیجی کالا من میخواستم امروز بخرم ولی ا...</td>\n",
              "    </tr>\n",
              "    <tr>\n",
              "      <th>...</th>\n",
              "      <td>...</td>\n",
              "      <td>...</td>\n",
              "    </tr>\n",
              "    <tr>\n",
              "      <th>200756</th>\n",
              "      <td>0</td>\n",
              "      <td>لطفا موجود کنین</td>\n",
              "    </tr>\n",
              "    <tr>\n",
              "      <th>200757</th>\n",
              "      <td>-1</td>\n",
              "      <td>من 1 ساله دارمش واقعا بده. هنگ زیاد داغ شدن زی...</td>\n",
              "    </tr>\n",
              "    <tr>\n",
              "      <th>200758</th>\n",
              "      <td>0</td>\n",
              "      <td>اگه دو سیمشم بیاری دیجی کالا و نقد و بررسی هم ...</td>\n",
              "    </tr>\n",
              "    <tr>\n",
              "      <th>200759</th>\n",
              "      <td>1</td>\n",
              "      <td>سلام.من این گوشیو 2هفته پیش خریدم البته ایم بگ...</td>\n",
              "    </tr>\n",
              "    <tr>\n",
              "      <th>200760</th>\n",
              "      <td>0</td>\n",
              "      <td>مردیم بابا مشکی رو جور کنید دیجییی</td>\n",
              "    </tr>\n",
              "  </tbody>\n",
              "</table>\n",
              "<p>200761 rows × 2 columns</p>\n",
              "</div>"
            ],
            "text/plain": [
              "       label                                            comment\n",
              "0          0                    لطفا رنگ سفید رو هم موجود کنید \n",
              "1          0  با سلام؛ من همین الان میخواستم نوک مدادی بخرم ...\n",
              "2          0            من یه روز گذاشتم شارژ 12 روز شارژ داشت \n",
              "3          0  برای خاموش کردن نوار چراغ پایین گوشی از برنامه...\n",
              "4          0  سلام بر دیجی کالا من میخواستم امروز بخرم ولی ا...\n",
              "...      ...                                                ...\n",
              "200756     0                                   لطفا موجود کنین \n",
              "200757    -1  من 1 ساله دارمش واقعا بده. هنگ زیاد داغ شدن زی...\n",
              "200758     0  اگه دو سیمشم بیاری دیجی کالا و نقد و بررسی هم ...\n",
              "200759     1  سلام.من این گوشیو 2هفته پیش خریدم البته ایم بگ...\n",
              "200760     0                 مردیم بابا مشکی رو جور کنید دیجییی\n",
              "\n",
              "[200761 rows x 2 columns]"
            ]
          },
          "metadata": {
            "tags": []
          },
          "execution_count": 33
        }
      ]
    },
    {
      "cell_type": "code",
      "metadata": {
        "id": "1qYWfaoZDf49"
      },
      "source": [
        "#create csv file\n",
        "# !touch /content/drive/MyDrive/digikala/digikala.csv"
      ],
      "execution_count": 41,
      "outputs": []
    },
    {
      "cell_type": "code",
      "metadata": {
        "id": "Qp8UxsnTBvbd"
      },
      "source": [
        "df.to_csv ('/content/drive/MyDrive/digikala/digikala.csv', index = False, header=True)"
      ],
      "execution_count": 43,
      "outputs": []
    },
    {
      "cell_type": "markdown",
      "metadata": {
        "id": "PGcCo6MeDw84"
      },
      "source": [
        "##Download stanford nlp"
      ]
    },
    {
      "cell_type": "code",
      "metadata": {
        "id": "8vOc__TnoAHp"
      },
      "source": [
        "stanfordnlp.download('fa')"
      ],
      "execution_count": null,
      "outputs": []
    }
  ]
}