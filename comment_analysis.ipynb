{
  "nbformat": 4,
  "nbformat_minor": 0,
  "metadata": {
    "colab": {
      "name": "comment_analysis.ipynb",
      "provenance": [],
      "collapsed_sections": [],
      "mount_file_id": "1NUW9Boa819KPbp-rGfijNc3qkweGJIaV",
      "authorship_tag": "ABX9TyPh5kAFo3wG1TcSyrI2aYA7",
      "include_colab_link": true
    },
    "kernelspec": {
      "name": "python3",
      "display_name": "Python 3"
    },
    "accelerator": "GPU"
  },
  "cells": [
    {
      "cell_type": "markdown",
      "metadata": {
        "id": "view-in-github",
        "colab_type": "text"
      },
      "source": [
        "<a href=\"https://colab.research.google.com/github/mahsaghaderan99/DigikalaCommentAnalysis/blob/tokenizer/comment_analysis.ipynb\" target=\"_parent\"><img src=\"https://colab.research.google.com/assets/colab-badge.svg\" alt=\"Open In Colab\"/></a>"
      ]
    },
    {
      "cell_type": "markdown",
      "metadata": {
        "id": "EHdscTCirHZh"
      },
      "source": [
        "#Installation"
      ]
    },
    {
      "cell_type": "code",
      "metadata": {
        "id": "ocIxrDHloNot",
        "colab": {
          "base_uri": "https://localhost:8080/"
        },
        "outputId": "736313d1-d96d-479a-bdbd-a1e1847e80e7"
      },
      "source": [
        "!pip install stanza -U"
      ],
      "execution_count": 4,
      "outputs": [
        {
          "output_type": "stream",
          "text": [
            "Requirement already up-to-date: stanza in /usr/local/lib/python3.6/dist-packages (1.1.1)\n",
            "Requirement already satisfied, skipping upgrade: requests in /usr/local/lib/python3.6/dist-packages (from stanza) (2.23.0)\n",
            "Requirement already satisfied, skipping upgrade: protobuf in /usr/local/lib/python3.6/dist-packages (from stanza) (3.12.4)\n",
            "Requirement already satisfied, skipping upgrade: tqdm in /usr/local/lib/python3.6/dist-packages (from stanza) (4.41.1)\n",
            "Requirement already satisfied, skipping upgrade: torch>=1.3.0 in /usr/local/lib/python3.6/dist-packages (from stanza) (1.7.1)\n",
            "Requirement already satisfied, skipping upgrade: numpy in /usr/local/lib/python3.6/dist-packages (from stanza) (1.19.4)\n",
            "Requirement already satisfied, skipping upgrade: chardet<4,>=3.0.2 in /usr/local/lib/python3.6/dist-packages (from requests->stanza) (3.0.4)\n",
            "Requirement already satisfied, skipping upgrade: certifi>=2017.4.17 in /usr/local/lib/python3.6/dist-packages (from requests->stanza) (2020.12.5)\n",
            "Requirement already satisfied, skipping upgrade: idna<3,>=2.5 in /usr/local/lib/python3.6/dist-packages (from requests->stanza) (2.10)\n",
            "Requirement already satisfied, skipping upgrade: urllib3!=1.25.0,!=1.25.1,<1.26,>=1.21.1 in /usr/local/lib/python3.6/dist-packages (from requests->stanza) (1.24.3)\n",
            "Requirement already satisfied, skipping upgrade: six>=1.9 in /usr/local/lib/python3.6/dist-packages (from protobuf->stanza) (1.15.0)\n",
            "Requirement already satisfied, skipping upgrade: setuptools in /usr/local/lib/python3.6/dist-packages (from protobuf->stanza) (51.0.0)\n",
            "Requirement already satisfied, skipping upgrade: dataclasses; python_version < \"3.7\" in /usr/local/lib/python3.6/dist-packages (from torch>=1.3.0->stanza) (0.8)\n",
            "Requirement already satisfied, skipping upgrade: typing-extensions in /usr/local/lib/python3.6/dist-packages (from torch>=1.3.0->stanza) (3.7.4.3)\n"
          ],
          "name": "stdout"
        }
      ]
    },
    {
      "cell_type": "markdown",
      "metadata": {
        "id": "FxYtjv-oq12t"
      },
      "source": [
        "#Imports"
      ]
    },
    {
      "cell_type": "code",
      "metadata": {
        "id": "fYlcRYzcnwpF"
      },
      "source": [
        "import stanza\n",
        "import numpy as np\n",
        "import pandas as pd \n",
        "import string\n",
        "import cv2\n",
        "import matplotlib.pyplot as plt\n",
        "import seaborn as sn"
      ],
      "execution_count": 1,
      "outputs": []
    },
    {
      "cell_type": "code",
      "metadata": {
        "id": "e8kenI7qdXl9"
      },
      "source": [
        "import gensim \n",
        "from gensim.models import Word2Vec "
      ],
      "execution_count": 2,
      "outputs": []
    },
    {
      "cell_type": "code",
      "metadata": {
        "id": "69Qw-xlukaN6"
      },
      "source": [
        "from keras.utils import plot_model\n",
        "from keras.models import Model\n",
        "from keras.layers import Input\n",
        "from keras.layers import Dense\n",
        "from keras.layers import Flatten\n",
        "from keras.layers.convolutional import Conv2D\n",
        "from keras.layers.pooling import MaxPooling2D\n",
        "from keras.layers.merge import concatenate\n",
        "from keras.utils import to_categorical\n",
        "from keras.layers import Dropout\n",
        "from keras.layers import GlobalAveragePooling2D\n",
        "import tensorflow as tf\n",
        "from keras.callbacks import ModelCheckpoint \n",
        "import time"
      ],
      "execution_count": 3,
      "outputs": []
    },
    {
      "cell_type": "markdown",
      "metadata": {
        "id": "UEcOSQvSq7Bl"
      },
      "source": [
        "#Data preparation"
      ]
    },
    {
      "cell_type": "code",
      "metadata": {
        "id": "rCAnMJuTyzrA"
      },
      "source": [
        "#Save text file into drive\n",
        "\n",
        "# !ls /content/drive/MyDrive\n",
        "# !mkdir /content/drive/MyDrive/digikala\n",
        "# !cp /content/digikala_dataset.txt /content/drive/MyDrive/digikala"
      ],
      "execution_count": null,
      "outputs": []
    },
    {
      "cell_type": "code",
      "metadata": {
        "id": "StlSM7Z8zRi4"
      },
      "source": [
        "x = []\n",
        "y = []\n",
        "with open('/content/drive/MyDrive/digikala/digikala_dataset.txt','r') as f:\n",
        "  for line in f:\n",
        "    index = line.find('\\t')\n",
        "    dy = line[:index]\n",
        "    dx = line[index+1:]\n",
        "    x.append(dx)\n",
        "    y.append(dy)\n"
      ],
      "execution_count": 2,
      "outputs": []
    },
    {
      "cell_type": "code",
      "metadata": {
        "id": "j3XzcoBj439_"
      },
      "source": [
        "x = np.array(x)\n",
        "y = np.array(y)"
      ],
      "execution_count": 4,
      "outputs": []
    },
    {
      "cell_type": "code",
      "metadata": {
        "id": "lLsmkixkGObW"
      },
      "source": [
        "punkts = {\n",
        "    '!':' ',\n",
        "    ')':' ',\n",
        "    '(':' ',\n",
        "    \"'\":' ',\n",
        "    '.':' ',\n",
        "    ':':' ',\n",
        "    '-':' ',\n",
        "    ',':' ',\n",
        "    '*':' ',\n",
        "    '/':' ',\n",
        "    '[':' ',\n",
        "    ']':' ',\n",
        "    '?':' ',\n",
        "    '؟':' ',\n",
        "    '!':' ',\n",
        "    '}':' ',\n",
        "    '{':' ',\n",
        "    '@':' '\n",
        "}"
      ],
      "execution_count": 28,
      "outputs": []
    },
    {
      "cell_type": "code",
      "metadata": {
        "id": "X0pm27Sk6-GS"
      },
      "source": [
        "punct = str.maketrans(punkts)\n",
        "nopunct_x = [s.translate(punct) for s in x]\n",
        "nopunct_x = [s.replace('\\n',' ').replace('\\t',' ') for s in nopunct_x]"
      ],
      "execution_count": 29,
      "outputs": []
    },
    {
      "cell_type": "code",
      "metadata": {
        "colab": {
          "base_uri": "https://localhost:8080/",
          "height": 406
        },
        "id": "FWU7QXPGAuVO",
        "outputId": "c0939715-65dc-4fb5-a8b2-8c163b4b0d2f"
      },
      "source": [
        "data = {'label':y, \n",
        "        'comment':nopunct_x} \n",
        "df = pd.DataFrame(data) \n",
        "df "
      ],
      "execution_count": 30,
      "outputs": [
        {
          "output_type": "execute_result",
          "data": {
            "text/html": [
              "<div>\n",
              "<style scoped>\n",
              "    .dataframe tbody tr th:only-of-type {\n",
              "        vertical-align: middle;\n",
              "    }\n",
              "\n",
              "    .dataframe tbody tr th {\n",
              "        vertical-align: top;\n",
              "    }\n",
              "\n",
              "    .dataframe thead th {\n",
              "        text-align: right;\n",
              "    }\n",
              "</style>\n",
              "<table border=\"1\" class=\"dataframe\">\n",
              "  <thead>\n",
              "    <tr style=\"text-align: right;\">\n",
              "      <th></th>\n",
              "      <th>label</th>\n",
              "      <th>comment</th>\n",
              "    </tr>\n",
              "  </thead>\n",
              "  <tbody>\n",
              "    <tr>\n",
              "      <th>0</th>\n",
              "      <td>0</td>\n",
              "      <td>لطفا رنگ سفید رو هم موجود کنید</td>\n",
              "    </tr>\n",
              "    <tr>\n",
              "      <th>1</th>\n",
              "      <td>0</td>\n",
              "      <td>با سلام؛ من همین الان میخواستم نوک مدادی بخرم ...</td>\n",
              "    </tr>\n",
              "    <tr>\n",
              "      <th>2</th>\n",
              "      <td>0</td>\n",
              "      <td>من یه روز گذاشتم شارژ 12 روز شارژ داشت</td>\n",
              "    </tr>\n",
              "    <tr>\n",
              "      <th>3</th>\n",
              "      <td>0</td>\n",
              "      <td>برای خاموش کردن نوار چراغ پایین گوشی از برنامه...</td>\n",
              "    </tr>\n",
              "    <tr>\n",
              "      <th>4</th>\n",
              "      <td>0</td>\n",
              "      <td>سلام بر دیجی کالا من میخواستم امروز بخرم ولی ا...</td>\n",
              "    </tr>\n",
              "    <tr>\n",
              "      <th>...</th>\n",
              "      <td>...</td>\n",
              "      <td>...</td>\n",
              "    </tr>\n",
              "    <tr>\n",
              "      <th>200756</th>\n",
              "      <td>0</td>\n",
              "      <td>لطفا موجود کنین</td>\n",
              "    </tr>\n",
              "    <tr>\n",
              "      <th>200757</th>\n",
              "      <td>-1</td>\n",
              "      <td>من 1 ساله دارمش واقعا بده  هنگ زیاد داغ شدن زی...</td>\n",
              "    </tr>\n",
              "    <tr>\n",
              "      <th>200758</th>\n",
              "      <td>0</td>\n",
              "      <td>اگه دو سیمشم بیاری دیجی کالا و نقد و بررسی هم ...</td>\n",
              "    </tr>\n",
              "    <tr>\n",
              "      <th>200759</th>\n",
              "      <td>1</td>\n",
              "      <td>سلام من این گوشیو 2هفته پیش خریدم البته ایم بگ...</td>\n",
              "    </tr>\n",
              "    <tr>\n",
              "      <th>200760</th>\n",
              "      <td>0</td>\n",
              "      <td>مردیم بابا مشکی رو جور کنید دیجییی</td>\n",
              "    </tr>\n",
              "  </tbody>\n",
              "</table>\n",
              "<p>200761 rows × 2 columns</p>\n",
              "</div>"
            ],
            "text/plain": [
              "       label                                            comment\n",
              "0          0                    لطفا رنگ سفید رو هم موجود کنید \n",
              "1          0  با سلام؛ من همین الان میخواستم نوک مدادی بخرم ...\n",
              "2          0            من یه روز گذاشتم شارژ 12 روز شارژ داشت \n",
              "3          0  برای خاموش کردن نوار چراغ پایین گوشی از برنامه...\n",
              "4          0  سلام بر دیجی کالا من میخواستم امروز بخرم ولی ا...\n",
              "...      ...                                                ...\n",
              "200756     0                                   لطفا موجود کنین \n",
              "200757    -1  من 1 ساله دارمش واقعا بده  هنگ زیاد داغ شدن زی...\n",
              "200758     0  اگه دو سیمشم بیاری دیجی کالا و نقد و بررسی هم ...\n",
              "200759     1  سلام من این گوشیو 2هفته پیش خریدم البته ایم بگ...\n",
              "200760     0                 مردیم بابا مشکی رو جور کنید دیجییی\n",
              "\n",
              "[200761 rows x 2 columns]"
            ]
          },
          "metadata": {
            "tags": []
          },
          "execution_count": 30
        }
      ]
    },
    {
      "cell_type": "code",
      "metadata": {
        "id": "1qYWfaoZDf49"
      },
      "source": [
        "#create csv file\n",
        "# !touch /content/drive/MyDrive/digikala/digikala.csv"
      ],
      "execution_count": null,
      "outputs": []
    },
    {
      "cell_type": "code",
      "metadata": {
        "id": "Qp8UxsnTBvbd"
      },
      "source": [
        "df.to_csv ('/content/drive/MyDrive/digikala/digikala.csv', index = False, header=True)"
      ],
      "execution_count": 31,
      "outputs": []
    },
    {
      "cell_type": "markdown",
      "metadata": {
        "id": "PGcCo6MeDw84"
      },
      "source": [
        "#Tokenize"
      ]
    },
    {
      "cell_type": "markdown",
      "metadata": {
        "id": "050DDkayoB7W"
      },
      "source": [
        "##LOad Dataset"
      ]
    },
    {
      "cell_type": "code",
      "metadata": {
        "id": "D7KhDcFcEoYr"
      },
      "source": [
        "df = pd.read_csv('/content/drive/MyDrive/digikala/digikala.csv')"
      ],
      "execution_count": 4,
      "outputs": []
    },
    {
      "cell_type": "code",
      "metadata": {
        "id": "z__Bq7cKFqHW"
      },
      "source": [
        "label = np.array(df['label'])\n",
        "clean_com = np.array(df['comment'])"
      ],
      "execution_count": 5,
      "outputs": []
    },
    {
      "cell_type": "code",
      "metadata": {
        "id": "8vOc__TnoAHp",
        "colab": {
          "base_uri": "https://localhost:8080/"
        },
        "outputId": "f498e44f-f7b8-42c3-e367-1173ff3c0be3"
      },
      "source": [
        "stanza.download('fa') "
      ],
      "execution_count": 6,
      "outputs": [
        {
          "output_type": "stream",
          "text": [
            "Downloading https://raw.githubusercontent.com/stanfordnlp/stanza-resources/master/resources_1.1.0.json: 122kB [00:00, 32.3MB/s]                    \n",
            "2021-01-07 14:53:30 INFO: Downloading default packages for language: fa (Persian)...\n",
            "2021-01-07 14:53:30 INFO: File exists: /root/stanza_resources/fa/default.zip.\n",
            "2021-01-07 14:53:33 INFO: Finished downloading models and saved to /root/stanza_resources.\n"
          ],
          "name": "stderr"
        }
      ]
    },
    {
      "cell_type": "code",
      "metadata": {
        "id": "6u49iW22EYev",
        "colab": {
          "base_uri": "https://localhost:8080/"
        },
        "outputId": "bd49fdb3-951a-44cd-a73b-fcaea2de985b"
      },
      "source": [
        "nlp = stanza.Pipeline(processors='tokenize', lang='fa', tokenize_pretokenized=True, use_gpu=True)\n",
        "tokens = []\n",
        "for row in clean_com:\n",
        "  doc = nlp(row)\n",
        "  try:\n",
        "    sentence = list(doc.sentences)[0]\n",
        "  except:\n",
        "    print(doc.sentences)\n",
        "    pass\n",
        "  tokenz = np.array([token.text for token in sentence.tokens])\n",
        "  tokens.append(tokenz)"
      ],
      "execution_count": 8,
      "outputs": [
        {
          "output_type": "stream",
          "text": [
            "2021-01-07 14:54:21 INFO: Loading these models for language: fa (Persian):\n",
            "=======================\n",
            "| Processor | Package |\n",
            "-----------------------\n",
            "| tokenize  | seraji  |\n",
            "=======================\n",
            "\n",
            "INFO:stanza:Loading these models for language: fa (Persian):\n",
            "=======================\n",
            "| Processor | Package |\n",
            "-----------------------\n",
            "| tokenize  | seraji  |\n",
            "=======================\n",
            "\n",
            "2021-01-07 14:54:21 INFO: Use device: cpu\n",
            "INFO:stanza:Use device: cpu\n",
            "2021-01-07 14:54:21 INFO: Loading: tokenize\n",
            "INFO:stanza:Loading: tokenize\n",
            "2021-01-07 14:54:21 INFO: Done loading processors!\n",
            "INFO:stanza:Done loading processors!\n"
          ],
          "name": "stderr"
        },
        {
          "output_type": "stream",
          "text": [
            "[]\n",
            "[]\n"
          ],
          "name": "stdout"
        }
      ]
    },
    {
      "cell_type": "code",
      "metadata": {
        "colab": {
          "base_uri": "https://localhost:8080/"
        },
        "id": "kKhCgO21txmg",
        "outputId": "81da627e-9150-42ae-ec5d-b10cbaa1c9f3"
      },
      "source": [
        "len(lemmas)"
      ],
      "execution_count": 123,
      "outputs": [
        {
          "output_type": "execute_result",
          "data": {
            "text/plain": [
              "50000"
            ]
          },
          "metadata": {
            "tags": []
          },
          "execution_count": 123
        }
      ]
    },
    {
      "cell_type": "code",
      "metadata": {
        "colab": {
          "base_uri": "https://localhost:8080/"
        },
        "id": "wG5PVnf1ohkv",
        "outputId": "c317e9d0-bcf6-43cc-a1e7-9241b306c5e9"
      },
      "source": [
        "nlplemm = stanza.Pipeline(processors='tokenize,lemma', lang='fa',use_gpu=True)\n",
        "lemmas = []\n",
        "i =0\n",
        "for row in clean_com[:50000]:\n",
        "  if i%100 == 0: print(i)\n",
        "  i +=1\n",
        "  try:\n",
        "    sentence = list(nlplemm(row).sentences)[0]\n",
        "    lemmas.append([word.lemma for word in sentence.words if word.lemma != None])\n",
        "  except:\n",
        "    print(doc.sentences)\n",
        "    continue"
      ],
      "execution_count": null,
      "outputs": [
        {
          "output_type": "stream",
          "text": [
            "2021-01-07 15:24:05 INFO: Loading these models for language: fa (Persian):\n",
            "=======================\n",
            "| Processor | Package |\n",
            "-----------------------\n",
            "| tokenize  | seraji  |\n",
            "| lemma     | seraji  |\n",
            "=======================\n",
            "\n",
            "INFO:stanza:Loading these models for language: fa (Persian):\n",
            "=======================\n",
            "| Processor | Package |\n",
            "-----------------------\n",
            "| tokenize  | seraji  |\n",
            "| lemma     | seraji  |\n",
            "=======================\n",
            "\n",
            "2021-01-07 15:24:05 INFO: Use device: cpu\n",
            "INFO:stanza:Use device: cpu\n",
            "2021-01-07 15:24:05 INFO: Loading: tokenize\n",
            "INFO:stanza:Loading: tokenize\n",
            "2021-01-07 15:24:05 INFO: Loading: lemma\n",
            "INFO:stanza:Loading: lemma\n",
            "2021-01-07 15:24:05 INFO: Done loading processors!\n",
            "INFO:stanza:Done loading processors!\n"
          ],
          "name": "stderr"
        },
        {
          "output_type": "stream",
          "text": [
            "0\n",
            "100\n",
            "200\n",
            "300\n",
            "400\n",
            "500\n",
            "600\n",
            "700\n",
            "800\n",
            "900\n",
            "1000\n",
            "1100\n",
            "1200\n",
            "1300\n",
            "1400\n",
            "1500\n",
            "1600\n",
            "1700\n",
            "1800\n",
            "1900\n",
            "2000\n",
            "2100\n",
            "2200\n",
            "2300\n",
            "2400\n",
            "2500\n",
            "2600\n",
            "2700\n",
            "2800\n",
            "2900\n",
            "3000\n",
            "3100\n",
            "3200\n",
            "3300\n",
            "3400\n",
            "3500\n",
            "3600\n",
            "3700\n",
            "3800\n",
            "3900\n",
            "4000\n",
            "4100\n",
            "4200\n",
            "4300\n",
            "4400\n",
            "4500\n",
            "4600\n",
            "4700\n",
            "4800\n",
            "4900\n",
            "5000\n",
            "5100\n",
            "5200\n",
            "5300\n",
            "5400\n",
            "5500\n",
            "5600\n",
            "5700\n",
            "5800\n",
            "5900\n",
            "6000\n",
            "6100\n",
            "6200\n",
            "6300\n",
            "6400\n",
            "6500\n",
            "6600\n",
            "6700\n",
            "6800\n",
            "6900\n",
            "7000\n",
            "7100\n",
            "7200\n",
            "7300\n",
            "7400\n",
            "7500\n",
            "7600\n",
            "7700\n",
            "7800\n",
            "7900\n",
            "8000\n",
            "8100\n",
            "8200\n",
            "8300\n",
            "8400\n",
            "8500\n",
            "8600\n",
            "8700\n",
            "8800\n",
            "8900\n",
            "9000\n",
            "9100\n",
            "9200\n",
            "9300\n",
            "9400\n",
            "9500\n",
            "9600\n",
            "9700\n",
            "9800\n",
            "9900\n",
            "10000\n",
            "10100\n",
            "10200\n",
            "10300\n",
            "10400\n",
            "10500\n",
            "10600\n",
            "10700\n",
            "10800\n",
            "10900\n",
            "11000\n",
            "11100\n",
            "11200\n",
            "11300\n",
            "11400\n",
            "11500\n",
            "11600\n",
            "11700\n",
            "11800\n",
            "11900\n",
            "12000\n",
            "12100\n",
            "12200\n",
            "12300\n",
            "12400\n",
            "12500\n",
            "12600\n",
            "12700\n",
            "12800\n",
            "12900\n",
            "13000\n",
            "13100\n",
            "13200\n",
            "13300\n",
            "13400\n",
            "13500\n",
            "13600\n",
            "13700\n",
            "13800\n",
            "13900\n",
            "14000\n",
            "14100\n",
            "14200\n",
            "14300\n",
            "14400\n",
            "14500\n",
            "14600\n",
            "14700\n",
            "14800\n",
            "14900\n",
            "15000\n",
            "15100\n",
            "15200\n",
            "15300\n",
            "15400\n",
            "15500\n",
            "15600\n",
            "15700\n",
            "15800\n",
            "15900\n",
            "16000\n",
            "16100\n",
            "16200\n",
            "16300\n",
            "16400\n",
            "16500\n",
            "16600\n",
            "16700\n",
            "16800\n",
            "16900\n",
            "17000\n",
            "17100\n",
            "17200\n",
            "17300\n",
            "17400\n",
            "17500\n",
            "17600\n",
            "17700\n",
            "17800\n",
            "17900\n",
            "18000\n",
            "18100\n",
            "18200\n",
            "18300\n",
            "18400\n",
            "18500\n",
            "18600\n",
            "18700\n",
            "18800\n",
            "18900\n",
            "19000\n",
            "19100\n",
            "19200\n",
            "19300\n",
            "19400\n",
            "19500\n",
            "19600\n",
            "19700\n",
            "19800\n",
            "19900\n",
            "20000\n",
            "20100\n",
            "20200\n",
            "20300\n",
            "20400\n",
            "20500\n",
            "20600\n",
            "20700\n",
            "20800\n",
            "20900\n",
            "21000\n",
            "21100\n",
            "21200\n",
            "21300\n",
            "21400\n",
            "21500\n",
            "21600\n",
            "21700\n",
            "21800\n",
            "21900\n",
            "22000\n",
            "22100\n",
            "22200\n",
            "22300\n",
            "22400\n",
            "22500\n",
            "22600\n",
            "22700\n",
            "22800\n",
            "22900\n",
            "23000\n",
            "23100\n",
            "23200\n",
            "23300\n",
            "23400\n",
            "23500\n",
            "23600\n",
            "23700\n",
            "23800\n",
            "23900\n",
            "24000\n",
            "24100\n",
            "24200\n",
            "24300\n",
            "24400\n",
            "24500\n",
            "24600\n",
            "24700\n",
            "24800\n",
            "24900\n",
            "25000\n",
            "25100\n",
            "25200\n",
            "25300\n",
            "25400\n",
            "25500\n",
            "25600\n",
            "25700\n",
            "25800\n",
            "25900\n",
            "26000\n",
            "26100\n",
            "26200\n",
            "26300\n",
            "26400\n",
            "26500\n",
            "26600\n",
            "26700\n",
            "26800\n",
            "26900\n",
            "27000\n",
            "27100\n",
            "27200\n",
            "27300\n",
            "27400\n",
            "27500\n",
            "27600\n",
            "27700\n",
            "27800\n",
            "27900\n",
            "28000\n",
            "28100\n",
            "28200\n",
            "28300\n",
            "28400\n",
            "28500\n",
            "28600\n",
            "28700\n",
            "28800\n",
            "28900\n",
            "29000\n",
            "29100\n",
            "29200\n",
            "29300\n",
            "29400\n",
            "29500\n",
            "29600\n",
            "29700\n",
            "29800\n",
            "29900\n",
            "30000\n",
            "30100\n",
            "30200\n",
            "30300\n",
            "30400\n",
            "30500\n",
            "30600\n",
            "30700\n",
            "30800\n",
            "30900\n",
            "31000\n",
            "31100\n",
            "31200\n",
            "31300\n",
            "31400\n",
            "31500\n",
            "31600\n",
            "31700\n",
            "31800\n",
            "31900\n",
            "32000\n",
            "32100\n",
            "32200\n",
            "32300\n",
            "32400\n",
            "32500\n",
            "32600\n",
            "32700\n",
            "32800\n",
            "32900\n",
            "33000\n",
            "33100\n",
            "33200\n",
            "33300\n",
            "33400\n",
            "33500\n",
            "33600\n",
            "33700\n",
            "33800\n",
            "33900\n",
            "34000\n",
            "34100\n",
            "34200\n",
            "34300\n",
            "34400\n",
            "34500\n",
            "34600\n",
            "34700\n",
            "34800\n",
            "34900\n",
            "35000\n",
            "35100\n",
            "35200\n",
            "35300\n",
            "35400\n",
            "35500\n",
            "35600\n",
            "35700\n",
            "35800\n",
            "35900\n",
            "36000\n",
            "36100\n",
            "36200\n",
            "36300\n",
            "36400\n",
            "36500\n",
            "36600\n",
            "36700\n",
            "36800\n",
            "36900\n",
            "37000\n",
            "37100\n",
            "37200\n",
            "37300\n",
            "37400\n",
            "37500\n",
            "37600\n",
            "37700\n",
            "37800\n",
            "37900\n",
            "38000\n",
            "38100\n",
            "38200\n",
            "38300\n",
            "38400\n",
            "38500\n",
            "38600\n",
            "38700\n",
            "38800\n",
            "38900\n",
            "39000\n",
            "39100\n",
            "39200\n",
            "39300\n",
            "39400\n",
            "39500\n",
            "39600\n",
            "39700\n",
            "39800\n",
            "39900\n",
            "40000\n",
            "40100\n",
            "40200\n",
            "40300\n",
            "40400\n",
            "40500\n",
            "40600\n",
            "40700\n",
            "40800\n",
            "40900\n",
            "41000\n",
            "41100\n",
            "41200\n",
            "41300\n",
            "41400\n",
            "41500\n",
            "41600\n",
            "41700\n",
            "41800\n",
            "41900\n",
            "42000\n",
            "42100\n",
            "42200\n",
            "42300\n",
            "42400\n",
            "42500\n",
            "42600\n",
            "42700\n",
            "42800\n",
            "42900\n",
            "43000\n",
            "43100\n",
            "43200\n",
            "43300\n",
            "43400\n",
            "43500\n",
            "43600\n",
            "43700\n",
            "43800\n",
            "43900\n",
            "44000\n",
            "44100\n",
            "44200\n",
            "44300\n",
            "44400\n",
            "44500\n",
            "44600\n",
            "44700\n",
            "44800\n",
            "44900\n",
            "45000\n",
            "45100\n",
            "45200\n",
            "45300\n",
            "45400\n",
            "45500\n",
            "45600\n",
            "45700\n",
            "45800\n",
            "45900\n",
            "46000\n",
            "46100\n",
            "46200\n",
            "46300\n",
            "46400\n",
            "46500\n",
            "46600\n",
            "46700\n",
            "46800\n",
            "46900\n",
            "47000\n",
            "47100\n",
            "47200\n",
            "47300\n",
            "47400\n",
            "47500\n",
            "47600\n",
            "47700\n",
            "47800\n",
            "47900\n",
            "48000\n",
            "48100\n",
            "48200\n",
            "48300\n",
            "48400\n",
            "48500\n",
            "48600\n",
            "48700\n"
          ],
          "name": "stdout"
        }
      ]
    },
    {
      "cell_type": "code",
      "metadata": {
        "id": "rHsJzhh9oIgE"
      },
      "source": [
        "stopwords = ['از','به','با','را','در','برای',\n",
        "             'که','ازاینرو','این','ان','آن','ها',\n",
        "             'آنجا','اینجا','ازجمله','ازروی','ازلحاظ','اش',\n",
        "             'ات','ام','اید','تان','شان','مان',\n",
        "             'الان','اند','انکه','او','ایم','اینطور',\n",
        "             'انطور','اگر','اگرچه','رو','ب','اگه',\n",
        "             'بلکه','تا','مثل','مثلا','مانند','ما',\n",
        "             'من','ک','فلذا','لذا','فلان','های',\n",
        "             'هایی','چه','هم','اما','چون','تو','توی','و','البته']"
      ],
      "execution_count": 124,
      "outputs": []
    },
    {
      "cell_type": "code",
      "metadata": {
        "colab": {
          "base_uri": "https://localhost:8080/"
        },
        "id": "8d2xTwO8bwwu",
        "outputId": "5cf71824-f7f6-4d94-8e45-bfc3346f1711"
      },
      "source": [
        "nplemmas = np.array(lemmas) \n",
        "nostopwords = [[token for token in token_row if token not in stopwords] for token_row in nplemmas]\n",
        "nostopwords = np.array(nostopwords)\n",
        "model2 = gensim.models.Word2Vec(nostopwords, min_count = 5, size = 150, window = 5,sg=0) "
      ],
      "execution_count": 125,
      "outputs": [
        {
          "output_type": "stream",
          "text": [
            "/usr/local/lib/python3.6/dist-packages/ipykernel_launcher.py:1: VisibleDeprecationWarning: Creating an ndarray from ragged nested sequences (which is a list-or-tuple of lists-or-tuples-or ndarrays with different lengths or shapes) is deprecated. If you meant to do this, you must specify 'dtype=object' when creating the ndarray\n",
            "  \"\"\"Entry point for launching an IPython kernel.\n",
            "/usr/local/lib/python3.6/dist-packages/ipykernel_launcher.py:3: VisibleDeprecationWarning: Creating an ndarray from ragged nested sequences (which is a list-or-tuple of lists-or-tuples-or ndarrays with different lengths or shapes) is deprecated. If you meant to do this, you must specify 'dtype=object' when creating the ndarray\n",
            "  This is separate from the ipykernel package so we can avoid doing imports until\n",
            "WARNING:gensim.models.base_any2vec:consider setting layer size to a multiple of 4 for greater performance\n"
          ],
          "name": "stderr"
        }
      ]
    },
    {
      "cell_type": "code",
      "metadata": {
        "id": "1r-aj13wse3i",
        "colab": {
          "base_uri": "https://localhost:8080/"
        },
        "outputId": "61566ac5-3006-43da-f7a6-0d4975565bb3"
      },
      "source": [
        "nptokens = np.array(tokens) "
      ],
      "execution_count": 10,
      "outputs": [
        {
          "output_type": "stream",
          "text": [
            "/usr/local/lib/python3.6/dist-packages/ipykernel_launcher.py:1: VisibleDeprecationWarning: Creating an ndarray from ragged nested sequences (which is a list-or-tuple of lists-or-tuples-or ndarrays with different lengths or shapes) is deprecated. If you meant to do this, you must specify 'dtype=object' when creating the ndarray\n",
            "  \"\"\"Entry point for launching an IPython kernel.\n"
          ],
          "name": "stderr"
        }
      ]
    },
    {
      "cell_type": "code",
      "metadata": {
        "id": "hlza1_MLIxiK"
      },
      "source": [
        "nostopwords = [[token for token in token_row if token not in stopwords] for token_row in nptokens]"
      ],
      "execution_count": 36,
      "outputs": []
    },
    {
      "cell_type": "code",
      "metadata": {
        "colab": {
          "base_uri": "https://localhost:8080/"
        },
        "id": "6f_QCsmlLVek",
        "outputId": "f4f887bd-45f7-43dc-9d4f-a26861726476"
      },
      "source": [
        "nostopwords = np.array(nostopwords)"
      ],
      "execution_count": 37,
      "outputs": [
        {
          "output_type": "stream",
          "text": [
            "/usr/local/lib/python3.6/dist-packages/ipykernel_launcher.py:1: VisibleDeprecationWarning: Creating an ndarray from ragged nested sequences (which is a list-or-tuple of lists-or-tuples-or ndarrays with different lengths or shapes) is deprecated. If you meant to do this, you must specify 'dtype=object' when creating the ndarray\n",
            "  \"\"\"Entry point for launching an IPython kernel.\n"
          ],
          "name": "stderr"
        }
      ]
    },
    {
      "cell_type": "code",
      "metadata": {
        "id": "w0_ZyLoqdSwZ",
        "colab": {
          "base_uri": "https://localhost:8080/"
        },
        "outputId": "8bdf59eb-f3e8-4195-fc3d-640e9011c7e9"
      },
      "source": [
        "model1 = gensim.models.Word2Vec(nostopwords, min_count = 5, size = 150, window = 5,sg=0) "
      ],
      "execution_count": 56,
      "outputs": [
        {
          "output_type": "stream",
          "text": [
            "WARNING:gensim.models.base_any2vec:consider setting layer size to a multiple of 4 for greater performance\n"
          ],
          "name": "stderr"
        }
      ]
    },
    {
      "cell_type": "code",
      "metadata": {
        "id": "4YD01QBLb_Y9"
      },
      "source": [
        "model = model2"
      ],
      "execution_count": 126,
      "outputs": []
    },
    {
      "cell_type": "markdown",
      "metadata": {
        "id": "ZHH5xG5XY2Fx"
      },
      "source": [
        "##Similar words"
      ]
    },
    {
      "cell_type": "code",
      "metadata": {
        "colab": {
          "base_uri": "https://localhost:8080/"
        },
        "id": "T_0aDNXfXf4k",
        "outputId": "18acce18-699e-4cf0-c40f-b1d123ca2c39"
      },
      "source": [
        "result = model.most_similar_cosmul(positive=['خوب', 'ممنون'], negative=['متوسط'])\n",
        "result"
      ],
      "execution_count": 127,
      "outputs": [
        {
          "output_type": "stream",
          "text": [
            "/usr/local/lib/python3.6/dist-packages/ipykernel_launcher.py:1: DeprecationWarning: Call to deprecated `most_similar_cosmul` (Method will be removed in 4.0.0, use self.wv.most_similar_cosmul() instead).\n",
            "  \"\"\"Entry point for launching an IPython kernel.\n"
          ],
          "name": "stderr"
        },
        {
          "output_type": "execute_result",
          "data": {
            "text/plain": [
              "[('ممنونم', 1.217738151550293),\n",
              " ('مرسی', 1.2057101726531982),\n",
              " ('باتشکر', 1.0966006517410278),\n",
              " ('خوشحال', 1.0696691274642944),\n",
              " ('متشکرم', 1.0283514261245728),\n",
              " ('منم', 1.008921504020691),\n",
              " ('چیکار', 0.9849681258201599),\n",
              " ('تشکر', 0.9819313287734985),\n",
              " ('منتظرن', 0.9698219895362854),\n",
              " ('ناراحت', 0.9582756757736206)]"
            ]
          },
          "metadata": {
            "tags": []
          },
          "execution_count": 127
        }
      ]
    },
    {
      "cell_type": "code",
      "metadata": {
        "colab": {
          "base_uri": "https://localhost:8080/"
        },
        "id": "-aY5_JBwXpCi",
        "outputId": "612c69ab-55b2-4a7a-ba0f-f8c9b9ec7358"
      },
      "source": [
        "result = model.most_similar_cosmul(positive=['متوسط', 'معمولی'], negative=['قبول'])\n",
        "result"
      ],
      "execution_count": 128,
      "outputs": [
        {
          "output_type": "stream",
          "text": [
            "/usr/local/lib/python3.6/dist-packages/ipykernel_launcher.py:1: DeprecationWarning: Call to deprecated `most_similar_cosmul` (Method will be removed in 4.0.0, use self.wv.most_similar_cosmul() instead).\n",
            "  \"\"\"Entry point for launching an IPython kernel.\n"
          ],
          "name": "stderr"
        },
        {
          "output_type": "execute_result",
          "data": {
            "text/plain": [
              "[('مداوم', 1.6772860288619995),\n",
              " ('حداکثر', 1.5063202381134033),\n",
              " ('روزمره', 1.5013855695724487),\n",
              " ('روزانه', 1.494766116142273),\n",
              " ('عادی', 1.351321816444397),\n",
              " ('وایفای', 1.3003267049789429),\n",
              " ('دوام', 1.2970870733261108),\n",
              " ('یکسره', 1.288082242012024),\n",
              " ('معمول', 1.2732313871383667),\n",
              " ('حین', 1.270707130432129)]"
            ]
          },
          "metadata": {
            "tags": []
          },
          "execution_count": 128
        }
      ]
    },
    {
      "cell_type": "code",
      "metadata": {
        "colab": {
          "base_uri": "https://localhost:8080/"
        },
        "id": "ccmAR-oRXw0K",
        "outputId": "3bff720e-0c64-4507-d970-27c4c2940179"
      },
      "source": [
        "result = model.most_similar_cosmul(positive=['موبایل', 'گوشی'], negative=['کامپیوتر'])\n",
        "result"
      ],
      "execution_count": 129,
      "outputs": [
        {
          "output_type": "stream",
          "text": [
            "/usr/local/lib/python3.6/dist-packages/ipykernel_launcher.py:1: DeprecationWarning: Call to deprecated `most_similar_cosmul` (Method will be removed in 4.0.0, use self.wv.most_similar_cosmul() instead).\n",
            "  \"\"\"Entry point for launching an IPython kernel.\n"
          ],
          "name": "stderr"
        },
        {
          "output_type": "execute_result",
          "data": {
            "text/plain": [
              "[('پرچمدار', 1.195145845413208),\n",
              " ('گوشیه', 1.192892074584961),\n",
              " ('گوشیا', 1.1809098720550537),\n",
              " ('غول', 1.1321289539337158),\n",
              " ('میان', 1.0753382444381714),\n",
              " ('برند', 1.068725824356079),\n",
              " ('فبلت', 1.0516146421432495),\n",
              " ('کمپانی', 1.0365526676177979),\n",
              " ('گوشیهاش', 1.0211732387542725),\n",
              " ('z1', 1.0174870491027832)]"
            ]
          },
          "metadata": {
            "tags": []
          },
          "execution_count": 129
        }
      ]
    },
    {
      "cell_type": "code",
      "metadata": {
        "colab": {
          "base_uri": "https://localhost:8080/"
        },
        "id": "Casbdwykucjp",
        "outputId": "a999582c-b299-4303-d823-6ee6ee22da98"
      },
      "source": [
        "result = model.most_similar_cosmul(positive=['سامسونگ', 'گوشی'], negative=['هواوی'])\n",
        "result"
      ],
      "execution_count": 155,
      "outputs": [
        {
          "output_type": "stream",
          "text": [
            "/usr/local/lib/python3.6/dist-packages/ipykernel_launcher.py:1: DeprecationWarning: Call to deprecated `most_similar_cosmul` (Method will be removed in 4.0.0, use self.wv.most_similar_cosmul() instead).\n",
            "  \"\"\"Entry point for launching an IPython kernel.\n"
          ],
          "name": "stderr"
        },
        {
          "output_type": "execute_result",
          "data": {
            "text/plain": [
              "[('دستگاه', 0.8232766389846802),\n",
              " ('تبلت', 0.8201547861099243),\n",
              " ('طوری', 0.8194299340248108),\n",
              " ('محصول', 0.8046111464500427),\n",
              " ('اون', 0.7765718102455139),\n",
              " ('گوشیه', 0.7650086879730225),\n",
              " ('نگه', 0.7641287446022034),\n",
              " ('هاش', 0.7637757658958435),\n",
              " ('قلم', 0.7628539800643921),\n",
              " ('طراحی', 0.761163592338562)]"
            ]
          },
          "metadata": {
            "tags": []
          },
          "execution_count": 155
        }
      ]
    },
    {
      "cell_type": "markdown",
      "metadata": {
        "id": "q6fzDrfEWvBH"
      },
      "source": [
        "!pip uninstall torch\n",
        "!pip install torch\n"
      ]
    },
    {
      "cell_type": "markdown",
      "metadata": {
        "id": "on6AuvKwn7OD"
      },
      "source": [
        "##Test word2vec Model"
      ]
    },
    {
      "cell_type": "code",
      "metadata": {
        "colab": {
          "base_uri": "https://localhost:8080/"
        },
        "id": "ekNIm7mCdp3f",
        "outputId": "1a9f8415-c68d-4e54-e84d-6284cbcff4e7"
      },
      "source": [
        "model.similarity('بد', 'عالی')"
      ],
      "execution_count": 134,
      "outputs": [
        {
          "output_type": "stream",
          "text": [
            "/usr/local/lib/python3.6/dist-packages/ipykernel_launcher.py:1: DeprecationWarning: Call to deprecated `similarity` (Method will be removed in 4.0.0, use self.wv.similarity() instead).\n",
            "  \"\"\"Entry point for launching an IPython kernel.\n"
          ],
          "name": "stderr"
        },
        {
          "output_type": "execute_result",
          "data": {
            "text/plain": [
              "0.35581672"
            ]
          },
          "metadata": {
            "tags": []
          },
          "execution_count": 134
        }
      ]
    },
    {
      "cell_type": "code",
      "metadata": {
        "colab": {
          "base_uri": "https://localhost:8080/"
        },
        "id": "MPKzZJ7ud9KA",
        "outputId": "2bf7c901-5944-4bdf-8bd0-e75e18da428d"
      },
      "source": [
        "model.similarity('بو', 'طعم')"
      ],
      "execution_count": 135,
      "outputs": [
        {
          "output_type": "stream",
          "text": [
            "/usr/local/lib/python3.6/dist-packages/ipykernel_launcher.py:1: DeprecationWarning: Call to deprecated `similarity` (Method will be removed in 4.0.0, use self.wv.similarity() instead).\n",
            "  \"\"\"Entry point for launching an IPython kernel.\n"
          ],
          "name": "stderr"
        },
        {
          "output_type": "execute_result",
          "data": {
            "text/plain": [
              "0.5344515"
            ]
          },
          "metadata": {
            "tags": []
          },
          "execution_count": 135
        }
      ]
    },
    {
      "cell_type": "code",
      "metadata": {
        "colab": {
          "base_uri": "https://localhost:8080/"
        },
        "id": "RikLZMMdhI_a",
        "outputId": "5cff5d23-62ff-4117-e6a5-55c5e7cc2344"
      },
      "source": [
        "model.similarity('سفید', 'عالی')"
      ],
      "execution_count": 136,
      "outputs": [
        {
          "output_type": "stream",
          "text": [
            "/usr/local/lib/python3.6/dist-packages/ipykernel_launcher.py:1: DeprecationWarning: Call to deprecated `similarity` (Method will be removed in 4.0.0, use self.wv.similarity() instead).\n",
            "  \"\"\"Entry point for launching an IPython kernel.\n"
          ],
          "name": "stderr"
        },
        {
          "output_type": "execute_result",
          "data": {
            "text/plain": [
              "-0.04576087"
            ]
          },
          "metadata": {
            "tags": []
          },
          "execution_count": 136
        }
      ]
    },
    {
      "cell_type": "code",
      "metadata": {
        "colab": {
          "base_uri": "https://localhost:8080/"
        },
        "id": "4WiBZGSihMgF",
        "outputId": "ad654c1f-4b72-4625-f8fe-66e410ebe1a8"
      },
      "source": [
        "model.similarity('بد', 'خش')"
      ],
      "execution_count": 137,
      "outputs": [
        {
          "output_type": "stream",
          "text": [
            "/usr/local/lib/python3.6/dist-packages/ipykernel_launcher.py:1: DeprecationWarning: Call to deprecated `similarity` (Method will be removed in 4.0.0, use self.wv.similarity() instead).\n",
            "  \"\"\"Entry point for launching an IPython kernel.\n"
          ],
          "name": "stderr"
        },
        {
          "output_type": "execute_result",
          "data": {
            "text/plain": [
              "0.25489292"
            ]
          },
          "metadata": {
            "tags": []
          },
          "execution_count": 137
        }
      ]
    },
    {
      "cell_type": "code",
      "metadata": {
        "colab": {
          "base_uri": "https://localhost:8080/"
        },
        "id": "YTCrC7u4hOu7",
        "outputId": "0e9b8639-ffa8-4447-eeee-ed5b84045ce6"
      },
      "source": [
        "model.similarity('بد', 'تیره')"
      ],
      "execution_count": 138,
      "outputs": [
        {
          "output_type": "stream",
          "text": [
            "/usr/local/lib/python3.6/dist-packages/ipykernel_launcher.py:1: DeprecationWarning: Call to deprecated `similarity` (Method will be removed in 4.0.0, use self.wv.similarity() instead).\n",
            "  \"\"\"Entry point for launching an IPython kernel.\n"
          ],
          "name": "stderr"
        },
        {
          "output_type": "execute_result",
          "data": {
            "text/plain": [
              "0.04512664"
            ]
          },
          "metadata": {
            "tags": []
          },
          "execution_count": 138
        }
      ]
    },
    {
      "cell_type": "code",
      "metadata": {
        "colab": {
          "base_uri": "https://localhost:8080/"
        },
        "id": "GnXeuu6vhRcN",
        "outputId": "69f65c14-9fdc-458a-8601-206c2b1484ab"
      },
      "source": [
        "model.similarity('دار', 'دوست')"
      ],
      "execution_count": 144,
      "outputs": [
        {
          "output_type": "stream",
          "text": [
            "/usr/local/lib/python3.6/dist-packages/ipykernel_launcher.py:1: DeprecationWarning: Call to deprecated `similarity` (Method will be removed in 4.0.0, use self.wv.similarity() instead).\n",
            "  \"\"\"Entry point for launching an IPython kernel.\n"
          ],
          "name": "stderr"
        },
        {
          "output_type": "execute_result",
          "data": {
            "text/plain": [
              "-0.022625789"
            ]
          },
          "metadata": {
            "tags": []
          },
          "execution_count": 144
        }
      ]
    },
    {
      "cell_type": "code",
      "metadata": {
        "colab": {
          "base_uri": "https://localhost:8080/"
        },
        "id": "dHt4wqXyhVNp",
        "outputId": "2b7791b5-2c7e-4be0-9a6f-c2bb627234b8"
      },
      "source": [
        "model.similarity('ندار', 'دوست')"
      ],
      "execution_count": 143,
      "outputs": [
        {
          "output_type": "stream",
          "text": [
            "/usr/local/lib/python3.6/dist-packages/ipykernel_launcher.py:1: DeprecationWarning: Call to deprecated `similarity` (Method will be removed in 4.0.0, use self.wv.similarity() instead).\n",
            "  \"\"\"Entry point for launching an IPython kernel.\n"
          ],
          "name": "stderr"
        },
        {
          "output_type": "execute_result",
          "data": {
            "text/plain": [
              "0.054005112"
            ]
          },
          "metadata": {
            "tags": []
          },
          "execution_count": 143
        }
      ]
    },
    {
      "cell_type": "code",
      "metadata": {
        "colab": {
          "base_uri": "https://localhost:8080/"
        },
        "id": "oSJRzD1phXgE",
        "outputId": "59db46cf-a668-45b1-f089-f08ca0da9a6a"
      },
      "source": [
        "model.similarity('عالی', 'مرسی')"
      ],
      "execution_count": 145,
      "outputs": [
        {
          "output_type": "stream",
          "text": [
            "/usr/local/lib/python3.6/dist-packages/ipykernel_launcher.py:1: DeprecationWarning: Call to deprecated `similarity` (Method will be removed in 4.0.0, use self.wv.similarity() instead).\n",
            "  \"\"\"Entry point for launching an IPython kernel.\n"
          ],
          "name": "stderr"
        },
        {
          "output_type": "execute_result",
          "data": {
            "text/plain": [
              "-0.2248378"
            ]
          },
          "metadata": {
            "tags": []
          },
          "execution_count": 145
        }
      ]
    },
    {
      "cell_type": "code",
      "metadata": {
        "colab": {
          "base_uri": "https://localhost:8080/"
        },
        "id": "lSiHb_4ShaYW",
        "outputId": "92c57397-374a-4ef7-bbe1-9fccdae66ab3"
      },
      "source": [
        "model.similarity('مرسی', 'ممنون')"
      ],
      "execution_count": 146,
      "outputs": [
        {
          "output_type": "stream",
          "text": [
            "/usr/local/lib/python3.6/dist-packages/ipykernel_launcher.py:1: DeprecationWarning: Call to deprecated `similarity` (Method will be removed in 4.0.0, use self.wv.similarity() instead).\n",
            "  \"\"\"Entry point for launching an IPython kernel.\n"
          ],
          "name": "stderr"
        },
        {
          "output_type": "execute_result",
          "data": {
            "text/plain": [
              "0.7241453"
            ]
          },
          "metadata": {
            "tags": []
          },
          "execution_count": 146
        }
      ]
    },
    {
      "cell_type": "code",
      "metadata": {
        "colab": {
          "base_uri": "https://localhost:8080/"
        },
        "id": "AbhMTKzphffB",
        "outputId": "bf5ecf22-164c-42d1-d17d-351014300271"
      },
      "source": [
        "model.similarity('تشکر', 'ممنون')\n"
      ],
      "execution_count": 147,
      "outputs": [
        {
          "output_type": "stream",
          "text": [
            "/usr/local/lib/python3.6/dist-packages/ipykernel_launcher.py:1: DeprecationWarning: Call to deprecated `similarity` (Method will be removed in 4.0.0, use self.wv.similarity() instead).\n",
            "  \"\"\"Entry point for launching an IPython kernel.\n"
          ],
          "name": "stderr"
        },
        {
          "output_type": "execute_result",
          "data": {
            "text/plain": [
              "0.61821705"
            ]
          },
          "metadata": {
            "tags": []
          },
          "execution_count": 147
        }
      ]
    },
    {
      "cell_type": "code",
      "metadata": {
        "colab": {
          "base_uri": "https://localhost:8080/"
        },
        "id": "vLMaY0IyhiMo",
        "outputId": "5ada8e9f-a9d9-4201-9fb1-b8c51e7bbe65"
      },
      "source": [
        "model.similarity('افتضاح', 'ممنون')"
      ],
      "execution_count": 148,
      "outputs": [
        {
          "output_type": "stream",
          "text": [
            "/usr/local/lib/python3.6/dist-packages/ipykernel_launcher.py:1: DeprecationWarning: Call to deprecated `similarity` (Method will be removed in 4.0.0, use self.wv.similarity() instead).\n",
            "  \"\"\"Entry point for launching an IPython kernel.\n"
          ],
          "name": "stderr"
        },
        {
          "output_type": "execute_result",
          "data": {
            "text/plain": [
              "-0.2729264"
            ]
          },
          "metadata": {
            "tags": []
          },
          "execution_count": 148
        }
      ]
    },
    {
      "cell_type": "code",
      "metadata": {
        "colab": {
          "base_uri": "https://localhost:8080/"
        },
        "id": "NkMnNwjmhkrX",
        "outputId": "36a696e8-1b30-4b11-c4c4-e6c485906532"
      },
      "source": [
        "model.similarity('مرسی', 'افتضاح')"
      ],
      "execution_count": 149,
      "outputs": [
        {
          "output_type": "stream",
          "text": [
            "/usr/local/lib/python3.6/dist-packages/ipykernel_launcher.py:1: DeprecationWarning: Call to deprecated `similarity` (Method will be removed in 4.0.0, use self.wv.similarity() instead).\n",
            "  \"\"\"Entry point for launching an IPython kernel.\n"
          ],
          "name": "stderr"
        },
        {
          "output_type": "execute_result",
          "data": {
            "text/plain": [
              "-0.37194964"
            ]
          },
          "metadata": {
            "tags": []
          },
          "execution_count": 149
        }
      ]
    },
    {
      "cell_type": "code",
      "metadata": {
        "colab": {
          "base_uri": "https://localhost:8080/"
        },
        "id": "MH544dLRhm_m",
        "outputId": "7bfca94f-c35e-417f-ce71-d3c4635db172"
      },
      "source": [
        "model.similarity('توقع', 'سفید')"
      ],
      "execution_count": 150,
      "outputs": [
        {
          "output_type": "stream",
          "text": [
            "/usr/local/lib/python3.6/dist-packages/ipykernel_launcher.py:1: DeprecationWarning: Call to deprecated `similarity` (Method will be removed in 4.0.0, use self.wv.similarity() instead).\n",
            "  \"\"\"Entry point for launching an IPython kernel.\n"
          ],
          "name": "stderr"
        },
        {
          "output_type": "execute_result",
          "data": {
            "text/plain": [
              "-0.098697655"
            ]
          },
          "metadata": {
            "tags": []
          },
          "execution_count": 150
        }
      ]
    },
    {
      "cell_type": "code",
      "metadata": {
        "colab": {
          "base_uri": "https://localhost:8080/"
        },
        "id": "ElHjUmvXhqPT",
        "outputId": "00d7528c-6787-474b-afc9-b856a1217e8b"
      },
      "source": [
        "model.similarity('خوب', 'بد')"
      ],
      "execution_count": 151,
      "outputs": [
        {
          "output_type": "stream",
          "text": [
            "/usr/local/lib/python3.6/dist-packages/ipykernel_launcher.py:1: DeprecationWarning: Call to deprecated `similarity` (Method will be removed in 4.0.0, use self.wv.similarity() instead).\n",
            "  \"\"\"Entry point for launching an IPython kernel.\n"
          ],
          "name": "stderr"
        },
        {
          "output_type": "execute_result",
          "data": {
            "text/plain": [
              "0.5028223"
            ]
          },
          "metadata": {
            "tags": []
          },
          "execution_count": 151
        }
      ]
    },
    {
      "cell_type": "markdown",
      "metadata": {
        "id": "01XtfZlOjJoE"
      },
      "source": [
        "#CNN"
      ]
    },
    {
      "cell_type": "code",
      "metadata": {
        "id": "ZtwuofwQkpka"
      },
      "source": [
        "from sklearn.metrics import accuracy_score, f1_score, confusion_matrix\n",
        "\n",
        "\n",
        "def evaluation(y_test, y_pred, fig_name, title):\n",
        "    '''\n",
        "    Prints accuracy and F1-score and plots confusion matrix and saves result image.\n",
        "\n",
        "    Parameters:\n",
        "        y_test (numpy.ndarray) : test labels (ground truth)\n",
        "        y_pred (numpy.ndarray) : predicted labels \n",
        "        fig_name (str): The name of the image of the plot.\n",
        "        title (str): The caption of the plot.\n",
        "    '''\n",
        "\n",
        "    acc = accuracy_score(y_test, y_pred)\n",
        "    print('Accuracy for', title, '=', acc)\n",
        "    f1 = f1_score(y_test, y_pred, average = 'macro')\n",
        "    print('F1 score for', title, '=', f1)\n",
        "    cm = confusion_matrix(y_test, y_pred)\n",
        "    df_cm = pd.DataFrame(cm, range(10), range(10))\n",
        "    plt.figure(figsize = (10, 7))\n",
        "    sn.set(font_scale = 1.4) # for label size\n",
        "    sn.heatmap(df_cm , annot = True, annot_kws = {\"size\" : 16}, fmt = 'g') # font size\n",
        "    plt.title(title)\n",
        "    plt.savefig(fig_name + '.png')\n",
        "    plt.show()"
      ],
      "execution_count": 28,
      "outputs": []
    },
    {
      "cell_type": "code",
      "metadata": {
        "colab": {
          "base_uri": "https://localhost:8080/",
          "height": 1000
        },
        "id": "RrnIdS5TkWCc",
        "outputId": "8dea2b59-3021-4f11-c809-177c2cec52f2"
      },
      "source": [
        "def inception_module(layer_in, f1, f2, f3):\n",
        "\tconv1 = Conv2D(f1, (1,1), padding='same', activation='relu')(layer_in)\n",
        "\tconv3 = Conv2D(f2, (3,3), padding='same', activation='relu')(layer_in)\n",
        "\tconv51 = Conv2D(f3, (3,3), padding='same', activation='relu')(layer_in)\n",
        "\tconv5 = Conv2D(f3, (3,3), padding='same', activation='relu')(conv51)\n",
        "\tpool = MaxPooling2D((3,3), strides=(1,1), padding='same')(layer_in)\n",
        "\tlayer_out = concatenate([conv1, conv3, conv5, pool], axis=-1)\n",
        "\treturn layer_out\n",
        " \n",
        "visible = Input(shape=(28,28,1))\n",
        "# convlayer = naive_inception_module(visible, 64, 64, 32)\n",
        "conv1 = Conv2D(32, (3,3), padding='same', activation='relu')(visible)\n",
        "conv1 = Conv2D(16, (3,3), padding='same', activation='relu')(visible)\n",
        "pool1 = MaxPooling2D((3,3), strides=(1,1), padding='same')(conv1)\n",
        "# inception = inception_module(pool1, 32, 64, 16)\n",
        "# pool2 = MaxPooling2D((3,3), strides=(1,1), padding='same')(inception)\n",
        "# gavgpool = GlobalAveragePooling2D()(pool2)\n",
        "gavgpool = Flatten()(pool1)\n",
        "dens1 = Dense(64, activation='relu')(gavgpool)\n",
        "# dens2 = Dense(128, activation='relu')(dens1, activation='relu')\n",
        "drop2 = Dropout(0.2)(dens1)\n",
        "dens3 = Dense(32, activation='relu')(drop2)\n",
        "dens4 = Dense(10, activation='sigmoid')(dens3)\n",
        "model = Model(inputs=visible, outputs=dens4)\n",
        "\n",
        "model.summary()\n",
        "plot_model(model, show_shapes=True, to_file='naive_inception_module.png')"
      ],
      "execution_count": 30,
      "outputs": [
        {
          "output_type": "stream",
          "text": [
            "Model: \"model\"\n",
            "_________________________________________________________________\n",
            "Layer (type)                 Output Shape              Param #   \n",
            "=================================================================\n",
            "input_1 (InputLayer)         [(None, 28, 28, 1)]       0         \n",
            "_________________________________________________________________\n",
            "conv2d_1 (Conv2D)            (None, 28, 28, 16)        160       \n",
            "_________________________________________________________________\n",
            "max_pooling2d (MaxPooling2D) (None, 28, 28, 16)        0         \n",
            "_________________________________________________________________\n",
            "flatten (Flatten)            (None, 12544)             0         \n",
            "_________________________________________________________________\n",
            "dense (Dense)                (None, 64)                802880    \n",
            "_________________________________________________________________\n",
            "dropout (Dropout)            (None, 64)                0         \n",
            "_________________________________________________________________\n",
            "dense_1 (Dense)              (None, 32)                2080      \n",
            "_________________________________________________________________\n",
            "dense_2 (Dense)              (None, 10)                330       \n",
            "=================================================================\n",
            "Total params: 805,450\n",
            "Trainable params: 805,450\n",
            "Non-trainable params: 0\n",
            "_________________________________________________________________\n"
          ],
          "name": "stdout"
        },
        {
          "output_type": "execute_result",
          "data": {
            "image/png": "[encoded data removed]",
            "text/plain": [
              "<IPython.core.display.Image object>"
            ]
          },
          "metadata": {
            "tags": []
          },
          "execution_count": 30
        }
      ]
    },
    {
      "cell_type": "code",
      "metadata": {
        "id": "L_1YLOwFktu1"
      },
      "source": [
        "y = to_categorical(y_train)\n",
        "x = x_train/255\n",
        "x = np.expand_dims(x,3)\n",
        "x_testn = x_test/255\n",
        "x_testn = np.expand_dims(x_testn,3)\n",
        "model.compile(optimizer='adam', loss = 'categorical_crossentropy', metrics = ['accuracy'])\n",
        "checkpoint = ModelCheckpoint('model.h5', verbose=1, monitor='val_accuracy',save_best_only=True,save_weights_only=True, mode='auto')  \n",
        "with tf.device('/device:GPU:0'):\n",
        "  start_time = time.time()\n",
        "  history = model.fit(x=x,y = y,validation_split=0.2 ,epochs=25,batch_size =1000,callbacks=[checkpoint])\n",
        "  print(\"--- %s seconds ---\" % (time.time() - start_time))"
      ],
      "execution_count": null,
      "outputs": []
    }
  ]
}