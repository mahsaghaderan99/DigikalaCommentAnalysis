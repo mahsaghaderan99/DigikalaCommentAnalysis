{
  "nbformat": 4,
  "nbformat_minor": 0,
  "metadata": {
    "colab": {
      "name": "comment_analysis.ipynb",
      "provenance": [],
      "collapsed_sections": [
        "EHdscTCirHZh",
        "FxYtjv-oq12t",
        "UEcOSQvSq7Bl",
        "b4as7wxxEueB",
        "HnYgEHt8E2Oo",
        "ZHH5xG5XY2Fx",
        "on6AuvKwn7OD",
        "DJaW-7P0vkEa",
        "Yr1opjZnwOIa",
        "9ejL6z21x3mH"
      ],
      "mount_file_id": "1NUW9Boa819KPbp-rGfijNc3qkweGJIaV",
      "authorship_tag": "ABX9TyPi/7fQeGu5TqS8BVT3vqPh",
      "include_colab_link": true
    },
    "kernelspec": {
      "name": "python3",
      "display_name": "Python 3"
    },
    "accelerator": "GPU"
  },
  "cells": [
    {
      "cell_type": "markdown",
      "metadata": {
        "id": "view-in-github",
        "colab_type": "text"
      },
      "source": [
        "<a href=\"https://colab.research.google.com/github/mahsaghaderan99/DigikalaCommentAnalysis/blob/cnn/comment_analysis.ipynb\" target=\"_parent\"><img src=\"https://colab.research.google.com/assets/colab-badge.svg\" alt=\"Open In Colab\"/></a>"
      ]
    },
    {
      "cell_type": "markdown",
      "metadata": {
        "id": "EHdscTCirHZh"
      },
      "source": [
        "#Installation"
      ]
    },
    {
      "cell_type": "code",
      "metadata": {
        "id": "ocIxrDHloNot",
        "colab": {
          "base_uri": "https://localhost:8080/"
        },
        "outputId": "2b0cc5d2-cbec-4b75-b4a0-70baf3ef6ee6"
      },
      "source": [
        "!pip install stanza -U"
      ],
      "execution_count": 1,
      "outputs": [
        {
          "output_type": "stream",
          "text": [
            "Requirement already up-to-date: stanza in /usr/local/lib/python3.6/dist-packages (1.1.1)\n",
            "Requirement already satisfied, skipping upgrade: protobuf in /usr/local/lib/python3.6/dist-packages (from stanza) (3.12.4)\n",
            "Requirement already satisfied, skipping upgrade: torch>=1.3.0 in /usr/local/lib/python3.6/dist-packages (from stanza) (1.7.0+cu101)\n",
            "Requirement already satisfied, skipping upgrade: tqdm in /usr/local/lib/python3.6/dist-packages (from stanza) (4.41.1)\n",
            "Requirement already satisfied, skipping upgrade: numpy in /usr/local/lib/python3.6/dist-packages (from stanza) (1.19.4)\n",
            "Requirement already satisfied, skipping upgrade: requests in /usr/local/lib/python3.6/dist-packages (from stanza) (2.23.0)\n",
            "Requirement already satisfied, skipping upgrade: setuptools in /usr/local/lib/python3.6/dist-packages (from protobuf->stanza) (51.1.1)\n",
            "Requirement already satisfied, skipping upgrade: six>=1.9 in /usr/local/lib/python3.6/dist-packages (from protobuf->stanza) (1.15.0)\n",
            "Requirement already satisfied, skipping upgrade: typing-extensions in /usr/local/lib/python3.6/dist-packages (from torch>=1.3.0->stanza) (3.7.4.3)\n",
            "Requirement already satisfied, skipping upgrade: dataclasses in /usr/local/lib/python3.6/dist-packages (from torch>=1.3.0->stanza) (0.8)\n",
            "Requirement already satisfied, skipping upgrade: future in /usr/local/lib/python3.6/dist-packages (from torch>=1.3.0->stanza) (0.16.0)\n",
            "Requirement already satisfied, skipping upgrade: urllib3!=1.25.0,!=1.25.1,<1.26,>=1.21.1 in /usr/local/lib/python3.6/dist-packages (from requests->stanza) (1.24.3)\n",
            "Requirement already satisfied, skipping upgrade: certifi>=2017.4.17 in /usr/local/lib/python3.6/dist-packages (from requests->stanza) (2020.12.5)\n",
            "Requirement already satisfied, skipping upgrade: chardet<4,>=3.0.2 in /usr/local/lib/python3.6/dist-packages (from requests->stanza) (3.0.4)\n",
            "Requirement already satisfied, skipping upgrade: idna<3,>=2.5 in /usr/local/lib/python3.6/dist-packages (from requests->stanza) (2.10)\n"
          ],
          "name": "stdout"
        }
      ]
    },
    {
      "cell_type": "markdown",
      "metadata": {
        "id": "FxYtjv-oq12t"
      },
      "source": [
        "#Imports"
      ]
    },
    {
      "cell_type": "code",
      "metadata": {
        "id": "fYlcRYzcnwpF"
      },
      "source": [
        "import stanza\n",
        "import numpy as np\n",
        "import pandas as pd \n",
        "import string\n",
        "import cv2\n",
        "import matplotlib.pyplot as plt\n",
        "import seaborn as sn"
      ],
      "execution_count": 150,
      "outputs": []
    },
    {
      "cell_type": "code",
      "metadata": {
        "id": "e8kenI7qdXl9"
      },
      "source": [
        "import gensim \n",
        "from gensim.models import Word2Vec "
      ],
      "execution_count": 151,
      "outputs": []
    },
    {
      "cell_type": "code",
      "metadata": {
        "id": "69Qw-xlukaN6"
      },
      "source": [
        "from keras.utils import plot_model\n",
        "from keras.models import Model\n",
        "from keras.layers import Input\n",
        "from keras.layers import Dense\n",
        "from keras.layers import Flatten\n",
        "from keras.layers.convolutional import Conv2D\n",
        "from keras.layers.pooling import MaxPooling2D\n",
        "from keras.layers.merge import concatenate\n",
        "from keras.utils import to_categorical\n",
        "from keras.layers import Dropout\n",
        "from keras.layers import GlobalAveragePooling2D\n",
        "import tensorflow as tf\n",
        "from keras.callbacks import ModelCheckpoint \n",
        "from sklearn.model_selection import train_test_split\n",
        "from sklearn.utils import shuffle\n",
        "import time"
      ],
      "execution_count": 152,
      "outputs": []
    },
    {
      "cell_type": "markdown",
      "metadata": {
        "id": "Vo79iVPLENRY"
      },
      "source": [
        "#Configs"
      ]
    },
    {
      "cell_type": "code",
      "metadata": {
        "id": "puxeOMIg2yyJ"
      },
      "source": [
        "vectsize = 150\n",
        "wordnum = 10\n",
        "partofdb = 1\n",
        "samplenum = 60035"
      ],
      "execution_count": 200,
      "outputs": []
    },
    {
      "cell_type": "code",
      "metadata": {
        "id": "rHsJzhh9oIgE"
      },
      "source": [
        "stopwords = ['از','به','با','را','در','برای',\n",
        "             'که','ازاینرو','این','ان','آن','ها',\n",
        "             'آنجا','اینجا','ازجمله','ازروی','ازلحاظ','اش',\n",
        "             'ات','ام','اید','تان','شان','مان',\n",
        "             'الان','اند','انکه','او','ایم','اینطور',\n",
        "             'انطور','اگر','اگرچه','رو','ب','اگه',\n",
        "             'بلکه','تا','مثل','مثلا','مانند','ما',\n",
        "             'من','ک','فلذا','لذا','فلان','های',\n",
        "             'هایی','چه','هم','اما','چون','تو','توی','و',\n",
        "             'البته','یه','یک','یا','هر','اینکه','ای','شما',\n",
        "             '1','2','3','4','5','6','دو','اون']"
      ],
      "execution_count": 154,
      "outputs": []
    },
    {
      "cell_type": "markdown",
      "metadata": {
        "id": "UEcOSQvSq7Bl"
      },
      "source": [
        "#Data preparation"
      ]
    },
    {
      "cell_type": "code",
      "metadata": {
        "id": "rCAnMJuTyzrA"
      },
      "source": [
        "#Save text file into drive\n",
        "\n",
        "# !ls /content/drive/MyDrive\n",
        "# !mkdir /content/drive/MyDrive/digikala\n",
        "# !cp /content/digikala_dataset.txt /content/drive/MyDrive/digikala"
      ],
      "execution_count": null,
      "outputs": []
    },
    {
      "cell_type": "code",
      "metadata": {
        "id": "StlSM7Z8zRi4"
      },
      "source": [
        "x = []\n",
        "y = []\n",
        "with open('/content/drive/MyDrive/digikala/digikala_dataset.txt','r') as f:\n",
        "  for line in f:\n",
        "    index = line.find('\\t')\n",
        "    dy = line[:index]\n",
        "    dx = line[index+1:]\n",
        "    x.append(dx)\n",
        "    y.append(dy)\n"
      ],
      "execution_count": null,
      "outputs": []
    },
    {
      "cell_type": "code",
      "metadata": {
        "id": "j3XzcoBj439_"
      },
      "source": [
        "x = np.array(x)\n",
        "y = np.array(y)"
      ],
      "execution_count": null,
      "outputs": []
    },
    {
      "cell_type": "code",
      "metadata": {
        "id": "lLsmkixkGObW"
      },
      "source": [
        "punkts = {\n",
        "    '!':' ',\n",
        "    ')':' ',\n",
        "    '(':' ',\n",
        "    \"'\":' ',\n",
        "    '.':' ',\n",
        "    ':':' ',\n",
        "    '-':' ',\n",
        "    ',':' ',\n",
        "    '*':' ',\n",
        "    '/':' ',\n",
        "    '[':' ',\n",
        "    ']':' ',\n",
        "    '?':' ',\n",
        "    '؟':' ',\n",
        "    '!':' ',\n",
        "    '}':' ',\n",
        "    '{':' ',\n",
        "    '@':' '\n",
        "}"
      ],
      "execution_count": null,
      "outputs": []
    },
    {
      "cell_type": "code",
      "metadata": {
        "id": "X0pm27Sk6-GS"
      },
      "source": [
        "punct = str.maketrans(punkts)\n",
        "nopunct_x = [s.translate(punct) for s in x]\n",
        "nopunct_x = [s.replace('\\n',' ').replace('\\t',' ') for s in nopunct_x]"
      ],
      "execution_count": null,
      "outputs": []
    },
    {
      "cell_type": "code",
      "metadata": {
        "colab": {
          "base_uri": "https://localhost:8080/",
          "height": 419
        },
        "id": "FWU7QXPGAuVO",
        "outputId": "c0939715-65dc-4fb5-a8b2-8c163b4b0d2f"
      },
      "source": [
        "data = {'label':y, \n",
        "        'comment':nopunct_x} \n",
        "df = pd.DataFrame(data) \n",
        "df "
      ],
      "execution_count": null,
      "outputs": [
        {
          "output_type": "execute_result",
          "data": {
            "text/html": [
              "<div>\n",
              "<style scoped>\n",
              "    .dataframe tbody tr th:only-of-type {\n",
              "        vertical-align: middle;\n",
              "    }\n",
              "\n",
              "    .dataframe tbody tr th {\n",
              "        vertical-align: top;\n",
              "    }\n",
              "\n",
              "    .dataframe thead th {\n",
              "        text-align: right;\n",
              "    }\n",
              "</style>\n",
              "<table border=\"1\" class=\"dataframe\">\n",
              "  <thead>\n",
              "    <tr style=\"text-align: right;\">\n",
              "      <th></th>\n",
              "      <th>label</th>\n",
              "      <th>comment</th>\n",
              "    </tr>\n",
              "  </thead>\n",
              "  <tbody>\n",
              "    <tr>\n",
              "      <th>0</th>\n",
              "      <td>0</td>\n",
              "      <td>لطفا رنگ سفید رو هم موجود کنید</td>\n",
              "    </tr>\n",
              "    <tr>\n",
              "      <th>1</th>\n",
              "      <td>0</td>\n",
              "      <td>با سلام؛ من همین الان میخواستم نوک مدادی بخرم ...</td>\n",
              "    </tr>\n",
              "    <tr>\n",
              "      <th>2</th>\n",
              "      <td>0</td>\n",
              "      <td>من یه روز گذاشتم شارژ 12 روز شارژ داشت</td>\n",
              "    </tr>\n",
              "    <tr>\n",
              "      <th>3</th>\n",
              "      <td>0</td>\n",
              "      <td>برای خاموش کردن نوار چراغ پایین گوشی از برنامه...</td>\n",
              "    </tr>\n",
              "    <tr>\n",
              "      <th>4</th>\n",
              "      <td>0</td>\n",
              "      <td>سلام بر دیجی کالا من میخواستم امروز بخرم ولی ا...</td>\n",
              "    </tr>\n",
              "    <tr>\n",
              "      <th>...</th>\n",
              "      <td>...</td>\n",
              "      <td>...</td>\n",
              "    </tr>\n",
              "    <tr>\n",
              "      <th>200756</th>\n",
              "      <td>0</td>\n",
              "      <td>لطفا موجود کنین</td>\n",
              "    </tr>\n",
              "    <tr>\n",
              "      <th>200757</th>\n",
              "      <td>-1</td>\n",
              "      <td>من 1 ساله دارمش واقعا بده  هنگ زیاد داغ شدن زی...</td>\n",
              "    </tr>\n",
              "    <tr>\n",
              "      <th>200758</th>\n",
              "      <td>0</td>\n",
              "      <td>اگه دو سیمشم بیاری دیجی کالا و نقد و بررسی هم ...</td>\n",
              "    </tr>\n",
              "    <tr>\n",
              "      <th>200759</th>\n",
              "      <td>1</td>\n",
              "      <td>سلام من این گوشیو 2هفته پیش خریدم البته ایم بگ...</td>\n",
              "    </tr>\n",
              "    <tr>\n",
              "      <th>200760</th>\n",
              "      <td>0</td>\n",
              "      <td>مردیم بابا مشکی رو جور کنید دیجییی</td>\n",
              "    </tr>\n",
              "  </tbody>\n",
              "</table>\n",
              "<p>200761 rows × 2 columns</p>\n",
              "</div>"
            ],
            "text/plain": [
              "       label                                            comment\n",
              "0          0                    لطفا رنگ سفید رو هم موجود کنید \n",
              "1          0  با سلام؛ من همین الان میخواستم نوک مدادی بخرم ...\n",
              "2          0            من یه روز گذاشتم شارژ 12 روز شارژ داشت \n",
              "3          0  برای خاموش کردن نوار چراغ پایین گوشی از برنامه...\n",
              "4          0  سلام بر دیجی کالا من میخواستم امروز بخرم ولی ا...\n",
              "...      ...                                                ...\n",
              "200756     0                                   لطفا موجود کنین \n",
              "200757    -1  من 1 ساله دارمش واقعا بده  هنگ زیاد داغ شدن زی...\n",
              "200758     0  اگه دو سیمشم بیاری دیجی کالا و نقد و بررسی هم ...\n",
              "200759     1  سلام من این گوشیو 2هفته پیش خریدم البته ایم بگ...\n",
              "200760     0                 مردیم بابا مشکی رو جور کنید دیجییی\n",
              "\n",
              "[200761 rows x 2 columns]"
            ]
          },
          "metadata": {
            "tags": []
          },
          "execution_count": 30
        }
      ]
    },
    {
      "cell_type": "code",
      "metadata": {
        "id": "1qYWfaoZDf49"
      },
      "source": [
        "#create csv file\n",
        "# !touch /content/drive/MyDrive/digikala/digikala.csv"
      ],
      "execution_count": null,
      "outputs": []
    },
    {
      "cell_type": "code",
      "metadata": {
        "id": "Qp8UxsnTBvbd"
      },
      "source": [
        "df.to_csv ('/content/drive/MyDrive/digikala/digikala.csv', index = False, header=True)"
      ],
      "execution_count": null,
      "outputs": []
    },
    {
      "cell_type": "markdown",
      "metadata": {
        "id": "PGcCo6MeDw84"
      },
      "source": [
        "#Tokenize"
      ]
    },
    {
      "cell_type": "markdown",
      "metadata": {
        "id": "050DDkayoB7W"
      },
      "source": [
        "###LOad Dataset"
      ]
    },
    {
      "cell_type": "code",
      "metadata": {
        "id": "D7KhDcFcEoYr"
      },
      "source": [
        "df = pd.read_csv('/content/drive/MyDrive/digikala/digikala.csv')"
      ],
      "execution_count": 4,
      "outputs": []
    },
    {
      "cell_type": "code",
      "metadata": {
        "id": "z__Bq7cKFqHW"
      },
      "source": [
        "label = np.array(df['label'])\n",
        "clean_com = np.array(df['comment'])"
      ],
      "execution_count": 155,
      "outputs": []
    },
    {
      "cell_type": "code",
      "metadata": {
        "id": "8vOc__TnoAHp",
        "colab": {
          "base_uri": "https://localhost:8080/"
        },
        "outputId": "9242f8b3-f875-4194-cec4-dfb287b4319e"
      },
      "source": [
        "stanza.download('fa') "
      ],
      "execution_count": 6,
      "outputs": [
        {
          "output_type": "stream",
          "text": [
            "Downloading https://raw.githubusercontent.com/stanfordnlp/stanza-resources/master/resources_1.1.0.json: 122kB [00:00, 30.0MB/s]                    \n",
            "2021-01-08 11:04:06 INFO: Downloading default packages for language: fa (Persian)...\n",
            "2021-01-08 11:04:06 INFO: File exists: /root/stanza_resources/fa/default.zip.\n",
            "2021-01-08 11:04:09 INFO: Finished downloading models and saved to /root/stanza_resources.\n"
          ],
          "name": "stderr"
        }
      ]
    },
    {
      "cell_type": "code",
      "metadata": {
        "id": "qLx0x8pt4l-o"
      },
      "source": [
        "# clean_com, label = shuffle(clean_com, label, random_state=0)\n",
        "neg = np.argwhere(label == -1)\n",
        "pos = np.argwhere(label == 1)\n",
        "zero = np.argwhere(label == 0)\n",
        "np.random.shuffle(zero)\n",
        "zero = zero[:10000]\n",
        "zero = np.concatenate((zero,pos,neg)).flatten()\n",
        "np.random.shuffle(zero)"
      ],
      "execution_count": 197,
      "outputs": []
    },
    {
      "cell_type": "code",
      "metadata": {
        "id": "ZCOajULiDWtI"
      },
      "source": [
        "partedx = clean_com[zero]\n",
        "partedy = label[zero]"
      ],
      "execution_count": 198,
      "outputs": []
    },
    {
      "cell_type": "code",
      "metadata": {
        "colab": {
          "base_uri": "https://localhost:8080/"
        },
        "id": "ynKKLBbWd8RG",
        "outputId": "a46476fb-e83e-4dc5-c3f3-9f520f588fe6"
      },
      "source": [
        "len(partedy)"
      ],
      "execution_count": 199,
      "outputs": [
        {
          "output_type": "execute_result",
          "data": {
            "text/plain": [
              "60035"
            ]
          },
          "metadata": {
            "tags": []
          },
          "execution_count": 199
        }
      ]
    },
    {
      "cell_type": "markdown",
      "metadata": {
        "id": "7tsI2LfwErUe"
      },
      "source": [
        "###model1\n",
        "tokenizee + skip grams"
      ]
    },
    {
      "cell_type": "code",
      "metadata": {
        "id": "6u49iW22EYev",
        "colab": {
          "base_uri": "https://localhost:8080/"
        },
        "outputId": "5295905f-80ca-4042-fbba-00a4ab92cf62"
      },
      "source": [
        "nlp = stanza.Pipeline(processors='tokenize', lang='fa', tokenize_pretokenized=True, use_gpu=True)\n",
        "tokens = []\n",
        "for row in partedx:\n",
        "  doc = nlp(row)\n",
        "  try:\n",
        "    sentence = list(doc.sentences)[0]\n",
        "    tokenz = np.array([token.text for token in sentence.tokens])\n",
        "  except:\n",
        "    print(doc.sentences)\n",
        "    tokenz=[]\n",
        "  tokens.append(tokenz)\n",
        "  "
      ],
      "execution_count": 201,
      "outputs": [
        {
          "output_type": "stream",
          "text": [
            "2021-01-08 12:21:16 INFO: Loading these models for language: fa (Persian):\n",
            "=======================\n",
            "| Processor | Package |\n",
            "-----------------------\n",
            "| tokenize  | seraji  |\n",
            "=======================\n",
            "\n",
            "2021-01-08 12:21:16 INFO: Use device: gpu\n",
            "2021-01-08 12:21:16 INFO: Loading: tokenize\n",
            "2021-01-08 12:21:16 INFO: Done loading processors!\n"
          ],
          "name": "stderr"
        }
      ]
    },
    {
      "cell_type": "code",
      "metadata": {
        "colab": {
          "base_uri": "https://localhost:8080/"
        },
        "id": "hlza1_MLIxiK",
        "outputId": "62d236e1-eb4f-4d68-ce66-6cb871ac51f1"
      },
      "source": [
        "nptokens = np.array(tokens) \n",
        "nostopwords = [[token for token in token_row if token not in stopwords] for token_row in nptokens]\n",
        "nostopwords = np.array(nostopwords)\n",
        "model1 = gensim.models.Word2Vec(nostopwords, min_count = 5, size = vectsize, window = 5,sg=0) "
      ],
      "execution_count": 202,
      "outputs": [
        {
          "output_type": "stream",
          "text": [
            "/usr/local/lib/python3.6/dist-packages/ipykernel_launcher.py:1: VisibleDeprecationWarning: Creating an ndarray from ragged nested sequences (which is a list-or-tuple of lists-or-tuples-or ndarrays with different lengths or shapes) is deprecated. If you meant to do this, you must specify 'dtype=object' when creating the ndarray\n",
            "  \"\"\"Entry point for launching an IPython kernel.\n",
            "/usr/local/lib/python3.6/dist-packages/ipykernel_launcher.py:3: VisibleDeprecationWarning: Creating an ndarray from ragged nested sequences (which is a list-or-tuple of lists-or-tuples-or ndarrays with different lengths or shapes) is deprecated. If you meant to do this, you must specify 'dtype=object' when creating the ndarray\n",
            "  This is separate from the ipykernel package so we can avoid doing imports until\n"
          ],
          "name": "stderr"
        }
      ]
    },
    {
      "cell_type": "markdown",
      "metadata": {
        "id": "b4as7wxxEueB"
      },
      "source": [
        "###model2\n",
        "\n",
        "lemmatizer + CBOW\n",
        "\n",
        "This part use half of data due its long run time!"
      ]
    },
    {
      "cell_type": "code",
      "metadata": {
        "id": "wG5PVnf1ohkv"
      },
      "source": [
        "nlplemm = stanza.Pipeline(processors='tokenize,lemma', lang='fa',use_gpu=True)\n",
        "lemmas = []\n",
        "i =0\n",
        "for row in partedx:\n",
        "  if i%1000 == 0: print(i)\n",
        "  i +=1\n",
        "  try:\n",
        "    sentence = list(nlplemm(row).sentences)[0]\n",
        "    lemmas.append([word.lemma for word in sentence.words if word.lemma != None])\n",
        "  except:\n",
        "    print(doc.sentences)\n",
        "    continue"
      ],
      "execution_count": null,
      "outputs": []
    },
    {
      "cell_type": "code",
      "metadata": {
        "colab": {
          "base_uri": "https://localhost:8080/"
        },
        "id": "8d2xTwO8bwwu",
        "outputId": "9340b6d2-3f4a-48e5-df5f-167c91e2ca6a"
      },
      "source": [
        "nplemmas = np.array(lemmas) \n",
        "nostopwords = [[token for token in token_row if token not in stopwords] for token_row in nplemmas]\n",
        "nostopwords = np.array(nostopwords)\n",
        "model2 = gensim.models.Word2Vec(nostopwords, min_count = 3, size = vectsize, window = 5,sg=0) "
      ],
      "execution_count": null,
      "outputs": [
        {
          "output_type": "stream",
          "text": [
            "/usr/local/lib/python3.6/dist-packages/ipykernel_launcher.py:1: VisibleDeprecationWarning: Creating an ndarray from ragged nested sequences (which is a list-or-tuple of lists-or-tuples-or ndarrays with different lengths or shapes) is deprecated. If you meant to do this, you must specify 'dtype=object' when creating the ndarray\n",
            "  \"\"\"Entry point for launching an IPython kernel.\n",
            "/usr/local/lib/python3.6/dist-packages/ipykernel_launcher.py:3: VisibleDeprecationWarning: Creating an ndarray from ragged nested sequences (which is a list-or-tuple of lists-or-tuples-or ndarrays with different lengths or shapes) is deprecated. If you meant to do this, you must specify 'dtype=object' when creating the ndarray\n",
            "  This is separate from the ipykernel package so we can avoid doing imports until\n",
            "WARNING:gensim.models.base_any2vec:consider setting layer size to a multiple of 4 for greater performance\n"
          ],
          "name": "stderr"
        }
      ]
    },
    {
      "cell_type": "markdown",
      "metadata": {
        "id": "HnYgEHt8E2Oo"
      },
      "source": [
        "###choose model"
      ]
    },
    {
      "cell_type": "code",
      "metadata": {
        "id": "4YD01QBLb_Y9"
      },
      "source": [
        "model = model1"
      ],
      "execution_count": 203,
      "outputs": []
    },
    {
      "cell_type": "markdown",
      "metadata": {
        "id": "ZHH5xG5XY2Fx"
      },
      "source": [
        "##Similar words"
      ]
    },
    {
      "cell_type": "code",
      "metadata": {
        "colab": {
          "base_uri": "https://localhost:8080/"
        },
        "id": "T_0aDNXfXf4k",
        "outputId": "6c764c2c-d074-474f-da99-0d71e7342314"
      },
      "source": [
        "result = model.most_similar_cosmul(positive=['خوب', 'ممنون'], negative=['متوسط'])\n",
        "result"
      ],
      "execution_count": null,
      "outputs": [
        {
          "output_type": "stream",
          "text": [
            "/usr/local/lib/python3.6/dist-packages/ipykernel_launcher.py:1: DeprecationWarning: Call to deprecated `most_similar_cosmul` (Method will be removed in 4.0.0, use self.wv.most_similar_cosmul() instead).\n",
            "  \"\"\"Entry point for launching an IPython kernel.\n"
          ],
          "name": "stderr"
        },
        {
          "output_type": "execute_result",
          "data": {
            "text/plain": [
              "[('ممنونم', 1.0470558404922485),\n",
              " ('مرسی', 1.0181233882904053),\n",
              " ('متشکرم', 0.9466909170150757),\n",
              " ('ممنو', 0.9180619716644287),\n",
              " ('ممنوم', 0.9062881469726562),\n",
              " ('خوشحال', 0.8804005980491638),\n",
              " ('متشکر', 0.8733648657798767),\n",
              " ('تشکر', 0.847612738609314),\n",
              " ('باتشکر', 0.8362003564834595),\n",
              " ('ممنونش', 0.8347392082214355)]"
            ]
          },
          "metadata": {
            "tags": []
          },
          "execution_count": 15
        }
      ]
    },
    {
      "cell_type": "code",
      "metadata": {
        "colab": {
          "base_uri": "https://localhost:8080/"
        },
        "id": "-aY5_JBwXpCi",
        "outputId": "f42aa3c4-2a7d-4876-c152-3a178d0487b2"
      },
      "source": [
        "result = model.most_similar_cosmul(positive=['متوسط', 'معمولی'], negative=['قبول'])\n",
        "result"
      ],
      "execution_count": null,
      "outputs": [
        {
          "output_type": "stream",
          "text": [
            "/usr/local/lib/python3.6/dist-packages/ipykernel_launcher.py:1: DeprecationWarning: Call to deprecated `most_similar_cosmul` (Method will be removed in 4.0.0, use self.wv.most_similar_cosmul() instead).\n",
            "  \"\"\"Entry point for launching an IPython kernel.\n"
          ],
          "name": "stderr"
        },
        {
          "output_type": "execute_result",
          "data": {
            "text/plain": [
              "[('ترکیبی', 1.5447357892990112),\n",
              " ('ممتد', 1.5133628845214844),\n",
              " ('مداوم', 1.4331914186477661),\n",
              " ('نرمال', 1.3832614421844482),\n",
              " ('روزانه', 1.3396459817886353),\n",
              " ('روزمره', 1.2819952964782715),\n",
              " ('معمول', 1.2774665355682373),\n",
              " ('نکشی', 1.2387685775756836),\n",
              " ('سهولت', 1.2210999727249146),\n",
              " ('عادی', 1.2001959085464478)]"
            ]
          },
          "metadata": {
            "tags": []
          },
          "execution_count": 16
        }
      ]
    },
    {
      "cell_type": "code",
      "metadata": {
        "colab": {
          "base_uri": "https://localhost:8080/"
        },
        "id": "ccmAR-oRXw0K",
        "outputId": "25417c27-3323-45c8-dd81-2895dfaa8062"
      },
      "source": [
        "result = model.most_similar_cosmul(positive=['موبایل', 'گوشی'], negative=['کامپیوتر'])\n",
        "result"
      ],
      "execution_count": null,
      "outputs": [
        {
          "output_type": "stream",
          "text": [
            "/usr/local/lib/python3.6/dist-packages/ipykernel_launcher.py:1: DeprecationWarning: Call to deprecated `most_similar_cosmul` (Method will be removed in 4.0.0, use self.wv.most_similar_cosmul() instead).\n",
            "  \"\"\"Entry point for launching an IPython kernel.\n"
          ],
          "name": "stderr"
        },
        {
          "output_type": "execute_result",
          "data": {
            "text/plain": [
              "[('گوشیهای', 1.1535037755966187),\n",
              " ('گوشیه', 1.1011139154434204),\n",
              " ('فبلت', 1.0674474239349365),\n",
              " ('گوشیو', 0.978054940700531),\n",
              " ('گوشیها', 0.953982412815094),\n",
              " ('گوشیای', 0.9519391655921936),\n",
              " ('پرچمداران', 0.9375668168067932),\n",
              " ('تبلت', 0.9226328134536743),\n",
              " ('s6', 0.9191224575042725),\n",
              " ('گوشیهایی', 0.916860044002533)]"
            ]
          },
          "metadata": {
            "tags": []
          },
          "execution_count": 17
        }
      ]
    },
    {
      "cell_type": "code",
      "metadata": {
        "colab": {
          "base_uri": "https://localhost:8080/"
        },
        "id": "Casbdwykucjp",
        "outputId": "717ac239-fa47-4eb6-b0de-f6f2da98dc5b"
      },
      "source": [
        "result = model.most_similar_cosmul(positive=['سامسونگ', 'گوشی'], negative=['هواوی'])\n",
        "result"
      ],
      "execution_count": null,
      "outputs": [
        {
          "output_type": "stream",
          "text": [
            "/usr/local/lib/python3.6/dist-packages/ipykernel_launcher.py:1: DeprecationWarning: Call to deprecated `most_similar_cosmul` (Method will be removed in 4.0.0, use self.wv.most_similar_cosmul() instead).\n",
            "  \"\"\"Entry point for launching an IPython kernel.\n"
          ],
          "name": "stderr"
        },
        {
          "output_type": "execute_result",
          "data": {
            "text/plain": [
              "[('دستگاه', 0.8933578133583069),\n",
              " ('آیفون', 0.8378643989562988),\n",
              " ('تبلت', 0.8332229852676392),\n",
              " ('فبلت', 0.8310238718986511),\n",
              " ('گوشیه', 0.823602557182312),\n",
              " ('قلم', 0.8118154406547546),\n",
              " ('گوشیهای', 0.8037421703338623),\n",
              " ('خمیده', 0.7968593835830688),\n",
              " ('گجت', 0.7861220240592957),\n",
              " ('ایفون', 0.7834344506263733)]"
            ]
          },
          "metadata": {
            "tags": []
          },
          "execution_count": 18
        }
      ]
    },
    {
      "cell_type": "markdown",
      "metadata": {
        "id": "q6fzDrfEWvBH"
      },
      "source": [
        "!pip uninstall torch\n",
        "!pip install torch\n"
      ]
    },
    {
      "cell_type": "markdown",
      "metadata": {
        "id": "on6AuvKwn7OD"
      },
      "source": [
        "##Test word2vec Model"
      ]
    },
    {
      "cell_type": "code",
      "metadata": {
        "colab": {
          "base_uri": "https://localhost:8080/"
        },
        "id": "ekNIm7mCdp3f",
        "outputId": "c5899b91-fb85-4e18-ffd4-5a900a0cd4d3"
      },
      "source": [
        "model.similarity('بد', 'عالی')"
      ],
      "execution_count": null,
      "outputs": [
        {
          "output_type": "stream",
          "text": [
            "/usr/local/lib/python3.6/dist-packages/ipykernel_launcher.py:1: DeprecationWarning: Call to deprecated `similarity` (Method will be removed in 4.0.0, use self.wv.similarity() instead).\n",
            "  \"\"\"Entry point for launching an IPython kernel.\n"
          ],
          "name": "stderr"
        },
        {
          "output_type": "execute_result",
          "data": {
            "text/plain": [
              "0.381894"
            ]
          },
          "metadata": {
            "tags": []
          },
          "execution_count": 53
        }
      ]
    },
    {
      "cell_type": "code",
      "metadata": {
        "colab": {
          "base_uri": "https://localhost:8080/"
        },
        "id": "MPKzZJ7ud9KA",
        "outputId": "80f69d6d-a23d-467a-80b9-96b13b4758f3"
      },
      "source": [
        "model.similarity('بو', 'طعم')"
      ],
      "execution_count": null,
      "outputs": [
        {
          "output_type": "stream",
          "text": [
            "/usr/local/lib/python3.6/dist-packages/ipykernel_launcher.py:1: DeprecationWarning: Call to deprecated `similarity` (Method will be removed in 4.0.0, use self.wv.similarity() instead).\n",
            "  \"\"\"Entry point for launching an IPython kernel.\n"
          ],
          "name": "stderr"
        },
        {
          "output_type": "execute_result",
          "data": {
            "text/plain": [
              "0.41394544"
            ]
          },
          "metadata": {
            "tags": []
          },
          "execution_count": 54
        }
      ]
    },
    {
      "cell_type": "code",
      "metadata": {
        "colab": {
          "base_uri": "https://localhost:8080/"
        },
        "id": "RikLZMMdhI_a",
        "outputId": "5cf8af07-d1dd-4d5c-fd16-92a5615fa5ee"
      },
      "source": [
        "model.similarity('سفید', 'عالی')"
      ],
      "execution_count": null,
      "outputs": [
        {
          "output_type": "stream",
          "text": [
            "/usr/local/lib/python3.6/dist-packages/ipykernel_launcher.py:1: DeprecationWarning: Call to deprecated `similarity` (Method will be removed in 4.0.0, use self.wv.similarity() instead).\n",
            "  \"\"\"Entry point for launching an IPython kernel.\n"
          ],
          "name": "stderr"
        },
        {
          "output_type": "execute_result",
          "data": {
            "text/plain": [
              "-0.03201149"
            ]
          },
          "metadata": {
            "tags": []
          },
          "execution_count": 55
        }
      ]
    },
    {
      "cell_type": "code",
      "metadata": {
        "colab": {
          "base_uri": "https://localhost:8080/"
        },
        "id": "4WiBZGSihMgF",
        "outputId": "fa98e5bb-2e32-4880-f7ba-8052fdfb9f5e"
      },
      "source": [
        "model.similarity('بد', 'خش')"
      ],
      "execution_count": null,
      "outputs": [
        {
          "output_type": "stream",
          "text": [
            "/usr/local/lib/python3.6/dist-packages/ipykernel_launcher.py:1: DeprecationWarning: Call to deprecated `similarity` (Method will be removed in 4.0.0, use self.wv.similarity() instead).\n",
            "  \"\"\"Entry point for launching an IPython kernel.\n"
          ],
          "name": "stderr"
        },
        {
          "output_type": "execute_result",
          "data": {
            "text/plain": [
              "0.2002462"
            ]
          },
          "metadata": {
            "tags": []
          },
          "execution_count": 56
        }
      ]
    },
    {
      "cell_type": "code",
      "metadata": {
        "colab": {
          "base_uri": "https://localhost:8080/"
        },
        "id": "YTCrC7u4hOu7",
        "outputId": "ebae9fae-6ec0-40c4-81cb-848271ee8267"
      },
      "source": [
        "model.similarity('بد', 'تیره')"
      ],
      "execution_count": null,
      "outputs": [
        {
          "output_type": "stream",
          "text": [
            "/usr/local/lib/python3.6/dist-packages/ipykernel_launcher.py:1: DeprecationWarning: Call to deprecated `similarity` (Method will be removed in 4.0.0, use self.wv.similarity() instead).\n",
            "  \"\"\"Entry point for launching an IPython kernel.\n"
          ],
          "name": "stderr"
        },
        {
          "output_type": "execute_result",
          "data": {
            "text/plain": [
              "0.1302752"
            ]
          },
          "metadata": {
            "tags": []
          },
          "execution_count": 57
        }
      ]
    },
    {
      "cell_type": "code",
      "metadata": {
        "colab": {
          "base_uri": "https://localhost:8080/"
        },
        "id": "GnXeuu6vhRcN",
        "outputId": "fe07c144-e957-4588-d77c-bada6aa8de07"
      },
      "source": [
        "model.similarity('دار', 'دوست')"
      ],
      "execution_count": null,
      "outputs": [
        {
          "output_type": "stream",
          "text": [
            "/usr/local/lib/python3.6/dist-packages/ipykernel_launcher.py:1: DeprecationWarning: Call to deprecated `similarity` (Method will be removed in 4.0.0, use self.wv.similarity() instead).\n",
            "  \"\"\"Entry point for launching an IPython kernel.\n"
          ],
          "name": "stderr"
        },
        {
          "output_type": "execute_result",
          "data": {
            "text/plain": [
              "-0.16194682"
            ]
          },
          "metadata": {
            "tags": []
          },
          "execution_count": 58
        }
      ]
    },
    {
      "cell_type": "code",
      "metadata": {
        "colab": {
          "base_uri": "https://localhost:8080/"
        },
        "id": "dHt4wqXyhVNp",
        "outputId": "ac26dab3-eff4-4051-c2a8-973ef96f389f"
      },
      "source": [
        "model.similarity('ندار', 'دوست')"
      ],
      "execution_count": null,
      "outputs": [
        {
          "output_type": "stream",
          "text": [
            "/usr/local/lib/python3.6/dist-packages/ipykernel_launcher.py:1: DeprecationWarning: Call to deprecated `similarity` (Method will be removed in 4.0.0, use self.wv.similarity() instead).\n",
            "  \"\"\"Entry point for launching an IPython kernel.\n"
          ],
          "name": "stderr"
        },
        {
          "output_type": "execute_result",
          "data": {
            "text/plain": [
              "-0.051829193"
            ]
          },
          "metadata": {
            "tags": []
          },
          "execution_count": 59
        }
      ]
    },
    {
      "cell_type": "code",
      "metadata": {
        "colab": {
          "base_uri": "https://localhost:8080/"
        },
        "id": "oSJRzD1phXgE",
        "outputId": "53a88ae8-b256-4bdd-dcfd-7d59c37e4667"
      },
      "source": [
        "model.similarity('عالی', 'مرسی')"
      ],
      "execution_count": null,
      "outputs": [
        {
          "output_type": "stream",
          "text": [
            "/usr/local/lib/python3.6/dist-packages/ipykernel_launcher.py:1: DeprecationWarning: Call to deprecated `similarity` (Method will be removed in 4.0.0, use self.wv.similarity() instead).\n",
            "  \"\"\"Entry point for launching an IPython kernel.\n"
          ],
          "name": "stderr"
        },
        {
          "output_type": "execute_result",
          "data": {
            "text/plain": [
              "-0.16090499"
            ]
          },
          "metadata": {
            "tags": []
          },
          "execution_count": 60
        }
      ]
    },
    {
      "cell_type": "code",
      "metadata": {
        "colab": {
          "base_uri": "https://localhost:8080/"
        },
        "id": "lSiHb_4ShaYW",
        "outputId": "ca99b751-1575-4f9b-dc69-362eb9ce0b33"
      },
      "source": [
        "model.similarity('مرسی', 'ممنون')"
      ],
      "execution_count": null,
      "outputs": [
        {
          "output_type": "stream",
          "text": [
            "/usr/local/lib/python3.6/dist-packages/ipykernel_launcher.py:1: DeprecationWarning: Call to deprecated `similarity` (Method will be removed in 4.0.0, use self.wv.similarity() instead).\n",
            "  \"\"\"Entry point for launching an IPython kernel.\n"
          ],
          "name": "stderr"
        },
        {
          "output_type": "execute_result",
          "data": {
            "text/plain": [
              "0.7638013"
            ]
          },
          "metadata": {
            "tags": []
          },
          "execution_count": 61
        }
      ]
    },
    {
      "cell_type": "code",
      "metadata": {
        "colab": {
          "base_uri": "https://localhost:8080/"
        },
        "id": "AbhMTKzphffB",
        "outputId": "929c3cbc-4ae7-4c11-df24-decf60f031a1"
      },
      "source": [
        "model.similarity('تشکر', 'ممنون')\n"
      ],
      "execution_count": null,
      "outputs": [
        {
          "output_type": "stream",
          "text": [
            "/usr/local/lib/python3.6/dist-packages/ipykernel_launcher.py:1: DeprecationWarning: Call to deprecated `similarity` (Method will be removed in 4.0.0, use self.wv.similarity() instead).\n",
            "  \"\"\"Entry point for launching an IPython kernel.\n"
          ],
          "name": "stderr"
        },
        {
          "output_type": "execute_result",
          "data": {
            "text/plain": [
              "0.6739584"
            ]
          },
          "metadata": {
            "tags": []
          },
          "execution_count": 62
        }
      ]
    },
    {
      "cell_type": "code",
      "metadata": {
        "colab": {
          "base_uri": "https://localhost:8080/"
        },
        "id": "vLMaY0IyhiMo",
        "outputId": "1157c316-029a-43bd-9f5b-7bea4bb5f73a"
      },
      "source": [
        "model.similarity('افتضاح', 'ممنون')"
      ],
      "execution_count": null,
      "outputs": [
        {
          "output_type": "stream",
          "text": [
            "/usr/local/lib/python3.6/dist-packages/ipykernel_launcher.py:1: DeprecationWarning: Call to deprecated `similarity` (Method will be removed in 4.0.0, use self.wv.similarity() instead).\n",
            "  \"\"\"Entry point for launching an IPython kernel.\n"
          ],
          "name": "stderr"
        },
        {
          "output_type": "execute_result",
          "data": {
            "text/plain": [
              "-0.10391396"
            ]
          },
          "metadata": {
            "tags": []
          },
          "execution_count": 63
        }
      ]
    },
    {
      "cell_type": "code",
      "metadata": {
        "colab": {
          "base_uri": "https://localhost:8080/"
        },
        "id": "NkMnNwjmhkrX",
        "outputId": "f64a1c57-c197-42f0-bda6-5a184b292e32"
      },
      "source": [
        "model.similarity('مرسی', 'افتضاح')"
      ],
      "execution_count": null,
      "outputs": [
        {
          "output_type": "stream",
          "text": [
            "/usr/local/lib/python3.6/dist-packages/ipykernel_launcher.py:1: DeprecationWarning: Call to deprecated `similarity` (Method will be removed in 4.0.0, use self.wv.similarity() instead).\n",
            "  \"\"\"Entry point for launching an IPython kernel.\n"
          ],
          "name": "stderr"
        },
        {
          "output_type": "execute_result",
          "data": {
            "text/plain": [
              "-0.20407669"
            ]
          },
          "metadata": {
            "tags": []
          },
          "execution_count": 64
        }
      ]
    },
    {
      "cell_type": "code",
      "metadata": {
        "colab": {
          "base_uri": "https://localhost:8080/"
        },
        "id": "MH544dLRhm_m",
        "outputId": "ef6c85f7-5f85-46e6-e4d0-dcebddbd4ac9"
      },
      "source": [
        "model.similarity('توقع', 'سفید')"
      ],
      "execution_count": null,
      "outputs": [
        {
          "output_type": "stream",
          "text": [
            "/usr/local/lib/python3.6/dist-packages/ipykernel_launcher.py:1: DeprecationWarning: Call to deprecated `similarity` (Method will be removed in 4.0.0, use self.wv.similarity() instead).\n",
            "  \"\"\"Entry point for launching an IPython kernel.\n"
          ],
          "name": "stderr"
        },
        {
          "output_type": "execute_result",
          "data": {
            "text/plain": [
              "-0.12276377"
            ]
          },
          "metadata": {
            "tags": []
          },
          "execution_count": 65
        }
      ]
    },
    {
      "cell_type": "code",
      "metadata": {
        "colab": {
          "base_uri": "https://localhost:8080/"
        },
        "id": "ElHjUmvXhqPT",
        "outputId": "cc917cba-4564-4c8a-b6d6-4aea1acc9333"
      },
      "source": [
        "model.similarity('خوب', 'بد')"
      ],
      "execution_count": null,
      "outputs": [
        {
          "output_type": "stream",
          "text": [
            "/usr/local/lib/python3.6/dist-packages/ipykernel_launcher.py:1: DeprecationWarning: Call to deprecated `similarity` (Method will be removed in 4.0.0, use self.wv.similarity() instead).\n",
            "  \"\"\"Entry point for launching an IPython kernel.\n"
          ],
          "name": "stderr"
        },
        {
          "output_type": "execute_result",
          "data": {
            "text/plain": [
              "0.58526194"
            ]
          },
          "metadata": {
            "tags": []
          },
          "execution_count": 66
        }
      ]
    },
    {
      "cell_type": "code",
      "metadata": {
        "colab": {
          "base_uri": "https://localhost:8080/"
        },
        "id": "wmASa-bWnImG",
        "outputId": "b4ec37ad-7540-4be2-d2f9-69377035aa00"
      },
      "source": [
        "model.similarity('زیبا', 'قشنگ')"
      ],
      "execution_count": null,
      "outputs": [
        {
          "output_type": "stream",
          "text": [
            "/usr/local/lib/python3.6/dist-packages/ipykernel_launcher.py:1: DeprecationWarning: Call to deprecated `similarity` (Method will be removed in 4.0.0, use self.wv.similarity() instead).\n",
            "  \"\"\"Entry point for launching an IPython kernel.\n"
          ],
          "name": "stderr"
        },
        {
          "output_type": "execute_result",
          "data": {
            "text/plain": [
              "0.55045164"
            ]
          },
          "metadata": {
            "tags": []
          },
          "execution_count": 67
        }
      ]
    },
    {
      "cell_type": "code",
      "metadata": {
        "colab": {
          "base_uri": "https://localhost:8080/"
        },
        "id": "gHct-_XjnM1T",
        "outputId": "4091d583-6cc1-4dd7-c97b-9d94265e680c"
      },
      "source": [
        "model.similarity('داغ', 'گرم')"
      ],
      "execution_count": null,
      "outputs": [
        {
          "output_type": "stream",
          "text": [
            "/usr/local/lib/python3.6/dist-packages/ipykernel_launcher.py:1: DeprecationWarning: Call to deprecated `similarity` (Method will be removed in 4.0.0, use self.wv.similarity() instead).\n",
            "  \"\"\"Entry point for launching an IPython kernel.\n"
          ],
          "name": "stderr"
        },
        {
          "output_type": "execute_result",
          "data": {
            "text/plain": [
              "0.7483523"
            ]
          },
          "metadata": {
            "tags": []
          },
          "execution_count": 68
        }
      ]
    },
    {
      "cell_type": "markdown",
      "metadata": {
        "id": "DJaW-7P0vkEa"
      },
      "source": [
        "##Similar by word"
      ]
    },
    {
      "cell_type": "code",
      "metadata": {
        "colab": {
          "base_uri": "https://localhost:8080/"
        },
        "id": "4EFjqeF9vmSt",
        "outputId": "380a8e6e-f431-4cb8-952f-6e10e30b6cac"
      },
      "source": [
        " model.similar_by_word(\"گوشی\")"
      ],
      "execution_count": null,
      "outputs": [
        {
          "output_type": "stream",
          "text": [
            "/usr/local/lib/python3.6/dist-packages/ipykernel_launcher.py:1: DeprecationWarning: Call to deprecated `similar_by_word` (Method will be removed in 4.0.0, use self.wv.similar_by_word() instead).\n",
            "  \"\"\"Entry point for launching an IPython kernel.\n"
          ],
          "name": "stderr"
        },
        {
          "output_type": "execute_result",
          "data": {
            "text/plain": [
              "[('گوشیه', 0.664944052696228),\n",
              " ('تبلت', 0.5997394323348999),\n",
              " ('گوشیهای', 0.5865913033485413),\n",
              " ('فبلت', 0.5534288287162781),\n",
              " ('موبایل', 0.5393733978271484),\n",
              " ('دستگاه', 0.5358886122703552),\n",
              " ('گوشیو', 0.5237420797348022),\n",
              " ('کوشی', 0.4739921987056732),\n",
              " ('گوشیها', 0.4463856816291809),\n",
              " ('گوشیای', 0.4426014721393585)]"
            ]
          },
          "metadata": {
            "tags": []
          },
          "execution_count": 35
        }
      ]
    },
    {
      "cell_type": "code",
      "metadata": {
        "colab": {
          "base_uri": "https://localhost:8080/"
        },
        "id": "70MxvrV9vqMk",
        "outputId": "db91ffb1-31eb-4de2-9e42-5534dd1180da"
      },
      "source": [
        " model.similar_by_word(\"لپتاپ\")"
      ],
      "execution_count": null,
      "outputs": [
        {
          "output_type": "stream",
          "text": [
            "/usr/local/lib/python3.6/dist-packages/ipykernel_launcher.py:1: DeprecationWarning: Call to deprecated `similar_by_word` (Method will be removed in 4.0.0, use self.wv.similar_by_word() instead).\n",
            "  \"\"\"Entry point for launching an IPython kernel.\n"
          ],
          "name": "stderr"
        },
        {
          "output_type": "execute_result",
          "data": {
            "text/plain": [
              "[('لب', 0.6161485314369202),\n",
              " ('لپ', 0.5653797388076782),\n",
              " ('لبتاب', 0.5559527277946472),\n",
              " ('تاب', 0.5490288734436035),\n",
              " ('ویندوزی', 0.5439936518669128),\n",
              " ('کامپیوتر', 0.5369860529899597),\n",
              " ('دسک', 0.5358223915100098),\n",
              " ('تاپ', 0.5322171449661255),\n",
              " ('لپتاب', 0.5055623650550842),\n",
              " ('سرفیس', 0.5036083459854126)]"
            ]
          },
          "metadata": {
            "tags": []
          },
          "execution_count": 36
        }
      ]
    },
    {
      "cell_type": "markdown",
      "metadata": {
        "id": "Yr1opjZnwOIa"
      },
      "source": [
        "##Similarity by sentence"
      ]
    },
    {
      "cell_type": "code",
      "metadata": {
        "colab": {
          "base_uri": "https://localhost:8080/"
        },
        "id": "WMmZGErHvyyU",
        "outputId": "0e907301-21f5-4ca6-fe93-01ecbf40c43f"
      },
      "source": [
        "model.wmdistance('کتاب خیلی خوبیه', 'خواندن این کتاب را پیشنهاد میکنم')"
      ],
      "execution_count": null,
      "outputs": [
        {
          "output_type": "stream",
          "text": [
            "/usr/local/lib/python3.6/dist-packages/ipykernel_launcher.py:1: DeprecationWarning: Call to deprecated `wmdistance` (Method will be removed in 4.0.0, use self.wv.wmdistance() instead).\n",
            "  \"\"\"Entry point for launching an IPython kernel.\n"
          ],
          "name": "stderr"
        },
        {
          "output_type": "execute_result",
          "data": {
            "text/plain": [
              "6.252728066862505"
            ]
          },
          "metadata": {
            "tags": []
          },
          "execution_count": 37
        }
      ]
    },
    {
      "cell_type": "code",
      "metadata": {
        "colab": {
          "base_uri": "https://localhost:8080/"
        },
        "id": "JfK1awaav8fL",
        "outputId": "d4076b7d-d373-4ed8-8fb6-4ddf27750e39"
      },
      "source": [
        "model.wmdistance('گوشی از علادین بخری بهتری', 'خرید این عطر رو توضیه میکنم')"
      ],
      "execution_count": null,
      "outputs": [
        {
          "output_type": "stream",
          "text": [
            "/usr/local/lib/python3.6/dist-packages/ipykernel_launcher.py:1: DeprecationWarning: Call to deprecated `wmdistance` (Method will be removed in 4.0.0, use self.wv.wmdistance() instead).\n",
            "  \"\"\"Entry point for launching an IPython kernel.\n"
          ],
          "name": "stderr"
        },
        {
          "output_type": "execute_result",
          "data": {
            "text/plain": [
              "2.4633872753901165"
            ]
          },
          "metadata": {
            "tags": []
          },
          "execution_count": 38
        }
      ]
    },
    {
      "cell_type": "code",
      "metadata": {
        "colab": {
          "base_uri": "https://localhost:8080/"
        },
        "id": "62YV6aZkwIJw",
        "outputId": "0debdd41-5274-4bc9-b685-f638bbdcbe86"
      },
      "source": [
        "model.wmdistance('به معنی واقعی گوشی ناکار آمدیه', 'خرید این موبایل رو توضیه میکنم')\n"
      ],
      "execution_count": null,
      "outputs": [
        {
          "output_type": "stream",
          "text": [
            "/usr/local/lib/python3.6/dist-packages/ipykernel_launcher.py:1: DeprecationWarning: Call to deprecated `wmdistance` (Method will be removed in 4.0.0, use self.wv.wmdistance() instead).\n",
            "  \"\"\"Entry point for launching an IPython kernel.\n"
          ],
          "name": "stderr"
        },
        {
          "output_type": "execute_result",
          "data": {
            "text/plain": [
              "2.6033762720705567"
            ]
          },
          "metadata": {
            "tags": []
          },
          "execution_count": 39
        }
      ]
    },
    {
      "cell_type": "markdown",
      "metadata": {
        "id": "9ejL6z21x3mH"
      },
      "source": [
        "##Most repeted words"
      ]
    },
    {
      "cell_type": "code",
      "metadata": {
        "colab": {
          "base_uri": "https://localhost:8080/"
        },
        "id": "75ypcmEpxkGe",
        "outputId": "3698c75d-6c54-4c80-cbb6-e90c32bf69ec"
      },
      "source": [
        "model.wv.index2entity[:50]"
      ],
      "execution_count": null,
      "outputs": [
        {
          "output_type": "execute_result",
          "data": {
            "text/plain": [
              "['گوشی',\n",
              " 'خیلی',\n",
              " 'سلام',\n",
              " 'ولی',\n",
              " 'داره',\n",
              " 'میشه',\n",
              " 'هست',\n",
              " 'می',\n",
              " 'کنید',\n",
              " 'دیجی',\n",
              " 'صفحه',\n",
              " 'فقط',\n",
              " 'دوستان',\n",
              " 'نظر',\n",
              " 'همه',\n",
              " 'نیست',\n",
              " 'دیگه',\n",
              " 'کیفیت',\n",
              " 'دوربین',\n",
              " 'واقعا',\n",
              " 'کار',\n",
              " 'دارم',\n",
              " 'میکنه',\n",
              " 'کردم',\n",
              " 'لطفا',\n",
              " 'بود',\n",
              " 'کالا',\n",
              " 'باید',\n",
              " 'استفاده',\n",
              " 'نداره',\n",
              " 'عالیه',\n",
              " 'سامسونگ',\n",
              " 'است',\n",
              " 'باشه',\n",
              " 'شده',\n",
              " '،',\n",
              " 'خریدم',\n",
              " 'خوب',\n",
              " 'کنم',\n",
              " 'موجود',\n",
              " 'قیمت',\n",
              " 'بازی',\n",
              " 'بعد',\n",
              " 'مشکل',\n",
              " 'عالی',\n",
              " 'هیچ',\n",
              " 'ی',\n",
              " 'تبلت',\n",
              " 'برنامه',\n",
              " 'میکنم']"
            ]
          },
          "metadata": {
            "tags": []
          },
          "execution_count": 40
        }
      ]
    },
    {
      "cell_type": "markdown",
      "metadata": {
        "id": "JapvOvDNxfr-"
      },
      "source": [
        "#Generate features"
      ]
    },
    {
      "cell_type": "code",
      "metadata": {
        "id": "BWRrvz6m0jfz"
      },
      "source": [
        "vects = []\n",
        "emptyvect = np.ones(vectsize)* 0.01\n",
        "for sent in nostopwords:\n",
        "  vect = []\n",
        "  if len(sent) >=wordnum:\n",
        "    for word in sent[:wordnum]:\n",
        "      try:\n",
        "        vect.append(model.wv[word])\n",
        "      except:\n",
        "        vect.append(emptyvect)\n",
        "  else:\n",
        "    for word in sent:\n",
        "      try:\n",
        "        vect.append(model.wv[word])\n",
        "      except:\n",
        "        vect.append(emptyvect)\n",
        "    for i in range(0,wordnum-len(sent)):\n",
        "      vect.append(emptyvect)\n",
        "  vects.append(np.array(vect))\n",
        "  \n"
      ],
      "execution_count": 204,
      "outputs": []
    },
    {
      "cell_type": "code",
      "metadata": {
        "id": "Dpgnk9wV94lB"
      },
      "source": [
        "normvects = vects - np.min(vects)\n",
        "normvects = normvects/np.max(normvects)"
      ],
      "execution_count": 205,
      "outputs": []
    },
    {
      "cell_type": "code",
      "metadata": {
        "colab": {
          "base_uri": "https://localhost:8080/"
        },
        "id": "gzGomdYq5WGu",
        "outputId": "2ad9ecb2-b8ef-4676-b3f2-147e2cecd0dc"
      },
      "source": [
        "X = np.array(vects)\n",
        "X = np.expand_dims(X,3)\n",
        "print('X shape is',X.shape)\n",
        "Y = np.array(partedy)\n",
        "print('Y shape is ',Y.shape)"
      ],
      "execution_count": 206,
      "outputs": [
        {
          "output_type": "stream",
          "text": [
            "X shape is (60035, 10, 150, 1)\n",
            "Y shape is  (60035,)\n"
          ],
          "name": "stdout"
        }
      ]
    },
    {
      "cell_type": "code",
      "metadata": {
        "id": "gOr8Yica8cFs"
      },
      "source": [
        "X, Y = shuffle(X, Y, random_state=42)\n",
        "X_train, X_test, y_train, y_test = train_test_split(X,\n",
        "                                                    Y,\n",
        "                                                    test_size=0.20,\n",
        "                                                    random_state=42)"
      ],
      "execution_count": 207,
      "outputs": []
    },
    {
      "cell_type": "code",
      "metadata": {
        "colab": {
          "base_uri": "https://localhost:8080/"
        },
        "id": "Jy0SK1Attj7S",
        "outputId": "ce178286-9248-46ae-874b-6dbadb025ddf"
      },
      "source": [
        "Y.shape"
      ],
      "execution_count": 208,
      "outputs": [
        {
          "output_type": "execute_result",
          "data": {
            "text/plain": [
              "(60035,)"
            ]
          },
          "metadata": {
            "tags": []
          },
          "execution_count": 208
        }
      ]
    },
    {
      "cell_type": "markdown",
      "metadata": {
        "id": "01XtfZlOjJoE"
      },
      "source": [
        "#CNN"
      ]
    },
    {
      "cell_type": "code",
      "metadata": {
        "colab": {
          "base_uri": "https://localhost:8080/",
          "height": 1000
        },
        "id": "RrnIdS5TkWCc",
        "outputId": "135ba61b-09ae-4db3-8c6a-1d72248b088a"
      },
      "source": [
        "visible = Input(shape=(wordnum,vectsize,1))\n",
        "conv1 = Conv2D(8, (3,11), activation='relu')(visible)\n",
        "pool1 = MaxPooling2D((1,9), strides=(1,1))(conv1)\n",
        "conv2 = Conv2D(4, (3,10), activation='relu')(pool1)\n",
        "pool2 = MaxPooling2D((1,9), strides=(1,1))(conv2)\n",
        "gavgpool = Flatten()(pool2)\n",
        "dens1 = Dense(64, activation='relu')(gavgpool)\n",
        "drop2 = Dropout(0.3)(dens1)\n",
        "dens2 = Dense(23, activation='relu')(drop2)\n",
        "dens4 = Dense(1, activation='tanh')(dens2)\n",
        "model = Model(inputs=visible, outputs=dens4)\n",
        "\n",
        "model.summary()\n",
        "plot_model(model, show_shapes=True, to_file='naive_inception_module.png')"
      ],
      "execution_count": 215,
      "outputs": [
        {
          "output_type": "stream",
          "text": [
            "Model: \"model_22\"\n",
            "_________________________________________________________________\n",
            "Layer (type)                 Output Shape              Param #   \n",
            "=================================================================\n",
            "input_23 (InputLayer)        [(None, 10, 150, 1)]      0         \n",
            "_________________________________________________________________\n",
            "conv2d_47 (Conv2D)           (None, 8, 140, 8)         272       \n",
            "_________________________________________________________________\n",
            "max_pooling2d_45 (MaxPooling (None, 8, 132, 8)         0         \n",
            "_________________________________________________________________\n",
            "conv2d_48 (Conv2D)           (None, 6, 123, 4)         964       \n",
            "_________________________________________________________________\n",
            "max_pooling2d_46 (MaxPooling (None, 6, 115, 4)         0         \n",
            "_________________________________________________________________\n",
            "flatten_18 (Flatten)         (None, 2760)              0         \n",
            "_________________________________________________________________\n",
            "dense_66 (Dense)             (None, 64)                176704    \n",
            "_________________________________________________________________\n",
            "dropout_22 (Dropout)         (None, 64)                0         \n",
            "_________________________________________________________________\n",
            "dense_67 (Dense)             (None, 23)                1495      \n",
            "_________________________________________________________________\n",
            "dense_68 (Dense)             (None, 1)                 24        \n",
            "=================================================================\n",
            "Total params: 179,459\n",
            "Trainable params: 179,459\n",
            "Non-trainable params: 0\n",
            "_________________________________________________________________\n"
          ],
          "name": "stdout"
        },
        {
          "output_type": "execute_result",
          "data": {
            "image/png": "[encoded data removed]",
            "text/plain": [
              "<IPython.core.display.Image object>"
            ]
          },
          "metadata": {
            "tags": []
          },
          "execution_count": 215
        }
      ]
    },
    {
      "cell_type": "code",
      "metadata": {
        "colab": {
          "base_uri": "https://localhost:8080/"
        },
        "id": "2Zk3MWI2BfmY",
        "outputId": "37680347-698c-4a49-fa7f-6edc3a8644c1"
      },
      "source": [
        "X_train.shape"
      ],
      "execution_count": 210,
      "outputs": [
        {
          "output_type": "execute_result",
          "data": {
            "text/plain": [
              "(48028, 10, 150, 1)"
            ]
          },
          "metadata": {
            "tags": []
          },
          "execution_count": 210
        }
      ]
    },
    {
      "cell_type": "code",
      "metadata": {
        "colab": {
          "base_uri": "https://localhost:8080/"
        },
        "id": "L_1YLOwFktu1",
        "outputId": "45ee1606-97bf-450c-9bbb-aa2190ff81b7"
      },
      "source": [
        "model.compile(optimizer='adam', loss = 'mean_squared_error', metrics = ['accuracy'])\n",
        "checkpoint = ModelCheckpoint('model.h5', verbose=1, monitor='val_accuracy',save_best_only=True,save_weights_only=True, mode='auto')  \n",
        "with tf.device('/device:GPU:0'):\n",
        "  start_time = time.time()\n",
        "  history = model.fit(x=X_train,y = y_train,validation_split=0.2 ,epochs=50,batch_size =100,callbacks=[checkpoint])\n",
        "  print(\"--- %s seconds ---\" % (time.time() - start_time))"
      ],
      "execution_count": 211,
      "outputs": [
        {
          "output_type": "stream",
          "text": [
            "Epoch 1/50\n",
            "385/385 [==============================] - 2s 5ms/step - loss: 0.4220 - accuracy: 0.7313 - val_loss: 0.3368 - val_accuracy: 0.7243\n",
            "\n",
            "Epoch 00001: val_accuracy improved from -inf to 0.72434, saving model to model.h5\n",
            "Epoch 2/50\n",
            "385/385 [==============================] - 2s 4ms/step - loss: 0.3361 - accuracy: 0.7113 - val_loss: 0.3324 - val_accuracy: 0.7296\n",
            "\n",
            "Epoch 00002: val_accuracy improved from 0.72434 to 0.72965, saving model to model.h5\n",
            "Epoch 3/50\n",
            "385/385 [==============================] - 2s 4ms/step - loss: 0.3255 - accuracy: 0.7283 - val_loss: 0.3249 - val_accuracy: 0.7477\n",
            "\n",
            "Epoch 00003: val_accuracy improved from 0.72965 to 0.74766, saving model to model.h5\n",
            "Epoch 4/50\n",
            "385/385 [==============================] - 2s 4ms/step - loss: 0.3201 - accuracy: 0.7336 - val_loss: 0.3337 - val_accuracy: 0.7583\n",
            "\n",
            "Epoch 00004: val_accuracy improved from 0.74766 to 0.75828, saving model to model.h5\n",
            "Epoch 5/50\n",
            "385/385 [==============================] - 2s 4ms/step - loss: 0.3138 - accuracy: 0.7414 - val_loss: 0.3327 - val_accuracy: 0.7277\n",
            "\n",
            "Epoch 00005: val_accuracy did not improve from 0.75828\n",
            "Epoch 6/50\n",
            "385/385 [==============================] - 2s 4ms/step - loss: 0.3089 - accuracy: 0.7493 - val_loss: 0.3219 - val_accuracy: 0.7461\n",
            "\n",
            "Epoch 00006: val_accuracy did not improve from 0.75828\n",
            "Epoch 7/50\n",
            "385/385 [==============================] - 2s 4ms/step - loss: 0.3089 - accuracy: 0.7456 - val_loss: 0.3213 - val_accuracy: 0.7505\n",
            "\n",
            "Epoch 00007: val_accuracy did not improve from 0.75828\n",
            "Epoch 8/50\n",
            "385/385 [==============================] - 2s 4ms/step - loss: 0.3030 - accuracy: 0.7526 - val_loss: 0.3245 - val_accuracy: 0.7364\n",
            "\n",
            "Epoch 00008: val_accuracy did not improve from 0.75828\n",
            "Epoch 9/50\n",
            "385/385 [==============================] - 2s 5ms/step - loss: 0.2981 - accuracy: 0.7488 - val_loss: 0.3174 - val_accuracy: 0.7546\n",
            "\n",
            "Epoch 00009: val_accuracy did not improve from 0.75828\n",
            "Epoch 10/50\n",
            "385/385 [==============================] - 2s 5ms/step - loss: 0.3009 - accuracy: 0.7505 - val_loss: 0.3200 - val_accuracy: 0.7384\n",
            "\n",
            "Epoch 00010: val_accuracy did not improve from 0.75828\n",
            "Epoch 11/50\n",
            "385/385 [==============================] - 2s 4ms/step - loss: 0.2983 - accuracy: 0.7463 - val_loss: 0.3231 - val_accuracy: 0.7611\n",
            "\n",
            "Epoch 00011: val_accuracy improved from 0.75828 to 0.76109, saving model to model.h5\n",
            "Epoch 12/50\n",
            "385/385 [==============================] - 2s 5ms/step - loss: 0.2960 - accuracy: 0.7474 - val_loss: 0.3221 - val_accuracy: 0.7468\n",
            "\n",
            "Epoch 00012: val_accuracy did not improve from 0.76109\n",
            "Epoch 13/50\n",
            "385/385 [==============================] - 2s 5ms/step - loss: 0.3007 - accuracy: 0.7515 - val_loss: 0.3195 - val_accuracy: 0.7493\n",
            "\n",
            "Epoch 00013: val_accuracy did not improve from 0.76109\n",
            "Epoch 14/50\n",
            "385/385 [==============================] - 2s 5ms/step - loss: 0.2949 - accuracy: 0.7457 - val_loss: 0.3209 - val_accuracy: 0.7476\n",
            "\n",
            "Epoch 00014: val_accuracy did not improve from 0.76109\n",
            "Epoch 15/50\n",
            "385/385 [==============================] - 2s 5ms/step - loss: 0.2960 - accuracy: 0.7478 - val_loss: 0.3208 - val_accuracy: 0.7515\n",
            "\n",
            "Epoch 00015: val_accuracy did not improve from 0.76109\n",
            "Epoch 16/50\n",
            "385/385 [==============================] - 2s 5ms/step - loss: 0.2949 - accuracy: 0.7495 - val_loss: 0.3275 - val_accuracy: 0.7413\n",
            "\n",
            "Epoch 00016: val_accuracy did not improve from 0.76109\n",
            "Epoch 17/50\n",
            "385/385 [==============================] - 2s 5ms/step - loss: 0.2843 - accuracy: 0.7542 - val_loss: 0.3213 - val_accuracy: 0.7456\n",
            "\n",
            "Epoch 00017: val_accuracy did not improve from 0.76109\n",
            "Epoch 18/50\n",
            "385/385 [==============================] - 2s 4ms/step - loss: 0.2832 - accuracy: 0.7577 - val_loss: 0.3223 - val_accuracy: 0.7415\n",
            "\n",
            "Epoch 00018: val_accuracy did not improve from 0.76109\n",
            "Epoch 19/50\n",
            "385/385 [==============================] - 2s 4ms/step - loss: 0.2811 - accuracy: 0.7570 - val_loss: 0.3226 - val_accuracy: 0.7450\n",
            "\n",
            "Epoch 00019: val_accuracy did not improve from 0.76109\n",
            "Epoch 20/50\n",
            "385/385 [==============================] - 2s 4ms/step - loss: 0.2872 - accuracy: 0.7434 - val_loss: 0.3245 - val_accuracy: 0.7410\n",
            "\n",
            "Epoch 00020: val_accuracy did not improve from 0.76109\n",
            "Epoch 21/50\n",
            "385/385 [==============================] - 2s 4ms/step - loss: 0.2813 - accuracy: 0.7546 - val_loss: 0.3251 - val_accuracy: 0.7520\n",
            "\n",
            "Epoch 00021: val_accuracy did not improve from 0.76109\n",
            "Epoch 22/50\n",
            "385/385 [==============================] - 2s 4ms/step - loss: 0.2752 - accuracy: 0.7584 - val_loss: 0.3231 - val_accuracy: 0.7440\n",
            "\n",
            "Epoch 00022: val_accuracy did not improve from 0.76109\n",
            "Epoch 23/50\n",
            "385/385 [==============================] - 2s 4ms/step - loss: 0.2753 - accuracy: 0.7551 - val_loss: 0.3210 - val_accuracy: 0.7447\n",
            "\n",
            "Epoch 00023: val_accuracy did not improve from 0.76109\n",
            "Epoch 24/50\n",
            "385/385 [==============================] - 2s 4ms/step - loss: 0.2799 - accuracy: 0.7544 - val_loss: 0.3222 - val_accuracy: 0.7403\n",
            "\n",
            "Epoch 00024: val_accuracy did not improve from 0.76109\n",
            "Epoch 25/50\n",
            "385/385 [==============================] - 2s 5ms/step - loss: 0.2787 - accuracy: 0.7503 - val_loss: 0.3235 - val_accuracy: 0.7447\n",
            "\n",
            "Epoch 00025: val_accuracy did not improve from 0.76109\n",
            "Epoch 26/50\n",
            "385/385 [==============================] - 2s 5ms/step - loss: 0.2779 - accuracy: 0.7526 - val_loss: 0.3274 - val_accuracy: 0.7394\n",
            "\n",
            "Epoch 00026: val_accuracy did not improve from 0.76109\n",
            "Epoch 27/50\n",
            "385/385 [==============================] - 2s 5ms/step - loss: 0.2672 - accuracy: 0.7592 - val_loss: 0.3270 - val_accuracy: 0.7337\n",
            "\n",
            "Epoch 00027: val_accuracy did not improve from 0.76109\n",
            "Epoch 28/50\n",
            "385/385 [==============================] - 2s 5ms/step - loss: 0.2707 - accuracy: 0.7583 - val_loss: 0.3341 - val_accuracy: 0.7291\n",
            "\n",
            "Epoch 00028: val_accuracy did not improve from 0.76109\n",
            "Epoch 29/50\n",
            "385/385 [==============================] - 2s 5ms/step - loss: 0.2769 - accuracy: 0.7510 - val_loss: 0.3314 - val_accuracy: 0.7407\n",
            "\n",
            "Epoch 00029: val_accuracy did not improve from 0.76109\n",
            "Epoch 30/50\n",
            "385/385 [==============================] - 2s 5ms/step - loss: 0.2673 - accuracy: 0.7570 - val_loss: 0.3286 - val_accuracy: 0.7345\n",
            "\n",
            "Epoch 00030: val_accuracy did not improve from 0.76109\n",
            "Epoch 31/50\n",
            "385/385 [==============================] - 2s 5ms/step - loss: 0.2652 - accuracy: 0.7551 - val_loss: 0.3236 - val_accuracy: 0.7482\n",
            "\n",
            "Epoch 00031: val_accuracy did not improve from 0.76109\n",
            "Epoch 32/50\n",
            "385/385 [==============================] - 2s 5ms/step - loss: 0.2594 - accuracy: 0.7584 - val_loss: 0.3248 - val_accuracy: 0.7541\n",
            "\n",
            "Epoch 00032: val_accuracy did not improve from 0.76109\n",
            "Epoch 33/50\n",
            "385/385 [==============================] - 2s 5ms/step - loss: 0.2625 - accuracy: 0.7641 - val_loss: 0.3271 - val_accuracy: 0.7493\n",
            "\n",
            "Epoch 00033: val_accuracy did not improve from 0.76109\n",
            "Epoch 34/50\n",
            "385/385 [==============================] - 2s 5ms/step - loss: 0.2611 - accuracy: 0.7617 - val_loss: 0.3294 - val_accuracy: 0.7485\n",
            "\n",
            "Epoch 00034: val_accuracy did not improve from 0.76109\n",
            "Epoch 35/50\n",
            "385/385 [==============================] - 2s 5ms/step - loss: 0.2628 - accuracy: 0.7615 - val_loss: 0.3302 - val_accuracy: 0.7428\n",
            "\n",
            "Epoch 00035: val_accuracy did not improve from 0.76109\n",
            "Epoch 36/50\n",
            "385/385 [==============================] - 2s 4ms/step - loss: 0.2565 - accuracy: 0.7647 - val_loss: 0.3351 - val_accuracy: 0.7363\n",
            "\n",
            "Epoch 00036: val_accuracy did not improve from 0.76109\n",
            "Epoch 37/50\n",
            "385/385 [==============================] - 2s 5ms/step - loss: 0.2576 - accuracy: 0.7648 - val_loss: 0.3369 - val_accuracy: 0.7367\n",
            "\n",
            "Epoch 00037: val_accuracy did not improve from 0.76109\n",
            "Epoch 38/50\n",
            "385/385 [==============================] - 2s 5ms/step - loss: 0.2586 - accuracy: 0.7633 - val_loss: 0.3364 - val_accuracy: 0.7450\n",
            "\n",
            "Epoch 00038: val_accuracy did not improve from 0.76109\n",
            "Epoch 39/50\n",
            "385/385 [==============================] - 2s 5ms/step - loss: 0.2572 - accuracy: 0.7641 - val_loss: 0.3315 - val_accuracy: 0.7334\n",
            "\n",
            "Epoch 00039: val_accuracy did not improve from 0.76109\n",
            "Epoch 40/50\n",
            "385/385 [==============================] - 2s 5ms/step - loss: 0.2569 - accuracy: 0.7616 - val_loss: 0.3321 - val_accuracy: 0.7412\n",
            "\n",
            "Epoch 00040: val_accuracy did not improve from 0.76109\n",
            "Epoch 41/50\n",
            "385/385 [==============================] - 2s 5ms/step - loss: 0.2468 - accuracy: 0.7629 - val_loss: 0.3295 - val_accuracy: 0.7444\n",
            "\n",
            "Epoch 00041: val_accuracy did not improve from 0.76109\n",
            "Epoch 42/50\n",
            "385/385 [==============================] - 2s 5ms/step - loss: 0.2543 - accuracy: 0.7629 - val_loss: 0.3360 - val_accuracy: 0.7430\n",
            "\n",
            "Epoch 00042: val_accuracy did not improve from 0.76109\n",
            "Epoch 43/50\n",
            "385/385 [==============================] - 2s 5ms/step - loss: 0.2495 - accuracy: 0.7675 - val_loss: 0.3365 - val_accuracy: 0.7350\n",
            "\n",
            "Epoch 00043: val_accuracy did not improve from 0.76109\n",
            "Epoch 44/50\n",
            "385/385 [==============================] - 2s 5ms/step - loss: 0.2450 - accuracy: 0.7632 - val_loss: 0.3325 - val_accuracy: 0.7389\n",
            "\n",
            "Epoch 00044: val_accuracy did not improve from 0.76109\n",
            "Epoch 45/50\n",
            "385/385 [==============================] - 2s 5ms/step - loss: 0.2421 - accuracy: 0.7667 - val_loss: 0.3382 - val_accuracy: 0.7411\n",
            "\n",
            "Epoch 00045: val_accuracy did not improve from 0.76109\n",
            "Epoch 46/50\n",
            "385/385 [==============================] - 2s 4ms/step - loss: 0.2462 - accuracy: 0.7670 - val_loss: 0.3342 - val_accuracy: 0.7347\n",
            "\n",
            "Epoch 00046: val_accuracy did not improve from 0.76109\n",
            "Epoch 47/50\n",
            "385/385 [==============================] - 2s 5ms/step - loss: 0.2513 - accuracy: 0.7657 - val_loss: 0.3323 - val_accuracy: 0.7474\n",
            "\n",
            "Epoch 00047: val_accuracy did not improve from 0.76109\n",
            "Epoch 48/50\n",
            "385/385 [==============================] - 2s 5ms/step - loss: 0.2450 - accuracy: 0.7661 - val_loss: 0.3329 - val_accuracy: 0.7460\n",
            "\n",
            "Epoch 00048: val_accuracy did not improve from 0.76109\n",
            "Epoch 49/50\n",
            "385/385 [==============================] - 2s 5ms/step - loss: 0.2374 - accuracy: 0.7732 - val_loss: 0.3364 - val_accuracy: 0.7397\n",
            "\n",
            "Epoch 00049: val_accuracy did not improve from 0.76109\n",
            "Epoch 50/50\n",
            "385/385 [==============================] - 2s 5ms/step - loss: 0.2406 - accuracy: 0.7680 - val_loss: 0.3378 - val_accuracy: 0.7479\n",
            "\n",
            "Epoch 00050: val_accuracy did not improve from 0.76109\n",
            "--- 88.21500587463379 seconds ---\n"
          ],
          "name": "stdout"
        }
      ]
    },
    {
      "cell_type": "code",
      "metadata": {
        "id": "0buZWK8685ou",
        "colab": {
          "base_uri": "https://localhost:8080/"
        },
        "outputId": "3ac160f6-c61e-49e4-aa51-04151c0031bc"
      },
      "source": [
        "predicted = model.evaluate(X_test,y_test)\n",
        "print(predicted)\n",
        "# print(y_test[:10])"
      ],
      "execution_count": 214,
      "outputs": [
        {
          "output_type": "stream",
          "text": [
            "376/376 [==============================] - 1s 2ms/step - loss: 0.3287 - accuracy: 0.7511\n",
            "[0.32871147990226746, 0.7510618567466736]\n"
          ],
          "name": "stdout"
        }
      ]
    },
    {
      "cell_type": "code",
      "metadata": {
        "colab": {
          "base_uri": "https://localhost:8080/"
        },
        "id": "gMYouZbJp_SS",
        "outputId": "4297947c-3659-4b05-db34-691ce004e59e"
      },
      "source": [
        "np.argwhere(y_tested==2).shape"
      ],
      "execution_count": 213,
      "outputs": [
        {
          "output_type": "execute_result",
          "data": {
            "text/plain": [
              "(9215, 1)"
            ]
          },
          "metadata": {
            "tags": []
          },
          "execution_count": 213
        }
      ]
    }
  ]
}