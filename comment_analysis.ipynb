{
  "nbformat": 4,
  "nbformat_minor": 0,
  "metadata": {
    "colab": {
      "name": "comment_analysis.ipynb",
      "provenance": [],
      "collapsed_sections": [
        "EHdscTCirHZh",
        "FxYtjv-oq12t",
        "UEcOSQvSq7Bl",
        "b4as7wxxEueB",
        "HnYgEHt8E2Oo",
        "ZHH5xG5XY2Fx",
        "on6AuvKwn7OD",
        "DJaW-7P0vkEa",
        "Yr1opjZnwOIa",
        "9ejL6z21x3mH"
      ],
      "toc_visible": true,
      "include_colab_link": true
    },
    "kernelspec": {
      "name": "python3",
      "display_name": "Python 3"
    },
    "accelerator": "GPU"
  },
  "cells": [
    {
      "cell_type": "markdown",
      "metadata": {
        "id": "view-in-github",
        "colab_type": "text"
      },
      "source": [
        "<a href=\"https://colab.research.google.com/github/mahsaghaderan99/DigikalaCommentAnalysis/blob/cnn/comment_analysis.ipynb\" target=\"_parent\"><img src=\"https://colab.research.google.com/assets/colab-badge.svg\" alt=\"Open In Colab\"/></a>"
      ]
    },
    {
      "cell_type": "markdown",
      "metadata": {
        "id": "EHdscTCirHZh"
      },
      "source": [
        "#Installation"
      ]
    },
    {
      "cell_type": "code",
      "metadata": {
        "id": "ocIxrDHloNot",
        "colab": {
          "base_uri": "https://localhost:8080/"
        },
        "outputId": "4ee05c6f-abdb-4087-a171-fbe0a21d166f"
      },
      "source": [
        "!pip install stanza -U"
      ],
      "execution_count": 1,
      "outputs": [
        {
          "output_type": "stream",
          "text": [
            "Collecting stanza\n",
            "\u001b[?25l  Downloading https://files.pythonhosted.org/packages/e7/8b/3a9e7a8d8cb14ad6afffc3983b7a7322a3a24d94ebc978a70746fcffc085/stanza-1.1.1-py3-none-any.whl (227kB)\n",
            "\r\u001b[K     |█▍                              | 10kB 25.8MB/s eta 0:00:01\r\u001b[K     |██▉                             | 20kB 15.2MB/s eta 0:00:01\r\u001b[K     |████▎                           | 30kB 11.3MB/s eta 0:00:01\r\u001b[K     |█████▊                          | 40kB 12.6MB/s eta 0:00:01\r\u001b[K     |███████▏                        | 51kB 8.6MB/s eta 0:00:01\r\u001b[K     |████████▋                       | 61kB 9.3MB/s eta 0:00:01\r\u001b[K     |██████████                      | 71kB 9.2MB/s eta 0:00:01\r\u001b[K     |███████████▌                    | 81kB 10.2MB/s eta 0:00:01\r\u001b[K     |█████████████                   | 92kB 9.7MB/s eta 0:00:01\r\u001b[K     |██████████████▍                 | 102kB 7.9MB/s eta 0:00:01\r\u001b[K     |███████████████▉                | 112kB 7.9MB/s eta 0:00:01\r\u001b[K     |█████████████████▎              | 122kB 7.9MB/s eta 0:00:01\r\u001b[K     |██████████████████▊             | 133kB 7.9MB/s eta 0:00:01\r\u001b[K     |████████████████████▏           | 143kB 7.9MB/s eta 0:00:01\r\u001b[K     |█████████████████████▋          | 153kB 7.9MB/s eta 0:00:01\r\u001b[K     |███████████████████████         | 163kB 7.9MB/s eta 0:00:01\r\u001b[K     |████████████████████████▌       | 174kB 7.9MB/s eta 0:00:01\r\u001b[K     |██████████████████████████      | 184kB 7.9MB/s eta 0:00:01\r\u001b[K     |███████████████████████████▍    | 194kB 7.9MB/s eta 0:00:01\r\u001b[K     |████████████████████████████▉   | 204kB 7.9MB/s eta 0:00:01\r\u001b[K     |██████████████████████████████▎ | 215kB 7.9MB/s eta 0:00:01\r\u001b[K     |███████████████████████████████▊| 225kB 7.9MB/s eta 0:00:01\r\u001b[K     |████████████████████████████████| 235kB 7.9MB/s \n",
            "\u001b[?25hRequirement already satisfied, skipping upgrade: tqdm in /usr/local/lib/python3.6/dist-packages (from stanza) (4.41.1)\n",
            "Requirement already satisfied, skipping upgrade: numpy in /usr/local/lib/python3.6/dist-packages (from stanza) (1.19.4)\n",
            "Requirement already satisfied, skipping upgrade: torch>=1.3.0 in /usr/local/lib/python3.6/dist-packages (from stanza) (1.7.0+cu101)\n",
            "Requirement already satisfied, skipping upgrade: protobuf in /usr/local/lib/python3.6/dist-packages (from stanza) (3.12.4)\n",
            "Requirement already satisfied, skipping upgrade: requests in /usr/local/lib/python3.6/dist-packages (from stanza) (2.23.0)\n",
            "Requirement already satisfied, skipping upgrade: typing-extensions in /usr/local/lib/python3.6/dist-packages (from torch>=1.3.0->stanza) (3.7.4.3)\n",
            "Requirement already satisfied, skipping upgrade: future in /usr/local/lib/python3.6/dist-packages (from torch>=1.3.0->stanza) (0.16.0)\n",
            "Requirement already satisfied, skipping upgrade: dataclasses in /usr/local/lib/python3.6/dist-packages (from torch>=1.3.0->stanza) (0.8)\n",
            "Requirement already satisfied, skipping upgrade: setuptools in /usr/local/lib/python3.6/dist-packages (from protobuf->stanza) (51.1.1)\n",
            "Requirement already satisfied, skipping upgrade: six>=1.9 in /usr/local/lib/python3.6/dist-packages (from protobuf->stanza) (1.15.0)\n",
            "Requirement already satisfied, skipping upgrade: certifi>=2017.4.17 in /usr/local/lib/python3.6/dist-packages (from requests->stanza) (2020.12.5)\n",
            "Requirement already satisfied, skipping upgrade: chardet<4,>=3.0.2 in /usr/local/lib/python3.6/dist-packages (from requests->stanza) (3.0.4)\n",
            "Requirement already satisfied, skipping upgrade: idna<3,>=2.5 in /usr/local/lib/python3.6/dist-packages (from requests->stanza) (2.10)\n",
            "Requirement already satisfied, skipping upgrade: urllib3!=1.25.0,!=1.25.1,<1.26,>=1.21.1 in /usr/local/lib/python3.6/dist-packages (from requests->stanza) (1.24.3)\n",
            "Installing collected packages: stanza\n",
            "Successfully installed stanza-1.1.1\n"
          ],
          "name": "stdout"
        }
      ]
    },
    {
      "cell_type": "markdown",
      "metadata": {
        "id": "FxYtjv-oq12t"
      },
      "source": [
        "#Imports"
      ]
    },
    {
      "cell_type": "code",
      "metadata": {
        "id": "fYlcRYzcnwpF"
      },
      "source": [
        "import stanza\n",
        "import numpy as np\n",
        "import pandas as pd \n",
        "import string\n",
        "import cv2\n",
        "import matplotlib.pyplot as plt\n",
        "import seaborn as sn"
      ],
      "execution_count": 2,
      "outputs": []
    },
    {
      "cell_type": "code",
      "metadata": {
        "id": "e8kenI7qdXl9"
      },
      "source": [
        "import gensim \n",
        "from gensim.models import Word2Vec "
      ],
      "execution_count": 3,
      "outputs": []
    },
    {
      "cell_type": "code",
      "metadata": {
        "id": "69Qw-xlukaN6"
      },
      "source": [
        "from keras.utils import plot_model\n",
        "from keras.models import Model\n",
        "from keras.layers import Input\n",
        "from keras.layers import Dense\n",
        "from keras.layers import Flatten\n",
        "from keras.layers.convolutional import Conv2D\n",
        "from keras.layers.pooling import MaxPooling2D\n",
        "from keras.layers.merge import concatenate\n",
        "from keras.utils import to_categorical\n",
        "from keras.layers import Dropout\n",
        "from keras.layers import GlobalAveragePooling2D\n",
        "import tensorflow as tf\n",
        "from keras.callbacks import ModelCheckpoint \n",
        "from sklearn.model_selection import train_test_split\n",
        "from sklearn.utils import shuffle\n",
        "import time"
      ],
      "execution_count": 4,
      "outputs": []
    },
    {
      "cell_type": "markdown",
      "metadata": {
        "id": "Vo79iVPLENRY"
      },
      "source": [
        "#Configs"
      ]
    },
    {
      "cell_type": "code",
      "metadata": {
        "id": "puxeOMIg2yyJ"
      },
      "source": [
        "vectsize = 150\n",
        "wordnum = 10\n",
        "partofdb = 1\n",
        "samplenum = 60035"
      ],
      "execution_count": 5,
      "outputs": []
    },
    {
      "cell_type": "code",
      "metadata": {
        "id": "rHsJzhh9oIgE"
      },
      "source": [
        "stopwords = ['از','به','با','را','در','برای',\n",
        "             'که','ازاینرو','این','ان','آن','ها',\n",
        "             'آنجا','اینجا','ازجمله','ازروی','ازلحاظ','اش',\n",
        "             'ات','ام','اید','تان','شان','مان',\n",
        "             'الان','اند','انکه','او','ایم','اینطور',\n",
        "             'انطور','اگر','اگرچه','رو','ب','اگه',\n",
        "             'بلکه','تا','مثل','مثلا','مانند','ما',\n",
        "             'من','ک','فلذا','لذا','فلان','های',\n",
        "             'هایی','چه','هم','اما','چون','تو','توی','و',\n",
        "             'البته','یه','یک','یا','هر','اینکه','ای','شما',\n",
        "             '1','2','3','4','5','6','دو','اون']"
      ],
      "execution_count": 6,
      "outputs": []
    },
    {
      "cell_type": "markdown",
      "metadata": {
        "id": "UEcOSQvSq7Bl"
      },
      "source": [
        "#Data preparation"
      ]
    },
    {
      "cell_type": "code",
      "metadata": {
        "id": "rCAnMJuTyzrA"
      },
      "source": [
        "#Save text file into drive\n",
        "\n",
        "# !ls /content/drive/MyDrive\n",
        "# !mkdir /content/drive/MyDrive/digikala\n",
        "# !cp /content/digikala_dataset.txt /content/drive/MyDrive/digikala"
      ],
      "execution_count": null,
      "outputs": []
    },
    {
      "cell_type": "code",
      "metadata": {
        "id": "StlSM7Z8zRi4"
      },
      "source": [
        "x = []\n",
        "y = []\n",
        "with open('/content/drive/MyDrive/digikala/digikala_dataset.txt','r') as f:\n",
        "  for line in f:\n",
        "    index = line.find('\\t')\n",
        "    dy = line[:index]\n",
        "    dx = line[index+1:]\n",
        "    x.append(dx)\n",
        "    y.append(dy)\n"
      ],
      "execution_count": null,
      "outputs": []
    },
    {
      "cell_type": "code",
      "metadata": {
        "id": "j3XzcoBj439_"
      },
      "source": [
        "x = np.array(x)\n",
        "y = np.array(y)"
      ],
      "execution_count": null,
      "outputs": []
    },
    {
      "cell_type": "code",
      "metadata": {
        "id": "lLsmkixkGObW"
      },
      "source": [
        "punkts = {\n",
        "    '!':' ',\n",
        "    ')':' ',\n",
        "    '(':' ',\n",
        "    \"'\":' ',\n",
        "    '.':' ',\n",
        "    ':':' ',\n",
        "    '-':' ',\n",
        "    ',':' ',\n",
        "    '*':' ',\n",
        "    '/':' ',\n",
        "    '[':' ',\n",
        "    ']':' ',\n",
        "    '?':' ',\n",
        "    '؟':' ',\n",
        "    '!':' ',\n",
        "    '}':' ',\n",
        "    '{':' ',\n",
        "    '@':' '\n",
        "}"
      ],
      "execution_count": null,
      "outputs": []
    },
    {
      "cell_type": "code",
      "metadata": {
        "id": "X0pm27Sk6-GS"
      },
      "source": [
        "punct = str.maketrans(punkts)\n",
        "nopunct_x = [s.translate(punct) for s in x]\n",
        "nopunct_x = [s.replace('\\n',' ').replace('\\t',' ') for s in nopunct_x]"
      ],
      "execution_count": null,
      "outputs": []
    },
    {
      "cell_type": "code",
      "metadata": {
        "colab": {
          "base_uri": "https://localhost:8080/",
          "height": 419
        },
        "id": "FWU7QXPGAuVO",
        "outputId": "c0939715-65dc-4fb5-a8b2-8c163b4b0d2f"
      },
      "source": [
        "data = {'label':y, \n",
        "        'comment':nopunct_x} \n",
        "df = pd.DataFrame(data) \n",
        "df "
      ],
      "execution_count": null,
      "outputs": [
        {
          "output_type": "execute_result",
          "data": {
            "text/html": [
              "<div>\n",
              "<style scoped>\n",
              "    .dataframe tbody tr th:only-of-type {\n",
              "        vertical-align: middle;\n",
              "    }\n",
              "\n",
              "    .dataframe tbody tr th {\n",
              "        vertical-align: top;\n",
              "    }\n",
              "\n",
              "    .dataframe thead th {\n",
              "        text-align: right;\n",
              "    }\n",
              "</style>\n",
              "<table border=\"1\" class=\"dataframe\">\n",
              "  <thead>\n",
              "    <tr style=\"text-align: right;\">\n",
              "      <th></th>\n",
              "      <th>label</th>\n",
              "      <th>comment</th>\n",
              "    </tr>\n",
              "  </thead>\n",
              "  <tbody>\n",
              "    <tr>\n",
              "      <th>0</th>\n",
              "      <td>0</td>\n",
              "      <td>لطفا رنگ سفید رو هم موجود کنید</td>\n",
              "    </tr>\n",
              "    <tr>\n",
              "      <th>1</th>\n",
              "      <td>0</td>\n",
              "      <td>با سلام؛ من همین الان میخواستم نوک مدادی بخرم ...</td>\n",
              "    </tr>\n",
              "    <tr>\n",
              "      <th>2</th>\n",
              "      <td>0</td>\n",
              "      <td>من یه روز گذاشتم شارژ 12 روز شارژ داشت</td>\n",
              "    </tr>\n",
              "    <tr>\n",
              "      <th>3</th>\n",
              "      <td>0</td>\n",
              "      <td>برای خاموش کردن نوار چراغ پایین گوشی از برنامه...</td>\n",
              "    </tr>\n",
              "    <tr>\n",
              "      <th>4</th>\n",
              "      <td>0</td>\n",
              "      <td>سلام بر دیجی کالا من میخواستم امروز بخرم ولی ا...</td>\n",
              "    </tr>\n",
              "    <tr>\n",
              "      <th>...</th>\n",
              "      <td>...</td>\n",
              "      <td>...</td>\n",
              "    </tr>\n",
              "    <tr>\n",
              "      <th>200756</th>\n",
              "      <td>0</td>\n",
              "      <td>لطفا موجود کنین</td>\n",
              "    </tr>\n",
              "    <tr>\n",
              "      <th>200757</th>\n",
              "      <td>-1</td>\n",
              "      <td>من 1 ساله دارمش واقعا بده  هنگ زیاد داغ شدن زی...</td>\n",
              "    </tr>\n",
              "    <tr>\n",
              "      <th>200758</th>\n",
              "      <td>0</td>\n",
              "      <td>اگه دو سیمشم بیاری دیجی کالا و نقد و بررسی هم ...</td>\n",
              "    </tr>\n",
              "    <tr>\n",
              "      <th>200759</th>\n",
              "      <td>1</td>\n",
              "      <td>سلام من این گوشیو 2هفته پیش خریدم البته ایم بگ...</td>\n",
              "    </tr>\n",
              "    <tr>\n",
              "      <th>200760</th>\n",
              "      <td>0</td>\n",
              "      <td>مردیم بابا مشکی رو جور کنید دیجییی</td>\n",
              "    </tr>\n",
              "  </tbody>\n",
              "</table>\n",
              "<p>200761 rows × 2 columns</p>\n",
              "</div>"
            ],
            "text/plain": [
              "       label                                            comment\n",
              "0          0                    لطفا رنگ سفید رو هم موجود کنید \n",
              "1          0  با سلام؛ من همین الان میخواستم نوک مدادی بخرم ...\n",
              "2          0            من یه روز گذاشتم شارژ 12 روز شارژ داشت \n",
              "3          0  برای خاموش کردن نوار چراغ پایین گوشی از برنامه...\n",
              "4          0  سلام بر دیجی کالا من میخواستم امروز بخرم ولی ا...\n",
              "...      ...                                                ...\n",
              "200756     0                                   لطفا موجود کنین \n",
              "200757    -1  من 1 ساله دارمش واقعا بده  هنگ زیاد داغ شدن زی...\n",
              "200758     0  اگه دو سیمشم بیاری دیجی کالا و نقد و بررسی هم ...\n",
              "200759     1  سلام من این گوشیو 2هفته پیش خریدم البته ایم بگ...\n",
              "200760     0                 مردیم بابا مشکی رو جور کنید دیجییی\n",
              "\n",
              "[200761 rows x 2 columns]"
            ]
          },
          "metadata": {
            "tags": []
          },
          "execution_count": 30
        }
      ]
    },
    {
      "cell_type": "code",
      "metadata": {
        "id": "1qYWfaoZDf49"
      },
      "source": [
        "#create csv file\n",
        "# !touch /content/drive/MyDrive/digikala/digikala.csv"
      ],
      "execution_count": null,
      "outputs": []
    },
    {
      "cell_type": "code",
      "metadata": {
        "id": "Qp8UxsnTBvbd"
      },
      "source": [
        "df.to_csv ('/content/drive/MyDrive/digikala/digikala.csv', index = False, header=True)"
      ],
      "execution_count": null,
      "outputs": []
    },
    {
      "cell_type": "markdown",
      "metadata": {
        "id": "PGcCo6MeDw84"
      },
      "source": [
        "#Tokenize"
      ]
    },
    {
      "cell_type": "markdown",
      "metadata": {
        "id": "050DDkayoB7W"
      },
      "source": [
        "###LOad Dataset"
      ]
    },
    {
      "cell_type": "code",
      "metadata": {
        "colab": {
          "base_uri": "https://localhost:8080/"
        },
        "id": "-VadrybO6oPE",
        "outputId": "25aba1e2-8bd2-4ff1-aeb5-d16803e49fa4"
      },
      "source": [
        "from google.colab import drive\n",
        "drive.mount('/content/drive')"
      ],
      "execution_count": 8,
      "outputs": [
        {
          "output_type": "stream",
          "text": [
            "Mounted at /content/drive\n"
          ],
          "name": "stdout"
        }
      ]
    },
    {
      "cell_type": "code",
      "metadata": {
        "id": "D7KhDcFcEoYr"
      },
      "source": [
        "df = pd.read_csv('/content/drive/MyDrive/digikala/digikala.csv')"
      ],
      "execution_count": 9,
      "outputs": []
    },
    {
      "cell_type": "code",
      "metadata": {
        "id": "z__Bq7cKFqHW"
      },
      "source": [
        "label = np.array(df['label'])\n",
        "clean_com = np.array(df['comment'])"
      ],
      "execution_count": 10,
      "outputs": []
    },
    {
      "cell_type": "code",
      "metadata": {
        "id": "8vOc__TnoAHp",
        "colab": {
          "base_uri": "https://localhost:8080/"
        },
        "outputId": "e46049de-aec3-4a4b-c509-31238ac18d07"
      },
      "source": [
        "stanza.download('fa') "
      ],
      "execution_count": 11,
      "outputs": [
        {
          "output_type": "stream",
          "text": [
            "Downloading https://raw.githubusercontent.com/stanfordnlp/stanza-resources/master/resources_1.1.0.json: 122kB [00:00, 33.2MB/s]                    \n",
            "2021-01-08 16:53:39 INFO: Downloading default packages for language: fa (Persian)...\n",
            "Downloading http://nlp.stanford.edu/software/stanza/1.1.0/fa/default.zip: 100%|██████████| 226M/226M [00:03<00:00, 72.8MB/s]\n",
            "2021-01-08 16:53:46 INFO: Finished downloading models and saved to /root/stanza_resources.\n"
          ],
          "name": "stderr"
        }
      ]
    },
    {
      "cell_type": "code",
      "metadata": {
        "id": "ZCOajULiDWtI"
      },
      "source": [
        "partedx = clean_com\n",
        "partedy = label"
      ],
      "execution_count": 12,
      "outputs": []
    },
    {
      "cell_type": "code",
      "metadata": {
        "colab": {
          "base_uri": "https://localhost:8080/"
        },
        "id": "ynKKLBbWd8RG",
        "outputId": "87b7c1b3-3ffb-4e04-9b7b-cf40df0b5283"
      },
      "source": [
        "len(partedy)"
      ],
      "execution_count": 13,
      "outputs": [
        {
          "output_type": "execute_result",
          "data": {
            "text/plain": [
              "200761"
            ]
          },
          "metadata": {
            "tags": []
          },
          "execution_count": 13
        }
      ]
    },
    {
      "cell_type": "markdown",
      "metadata": {
        "id": "7tsI2LfwErUe"
      },
      "source": [
        "###model1\n",
        "tokenizee + skip grams"
      ]
    },
    {
      "cell_type": "code",
      "metadata": {
        "id": "6u49iW22EYev",
        "colab": {
          "base_uri": "https://localhost:8080/"
        },
        "outputId": "94238f73-0460-410b-8d65-3c696553d181"
      },
      "source": [
        "nlp = stanza.Pipeline(processors='tokenize', lang='fa', tokenize_pretokenized=True, use_gpu=True)\n",
        "tokens = []\n",
        "for row in partedx:\n",
        "  doc = nlp(row)\n",
        "  try:\n",
        "    sentence = list(doc.sentences)[0]\n",
        "    tokenz = np.array([token.text for token in sentence.tokens])\n",
        "  except:\n",
        "    print(doc.sentences)\n",
        "    tokenz=[]\n",
        "  tokens.append(tokenz)\n",
        "  "
      ],
      "execution_count": 14,
      "outputs": [
        {
          "output_type": "stream",
          "text": [
            "2021-01-08 16:54:19 INFO: Loading these models for language: fa (Persian):\n",
            "=======================\n",
            "| Processor | Package |\n",
            "-----------------------\n",
            "| tokenize  | seraji  |\n",
            "=======================\n",
            "\n",
            "2021-01-08 16:54:19 INFO: Use device: gpu\n",
            "2021-01-08 16:54:19 INFO: Loading: tokenize\n",
            "2021-01-08 16:54:19 INFO: Done loading processors!\n"
          ],
          "name": "stderr"
        },
        {
          "output_type": "stream",
          "text": [
            "[]\n",
            "[]\n"
          ],
          "name": "stdout"
        }
      ]
    },
    {
      "cell_type": "code",
      "metadata": {
        "colab": {
          "base_uri": "https://localhost:8080/"
        },
        "id": "hlza1_MLIxiK",
        "outputId": "41391e63-e28d-483b-cdc8-d79bf2b9728b"
      },
      "source": [
        "nptokens = np.array(tokens) \n",
        "nostopwords = [[token for token in token_row if token not in stopwords] for token_row in nptokens]\n",
        "nostopwords = np.array(nostopwords)\n",
        "model1 = gensim.models.Word2Vec(nostopwords, min_count = 5, size = vectsize, window = 5,sg=0) "
      ],
      "execution_count": 15,
      "outputs": [
        {
          "output_type": "stream",
          "text": [
            "/usr/local/lib/python3.6/dist-packages/ipykernel_launcher.py:1: VisibleDeprecationWarning: Creating an ndarray from ragged nested sequences (which is a list-or-tuple of lists-or-tuples-or ndarrays with different lengths or shapes) is deprecated. If you meant to do this, you must specify 'dtype=object' when creating the ndarray\n",
            "  \"\"\"Entry point for launching an IPython kernel.\n",
            "/usr/local/lib/python3.6/dist-packages/ipykernel_launcher.py:3: VisibleDeprecationWarning: Creating an ndarray from ragged nested sequences (which is a list-or-tuple of lists-or-tuples-or ndarrays with different lengths or shapes) is deprecated. If you meant to do this, you must specify 'dtype=object' when creating the ndarray\n",
            "  This is separate from the ipykernel package so we can avoid doing imports until\n"
          ],
          "name": "stderr"
        }
      ]
    },
    {
      "cell_type": "markdown",
      "metadata": {
        "id": "b4as7wxxEueB"
      },
      "source": [
        "###model2\n",
        "\n",
        "lemmatizer + CBOW\n",
        "\n",
        "This part use half of data due its long run time!"
      ]
    },
    {
      "cell_type": "code",
      "metadata": {
        "id": "wG5PVnf1ohkv"
      },
      "source": [
        "nlplemm = stanza.Pipeline(processors='tokenize,lemma', lang='fa',use_gpu=True)\n",
        "lemmas = []\n",
        "i =0\n",
        "for row in partedx:\n",
        "  if i%1000 == 0: print(i)\n",
        "  i +=1\n",
        "  try:\n",
        "    sentence = list(nlplemm(row).sentences)[0]\n",
        "    lemmas.append([word.lemma for word in sentence.words if word.lemma != None])\n",
        "  except:\n",
        "    print(doc.sentences)\n",
        "    continue"
      ],
      "execution_count": null,
      "outputs": []
    },
    {
      "cell_type": "code",
      "metadata": {
        "colab": {
          "base_uri": "https://localhost:8080/"
        },
        "id": "8d2xTwO8bwwu",
        "outputId": "9340b6d2-3f4a-48e5-df5f-167c91e2ca6a"
      },
      "source": [
        "nplemmas = np.array(lemmas) \n",
        "nostopwords = [[token for token in token_row if token not in stopwords] for token_row in nplemmas]\n",
        "nostopwords = np.array(nostopwords)\n",
        "model2 = gensim.models.Word2Vec(nostopwords, min_count = 3, size = vectsize, window = 5,sg=0) "
      ],
      "execution_count": null,
      "outputs": [
        {
          "output_type": "stream",
          "text": [
            "/usr/local/lib/python3.6/dist-packages/ipykernel_launcher.py:1: VisibleDeprecationWarning: Creating an ndarray from ragged nested sequences (which is a list-or-tuple of lists-or-tuples-or ndarrays with different lengths or shapes) is deprecated. If you meant to do this, you must specify 'dtype=object' when creating the ndarray\n",
            "  \"\"\"Entry point for launching an IPython kernel.\n",
            "/usr/local/lib/python3.6/dist-packages/ipykernel_launcher.py:3: VisibleDeprecationWarning: Creating an ndarray from ragged nested sequences (which is a list-or-tuple of lists-or-tuples-or ndarrays with different lengths or shapes) is deprecated. If you meant to do this, you must specify 'dtype=object' when creating the ndarray\n",
            "  This is separate from the ipykernel package so we can avoid doing imports until\n",
            "WARNING:gensim.models.base_any2vec:consider setting layer size to a multiple of 4 for greater performance\n"
          ],
          "name": "stderr"
        }
      ]
    },
    {
      "cell_type": "markdown",
      "metadata": {
        "id": "HnYgEHt8E2Oo"
      },
      "source": [
        "###choose model"
      ]
    },
    {
      "cell_type": "code",
      "metadata": {
        "id": "4YD01QBLb_Y9"
      },
      "source": [
        "model = model1"
      ],
      "execution_count": 16,
      "outputs": []
    },
    {
      "cell_type": "markdown",
      "metadata": {
        "id": "ZHH5xG5XY2Fx"
      },
      "source": [
        "##Similar words"
      ]
    },
    {
      "cell_type": "code",
      "metadata": {
        "colab": {
          "base_uri": "https://localhost:8080/"
        },
        "id": "T_0aDNXfXf4k",
        "outputId": "6c764c2c-d074-474f-da99-0d71e7342314"
      },
      "source": [
        "result = model.most_similar_cosmul(positive=['خوب', 'ممنون'], negative=['متوسط'])\n",
        "result"
      ],
      "execution_count": null,
      "outputs": [
        {
          "output_type": "stream",
          "text": [
            "/usr/local/lib/python3.6/dist-packages/ipykernel_launcher.py:1: DeprecationWarning: Call to deprecated `most_similar_cosmul` (Method will be removed in 4.0.0, use self.wv.most_similar_cosmul() instead).\n",
            "  \"\"\"Entry point for launching an IPython kernel.\n"
          ],
          "name": "stderr"
        },
        {
          "output_type": "execute_result",
          "data": {
            "text/plain": [
              "[('ممنونم', 1.0470558404922485),\n",
              " ('مرسی', 1.0181233882904053),\n",
              " ('متشکرم', 0.9466909170150757),\n",
              " ('ممنو', 0.9180619716644287),\n",
              " ('ممنوم', 0.9062881469726562),\n",
              " ('خوشحال', 0.8804005980491638),\n",
              " ('متشکر', 0.8733648657798767),\n",
              " ('تشکر', 0.847612738609314),\n",
              " ('باتشکر', 0.8362003564834595),\n",
              " ('ممنونش', 0.8347392082214355)]"
            ]
          },
          "metadata": {
            "tags": []
          },
          "execution_count": 15
        }
      ]
    },
    {
      "cell_type": "code",
      "metadata": {
        "colab": {
          "base_uri": "https://localhost:8080/"
        },
        "id": "-aY5_JBwXpCi",
        "outputId": "f42aa3c4-2a7d-4876-c152-3a178d0487b2"
      },
      "source": [
        "result = model.most_similar_cosmul(positive=['متوسط', 'معمولی'], negative=['قبول'])\n",
        "result"
      ],
      "execution_count": null,
      "outputs": [
        {
          "output_type": "stream",
          "text": [
            "/usr/local/lib/python3.6/dist-packages/ipykernel_launcher.py:1: DeprecationWarning: Call to deprecated `most_similar_cosmul` (Method will be removed in 4.0.0, use self.wv.most_similar_cosmul() instead).\n",
            "  \"\"\"Entry point for launching an IPython kernel.\n"
          ],
          "name": "stderr"
        },
        {
          "output_type": "execute_result",
          "data": {
            "text/plain": [
              "[('ترکیبی', 1.5447357892990112),\n",
              " ('ممتد', 1.5133628845214844),\n",
              " ('مداوم', 1.4331914186477661),\n",
              " ('نرمال', 1.3832614421844482),\n",
              " ('روزانه', 1.3396459817886353),\n",
              " ('روزمره', 1.2819952964782715),\n",
              " ('معمول', 1.2774665355682373),\n",
              " ('نکشی', 1.2387685775756836),\n",
              " ('سهولت', 1.2210999727249146),\n",
              " ('عادی', 1.2001959085464478)]"
            ]
          },
          "metadata": {
            "tags": []
          },
          "execution_count": 16
        }
      ]
    },
    {
      "cell_type": "code",
      "metadata": {
        "colab": {
          "base_uri": "https://localhost:8080/"
        },
        "id": "ccmAR-oRXw0K",
        "outputId": "25417c27-3323-45c8-dd81-2895dfaa8062"
      },
      "source": [
        "result = model.most_similar_cosmul(positive=['موبایل', 'گوشی'], negative=['کامپیوتر'])\n",
        "result"
      ],
      "execution_count": null,
      "outputs": [
        {
          "output_type": "stream",
          "text": [
            "/usr/local/lib/python3.6/dist-packages/ipykernel_launcher.py:1: DeprecationWarning: Call to deprecated `most_similar_cosmul` (Method will be removed in 4.0.0, use self.wv.most_similar_cosmul() instead).\n",
            "  \"\"\"Entry point for launching an IPython kernel.\n"
          ],
          "name": "stderr"
        },
        {
          "output_type": "execute_result",
          "data": {
            "text/plain": [
              "[('گوشیهای', 1.1535037755966187),\n",
              " ('گوشیه', 1.1011139154434204),\n",
              " ('فبلت', 1.0674474239349365),\n",
              " ('گوشیو', 0.978054940700531),\n",
              " ('گوشیها', 0.953982412815094),\n",
              " ('گوشیای', 0.9519391655921936),\n",
              " ('پرچمداران', 0.9375668168067932),\n",
              " ('تبلت', 0.9226328134536743),\n",
              " ('s6', 0.9191224575042725),\n",
              " ('گوشیهایی', 0.916860044002533)]"
            ]
          },
          "metadata": {
            "tags": []
          },
          "execution_count": 17
        }
      ]
    },
    {
      "cell_type": "code",
      "metadata": {
        "colab": {
          "base_uri": "https://localhost:8080/"
        },
        "id": "Casbdwykucjp",
        "outputId": "717ac239-fa47-4eb6-b0de-f6f2da98dc5b"
      },
      "source": [
        "result = model.most_similar_cosmul(positive=['سامسونگ', 'گوشی'], negative=['هواوی'])\n",
        "result"
      ],
      "execution_count": null,
      "outputs": [
        {
          "output_type": "stream",
          "text": [
            "/usr/local/lib/python3.6/dist-packages/ipykernel_launcher.py:1: DeprecationWarning: Call to deprecated `most_similar_cosmul` (Method will be removed in 4.0.0, use self.wv.most_similar_cosmul() instead).\n",
            "  \"\"\"Entry point for launching an IPython kernel.\n"
          ],
          "name": "stderr"
        },
        {
          "output_type": "execute_result",
          "data": {
            "text/plain": [
              "[('دستگاه', 0.8933578133583069),\n",
              " ('آیفون', 0.8378643989562988),\n",
              " ('تبلت', 0.8332229852676392),\n",
              " ('فبلت', 0.8310238718986511),\n",
              " ('گوشیه', 0.823602557182312),\n",
              " ('قلم', 0.8118154406547546),\n",
              " ('گوشیهای', 0.8037421703338623),\n",
              " ('خمیده', 0.7968593835830688),\n",
              " ('گجت', 0.7861220240592957),\n",
              " ('ایفون', 0.7834344506263733)]"
            ]
          },
          "metadata": {
            "tags": []
          },
          "execution_count": 18
        }
      ]
    },
    {
      "cell_type": "markdown",
      "metadata": {
        "id": "q6fzDrfEWvBH"
      },
      "source": [
        "!pip uninstall torch\n",
        "!pip install torch\n"
      ]
    },
    {
      "cell_type": "markdown",
      "metadata": {
        "id": "on6AuvKwn7OD"
      },
      "source": [
        "##Test word2vec Model"
      ]
    },
    {
      "cell_type": "code",
      "metadata": {
        "colab": {
          "base_uri": "https://localhost:8080/"
        },
        "id": "ekNIm7mCdp3f",
        "outputId": "c5899b91-fb85-4e18-ffd4-5a900a0cd4d3"
      },
      "source": [
        "model.similarity('بد', 'عالی')"
      ],
      "execution_count": null,
      "outputs": [
        {
          "output_type": "stream",
          "text": [
            "/usr/local/lib/python3.6/dist-packages/ipykernel_launcher.py:1: DeprecationWarning: Call to deprecated `similarity` (Method will be removed in 4.0.0, use self.wv.similarity() instead).\n",
            "  \"\"\"Entry point for launching an IPython kernel.\n"
          ],
          "name": "stderr"
        },
        {
          "output_type": "execute_result",
          "data": {
            "text/plain": [
              "0.381894"
            ]
          },
          "metadata": {
            "tags": []
          },
          "execution_count": 53
        }
      ]
    },
    {
      "cell_type": "code",
      "metadata": {
        "colab": {
          "base_uri": "https://localhost:8080/"
        },
        "id": "MPKzZJ7ud9KA",
        "outputId": "80f69d6d-a23d-467a-80b9-96b13b4758f3"
      },
      "source": [
        "model.similarity('بو', 'طعم')"
      ],
      "execution_count": null,
      "outputs": [
        {
          "output_type": "stream",
          "text": [
            "/usr/local/lib/python3.6/dist-packages/ipykernel_launcher.py:1: DeprecationWarning: Call to deprecated `similarity` (Method will be removed in 4.0.0, use self.wv.similarity() instead).\n",
            "  \"\"\"Entry point for launching an IPython kernel.\n"
          ],
          "name": "stderr"
        },
        {
          "output_type": "execute_result",
          "data": {
            "text/plain": [
              "0.41394544"
            ]
          },
          "metadata": {
            "tags": []
          },
          "execution_count": 54
        }
      ]
    },
    {
      "cell_type": "code",
      "metadata": {
        "colab": {
          "base_uri": "https://localhost:8080/"
        },
        "id": "RikLZMMdhI_a",
        "outputId": "5cf8af07-d1dd-4d5c-fd16-92a5615fa5ee"
      },
      "source": [
        "model.similarity('سفید', 'عالی')"
      ],
      "execution_count": null,
      "outputs": [
        {
          "output_type": "stream",
          "text": [
            "/usr/local/lib/python3.6/dist-packages/ipykernel_launcher.py:1: DeprecationWarning: Call to deprecated `similarity` (Method will be removed in 4.0.0, use self.wv.similarity() instead).\n",
            "  \"\"\"Entry point for launching an IPython kernel.\n"
          ],
          "name": "stderr"
        },
        {
          "output_type": "execute_result",
          "data": {
            "text/plain": [
              "-0.03201149"
            ]
          },
          "metadata": {
            "tags": []
          },
          "execution_count": 55
        }
      ]
    },
    {
      "cell_type": "code",
      "metadata": {
        "colab": {
          "base_uri": "https://localhost:8080/"
        },
        "id": "4WiBZGSihMgF",
        "outputId": "fa98e5bb-2e32-4880-f7ba-8052fdfb9f5e"
      },
      "source": [
        "model.similarity('بد', 'خش')"
      ],
      "execution_count": null,
      "outputs": [
        {
          "output_type": "stream",
          "text": [
            "/usr/local/lib/python3.6/dist-packages/ipykernel_launcher.py:1: DeprecationWarning: Call to deprecated `similarity` (Method will be removed in 4.0.0, use self.wv.similarity() instead).\n",
            "  \"\"\"Entry point for launching an IPython kernel.\n"
          ],
          "name": "stderr"
        },
        {
          "output_type": "execute_result",
          "data": {
            "text/plain": [
              "0.2002462"
            ]
          },
          "metadata": {
            "tags": []
          },
          "execution_count": 56
        }
      ]
    },
    {
      "cell_type": "code",
      "metadata": {
        "colab": {
          "base_uri": "https://localhost:8080/"
        },
        "id": "YTCrC7u4hOu7",
        "outputId": "ebae9fae-6ec0-40c4-81cb-848271ee8267"
      },
      "source": [
        "model.similarity('بد', 'تیره')"
      ],
      "execution_count": null,
      "outputs": [
        {
          "output_type": "stream",
          "text": [
            "/usr/local/lib/python3.6/dist-packages/ipykernel_launcher.py:1: DeprecationWarning: Call to deprecated `similarity` (Method will be removed in 4.0.0, use self.wv.similarity() instead).\n",
            "  \"\"\"Entry point for launching an IPython kernel.\n"
          ],
          "name": "stderr"
        },
        {
          "output_type": "execute_result",
          "data": {
            "text/plain": [
              "0.1302752"
            ]
          },
          "metadata": {
            "tags": []
          },
          "execution_count": 57
        }
      ]
    },
    {
      "cell_type": "code",
      "metadata": {
        "colab": {
          "base_uri": "https://localhost:8080/"
        },
        "id": "GnXeuu6vhRcN",
        "outputId": "fe07c144-e957-4588-d77c-bada6aa8de07"
      },
      "source": [
        "model.similarity('دار', 'دوست')"
      ],
      "execution_count": null,
      "outputs": [
        {
          "output_type": "stream",
          "text": [
            "/usr/local/lib/python3.6/dist-packages/ipykernel_launcher.py:1: DeprecationWarning: Call to deprecated `similarity` (Method will be removed in 4.0.0, use self.wv.similarity() instead).\n",
            "  \"\"\"Entry point for launching an IPython kernel.\n"
          ],
          "name": "stderr"
        },
        {
          "output_type": "execute_result",
          "data": {
            "text/plain": [
              "-0.16194682"
            ]
          },
          "metadata": {
            "tags": []
          },
          "execution_count": 58
        }
      ]
    },
    {
      "cell_type": "code",
      "metadata": {
        "colab": {
          "base_uri": "https://localhost:8080/"
        },
        "id": "dHt4wqXyhVNp",
        "outputId": "ac26dab3-eff4-4051-c2a8-973ef96f389f"
      },
      "source": [
        "model.similarity('ندار', 'دوست')"
      ],
      "execution_count": null,
      "outputs": [
        {
          "output_type": "stream",
          "text": [
            "/usr/local/lib/python3.6/dist-packages/ipykernel_launcher.py:1: DeprecationWarning: Call to deprecated `similarity` (Method will be removed in 4.0.0, use self.wv.similarity() instead).\n",
            "  \"\"\"Entry point for launching an IPython kernel.\n"
          ],
          "name": "stderr"
        },
        {
          "output_type": "execute_result",
          "data": {
            "text/plain": [
              "-0.051829193"
            ]
          },
          "metadata": {
            "tags": []
          },
          "execution_count": 59
        }
      ]
    },
    {
      "cell_type": "code",
      "metadata": {
        "colab": {
          "base_uri": "https://localhost:8080/"
        },
        "id": "oSJRzD1phXgE",
        "outputId": "53a88ae8-b256-4bdd-dcfd-7d59c37e4667"
      },
      "source": [
        "model.similarity('عالی', 'مرسی')"
      ],
      "execution_count": null,
      "outputs": [
        {
          "output_type": "stream",
          "text": [
            "/usr/local/lib/python3.6/dist-packages/ipykernel_launcher.py:1: DeprecationWarning: Call to deprecated `similarity` (Method will be removed in 4.0.0, use self.wv.similarity() instead).\n",
            "  \"\"\"Entry point for launching an IPython kernel.\n"
          ],
          "name": "stderr"
        },
        {
          "output_type": "execute_result",
          "data": {
            "text/plain": [
              "-0.16090499"
            ]
          },
          "metadata": {
            "tags": []
          },
          "execution_count": 60
        }
      ]
    },
    {
      "cell_type": "code",
      "metadata": {
        "colab": {
          "base_uri": "https://localhost:8080/"
        },
        "id": "lSiHb_4ShaYW",
        "outputId": "ca99b751-1575-4f9b-dc69-362eb9ce0b33"
      },
      "source": [
        "model.similarity('مرسی', 'ممنون')"
      ],
      "execution_count": null,
      "outputs": [
        {
          "output_type": "stream",
          "text": [
            "/usr/local/lib/python3.6/dist-packages/ipykernel_launcher.py:1: DeprecationWarning: Call to deprecated `similarity` (Method will be removed in 4.0.0, use self.wv.similarity() instead).\n",
            "  \"\"\"Entry point for launching an IPython kernel.\n"
          ],
          "name": "stderr"
        },
        {
          "output_type": "execute_result",
          "data": {
            "text/plain": [
              "0.7638013"
            ]
          },
          "metadata": {
            "tags": []
          },
          "execution_count": 61
        }
      ]
    },
    {
      "cell_type": "code",
      "metadata": {
        "colab": {
          "base_uri": "https://localhost:8080/"
        },
        "id": "AbhMTKzphffB",
        "outputId": "929c3cbc-4ae7-4c11-df24-decf60f031a1"
      },
      "source": [
        "model.similarity('تشکر', 'ممنون')\n"
      ],
      "execution_count": null,
      "outputs": [
        {
          "output_type": "stream",
          "text": [
            "/usr/local/lib/python3.6/dist-packages/ipykernel_launcher.py:1: DeprecationWarning: Call to deprecated `similarity` (Method will be removed in 4.0.0, use self.wv.similarity() instead).\n",
            "  \"\"\"Entry point for launching an IPython kernel.\n"
          ],
          "name": "stderr"
        },
        {
          "output_type": "execute_result",
          "data": {
            "text/plain": [
              "0.6739584"
            ]
          },
          "metadata": {
            "tags": []
          },
          "execution_count": 62
        }
      ]
    },
    {
      "cell_type": "code",
      "metadata": {
        "colab": {
          "base_uri": "https://localhost:8080/"
        },
        "id": "vLMaY0IyhiMo",
        "outputId": "1157c316-029a-43bd-9f5b-7bea4bb5f73a"
      },
      "source": [
        "model.similarity('افتضاح', 'ممنون')"
      ],
      "execution_count": null,
      "outputs": [
        {
          "output_type": "stream",
          "text": [
            "/usr/local/lib/python3.6/dist-packages/ipykernel_launcher.py:1: DeprecationWarning: Call to deprecated `similarity` (Method will be removed in 4.0.0, use self.wv.similarity() instead).\n",
            "  \"\"\"Entry point for launching an IPython kernel.\n"
          ],
          "name": "stderr"
        },
        {
          "output_type": "execute_result",
          "data": {
            "text/plain": [
              "-0.10391396"
            ]
          },
          "metadata": {
            "tags": []
          },
          "execution_count": 63
        }
      ]
    },
    {
      "cell_type": "code",
      "metadata": {
        "colab": {
          "base_uri": "https://localhost:8080/"
        },
        "id": "NkMnNwjmhkrX",
        "outputId": "f64a1c57-c197-42f0-bda6-5a184b292e32"
      },
      "source": [
        "model.similarity('مرسی', 'افتضاح')"
      ],
      "execution_count": null,
      "outputs": [
        {
          "output_type": "stream",
          "text": [
            "/usr/local/lib/python3.6/dist-packages/ipykernel_launcher.py:1: DeprecationWarning: Call to deprecated `similarity` (Method will be removed in 4.0.0, use self.wv.similarity() instead).\n",
            "  \"\"\"Entry point for launching an IPython kernel.\n"
          ],
          "name": "stderr"
        },
        {
          "output_type": "execute_result",
          "data": {
            "text/plain": [
              "-0.20407669"
            ]
          },
          "metadata": {
            "tags": []
          },
          "execution_count": 64
        }
      ]
    },
    {
      "cell_type": "code",
      "metadata": {
        "colab": {
          "base_uri": "https://localhost:8080/"
        },
        "id": "MH544dLRhm_m",
        "outputId": "ef6c85f7-5f85-46e6-e4d0-dcebddbd4ac9"
      },
      "source": [
        "model.similarity('توقع', 'سفید')"
      ],
      "execution_count": null,
      "outputs": [
        {
          "output_type": "stream",
          "text": [
            "/usr/local/lib/python3.6/dist-packages/ipykernel_launcher.py:1: DeprecationWarning: Call to deprecated `similarity` (Method will be removed in 4.0.0, use self.wv.similarity() instead).\n",
            "  \"\"\"Entry point for launching an IPython kernel.\n"
          ],
          "name": "stderr"
        },
        {
          "output_type": "execute_result",
          "data": {
            "text/plain": [
              "-0.12276377"
            ]
          },
          "metadata": {
            "tags": []
          },
          "execution_count": 65
        }
      ]
    },
    {
      "cell_type": "code",
      "metadata": {
        "colab": {
          "base_uri": "https://localhost:8080/"
        },
        "id": "ElHjUmvXhqPT",
        "outputId": "cc917cba-4564-4c8a-b6d6-4aea1acc9333"
      },
      "source": [
        "model.similarity('خوب', 'بد')"
      ],
      "execution_count": null,
      "outputs": [
        {
          "output_type": "stream",
          "text": [
            "/usr/local/lib/python3.6/dist-packages/ipykernel_launcher.py:1: DeprecationWarning: Call to deprecated `similarity` (Method will be removed in 4.0.0, use self.wv.similarity() instead).\n",
            "  \"\"\"Entry point for launching an IPython kernel.\n"
          ],
          "name": "stderr"
        },
        {
          "output_type": "execute_result",
          "data": {
            "text/plain": [
              "0.58526194"
            ]
          },
          "metadata": {
            "tags": []
          },
          "execution_count": 66
        }
      ]
    },
    {
      "cell_type": "code",
      "metadata": {
        "colab": {
          "base_uri": "https://localhost:8080/"
        },
        "id": "wmASa-bWnImG",
        "outputId": "b4ec37ad-7540-4be2-d2f9-69377035aa00"
      },
      "source": [
        "model.similarity('زیبا', 'قشنگ')"
      ],
      "execution_count": null,
      "outputs": [
        {
          "output_type": "stream",
          "text": [
            "/usr/local/lib/python3.6/dist-packages/ipykernel_launcher.py:1: DeprecationWarning: Call to deprecated `similarity` (Method will be removed in 4.0.0, use self.wv.similarity() instead).\n",
            "  \"\"\"Entry point for launching an IPython kernel.\n"
          ],
          "name": "stderr"
        },
        {
          "output_type": "execute_result",
          "data": {
            "text/plain": [
              "0.55045164"
            ]
          },
          "metadata": {
            "tags": []
          },
          "execution_count": 67
        }
      ]
    },
    {
      "cell_type": "code",
      "metadata": {
        "colab": {
          "base_uri": "https://localhost:8080/"
        },
        "id": "gHct-_XjnM1T",
        "outputId": "4091d583-6cc1-4dd7-c97b-9d94265e680c"
      },
      "source": [
        "model.similarity('داغ', 'گرم')"
      ],
      "execution_count": null,
      "outputs": [
        {
          "output_type": "stream",
          "text": [
            "/usr/local/lib/python3.6/dist-packages/ipykernel_launcher.py:1: DeprecationWarning: Call to deprecated `similarity` (Method will be removed in 4.0.0, use self.wv.similarity() instead).\n",
            "  \"\"\"Entry point for launching an IPython kernel.\n"
          ],
          "name": "stderr"
        },
        {
          "output_type": "execute_result",
          "data": {
            "text/plain": [
              "0.7483523"
            ]
          },
          "metadata": {
            "tags": []
          },
          "execution_count": 68
        }
      ]
    },
    {
      "cell_type": "markdown",
      "metadata": {
        "id": "DJaW-7P0vkEa"
      },
      "source": [
        "##Similar by word"
      ]
    },
    {
      "cell_type": "code",
      "metadata": {
        "colab": {
          "base_uri": "https://localhost:8080/"
        },
        "id": "4EFjqeF9vmSt",
        "outputId": "380a8e6e-f431-4cb8-952f-6e10e30b6cac"
      },
      "source": [
        " model.similar_by_word(\"گوشی\")"
      ],
      "execution_count": null,
      "outputs": [
        {
          "output_type": "stream",
          "text": [
            "/usr/local/lib/python3.6/dist-packages/ipykernel_launcher.py:1: DeprecationWarning: Call to deprecated `similar_by_word` (Method will be removed in 4.0.0, use self.wv.similar_by_word() instead).\n",
            "  \"\"\"Entry point for launching an IPython kernel.\n"
          ],
          "name": "stderr"
        },
        {
          "output_type": "execute_result",
          "data": {
            "text/plain": [
              "[('گوشیه', 0.664944052696228),\n",
              " ('تبلت', 0.5997394323348999),\n",
              " ('گوشیهای', 0.5865913033485413),\n",
              " ('فبلت', 0.5534288287162781),\n",
              " ('موبایل', 0.5393733978271484),\n",
              " ('دستگاه', 0.5358886122703552),\n",
              " ('گوشیو', 0.5237420797348022),\n",
              " ('کوشی', 0.4739921987056732),\n",
              " ('گوشیها', 0.4463856816291809),\n",
              " ('گوشیای', 0.4426014721393585)]"
            ]
          },
          "metadata": {
            "tags": []
          },
          "execution_count": 35
        }
      ]
    },
    {
      "cell_type": "code",
      "metadata": {
        "colab": {
          "base_uri": "https://localhost:8080/"
        },
        "id": "70MxvrV9vqMk",
        "outputId": "db91ffb1-31eb-4de2-9e42-5534dd1180da"
      },
      "source": [
        " model.similar_by_word(\"لپتاپ\")"
      ],
      "execution_count": null,
      "outputs": [
        {
          "output_type": "stream",
          "text": [
            "/usr/local/lib/python3.6/dist-packages/ipykernel_launcher.py:1: DeprecationWarning: Call to deprecated `similar_by_word` (Method will be removed in 4.0.0, use self.wv.similar_by_word() instead).\n",
            "  \"\"\"Entry point for launching an IPython kernel.\n"
          ],
          "name": "stderr"
        },
        {
          "output_type": "execute_result",
          "data": {
            "text/plain": [
              "[('لب', 0.6161485314369202),\n",
              " ('لپ', 0.5653797388076782),\n",
              " ('لبتاب', 0.5559527277946472),\n",
              " ('تاب', 0.5490288734436035),\n",
              " ('ویندوزی', 0.5439936518669128),\n",
              " ('کامپیوتر', 0.5369860529899597),\n",
              " ('دسک', 0.5358223915100098),\n",
              " ('تاپ', 0.5322171449661255),\n",
              " ('لپتاب', 0.5055623650550842),\n",
              " ('سرفیس', 0.5036083459854126)]"
            ]
          },
          "metadata": {
            "tags": []
          },
          "execution_count": 36
        }
      ]
    },
    {
      "cell_type": "markdown",
      "metadata": {
        "id": "Yr1opjZnwOIa"
      },
      "source": [
        "##Similarity by sentence"
      ]
    },
    {
      "cell_type": "code",
      "metadata": {
        "colab": {
          "base_uri": "https://localhost:8080/"
        },
        "id": "WMmZGErHvyyU",
        "outputId": "0e907301-21f5-4ca6-fe93-01ecbf40c43f"
      },
      "source": [
        "model.wmdistance('کتاب خیلی خوبیه', 'خواندن این کتاب را پیشنهاد میکنم')"
      ],
      "execution_count": null,
      "outputs": [
        {
          "output_type": "stream",
          "text": [
            "/usr/local/lib/python3.6/dist-packages/ipykernel_launcher.py:1: DeprecationWarning: Call to deprecated `wmdistance` (Method will be removed in 4.0.0, use self.wv.wmdistance() instead).\n",
            "  \"\"\"Entry point for launching an IPython kernel.\n"
          ],
          "name": "stderr"
        },
        {
          "output_type": "execute_result",
          "data": {
            "text/plain": [
              "6.252728066862505"
            ]
          },
          "metadata": {
            "tags": []
          },
          "execution_count": 37
        }
      ]
    },
    {
      "cell_type": "code",
      "metadata": {
        "colab": {
          "base_uri": "https://localhost:8080/"
        },
        "id": "JfK1awaav8fL",
        "outputId": "d4076b7d-d373-4ed8-8fb6-4ddf27750e39"
      },
      "source": [
        "model.wmdistance('گوشی از علادین بخری بهتری', 'خرید این عطر رو توضیه میکنم')"
      ],
      "execution_count": null,
      "outputs": [
        {
          "output_type": "stream",
          "text": [
            "/usr/local/lib/python3.6/dist-packages/ipykernel_launcher.py:1: DeprecationWarning: Call to deprecated `wmdistance` (Method will be removed in 4.0.0, use self.wv.wmdistance() instead).\n",
            "  \"\"\"Entry point for launching an IPython kernel.\n"
          ],
          "name": "stderr"
        },
        {
          "output_type": "execute_result",
          "data": {
            "text/plain": [
              "2.4633872753901165"
            ]
          },
          "metadata": {
            "tags": []
          },
          "execution_count": 38
        }
      ]
    },
    {
      "cell_type": "code",
      "metadata": {
        "colab": {
          "base_uri": "https://localhost:8080/"
        },
        "id": "62YV6aZkwIJw",
        "outputId": "0debdd41-5274-4bc9-b685-f638bbdcbe86"
      },
      "source": [
        "model.wmdistance('به معنی واقعی گوشی ناکار آمدیه', 'خرید این موبایل رو توضیه میکنم')\n"
      ],
      "execution_count": null,
      "outputs": [
        {
          "output_type": "stream",
          "text": [
            "/usr/local/lib/python3.6/dist-packages/ipykernel_launcher.py:1: DeprecationWarning: Call to deprecated `wmdistance` (Method will be removed in 4.0.0, use self.wv.wmdistance() instead).\n",
            "  \"\"\"Entry point for launching an IPython kernel.\n"
          ],
          "name": "stderr"
        },
        {
          "output_type": "execute_result",
          "data": {
            "text/plain": [
              "2.6033762720705567"
            ]
          },
          "metadata": {
            "tags": []
          },
          "execution_count": 39
        }
      ]
    },
    {
      "cell_type": "markdown",
      "metadata": {
        "id": "9ejL6z21x3mH"
      },
      "source": [
        "##Most repeted words"
      ]
    },
    {
      "cell_type": "code",
      "metadata": {
        "colab": {
          "base_uri": "https://localhost:8080/"
        },
        "id": "75ypcmEpxkGe",
        "outputId": "3698c75d-6c54-4c80-cbb6-e90c32bf69ec"
      },
      "source": [
        "model.wv.index2entity[:50]"
      ],
      "execution_count": null,
      "outputs": [
        {
          "output_type": "execute_result",
          "data": {
            "text/plain": [
              "['گوشی',\n",
              " 'خیلی',\n",
              " 'سلام',\n",
              " 'ولی',\n",
              " 'داره',\n",
              " 'میشه',\n",
              " 'هست',\n",
              " 'می',\n",
              " 'کنید',\n",
              " 'دیجی',\n",
              " 'صفحه',\n",
              " 'فقط',\n",
              " 'دوستان',\n",
              " 'نظر',\n",
              " 'همه',\n",
              " 'نیست',\n",
              " 'دیگه',\n",
              " 'کیفیت',\n",
              " 'دوربین',\n",
              " 'واقعا',\n",
              " 'کار',\n",
              " 'دارم',\n",
              " 'میکنه',\n",
              " 'کردم',\n",
              " 'لطفا',\n",
              " 'بود',\n",
              " 'کالا',\n",
              " 'باید',\n",
              " 'استفاده',\n",
              " 'نداره',\n",
              " 'عالیه',\n",
              " 'سامسونگ',\n",
              " 'است',\n",
              " 'باشه',\n",
              " 'شده',\n",
              " '،',\n",
              " 'خریدم',\n",
              " 'خوب',\n",
              " 'کنم',\n",
              " 'موجود',\n",
              " 'قیمت',\n",
              " 'بازی',\n",
              " 'بعد',\n",
              " 'مشکل',\n",
              " 'عالی',\n",
              " 'هیچ',\n",
              " 'ی',\n",
              " 'تبلت',\n",
              " 'برنامه',\n",
              " 'میکنم']"
            ]
          },
          "metadata": {
            "tags": []
          },
          "execution_count": 40
        }
      ]
    },
    {
      "cell_type": "markdown",
      "metadata": {
        "id": "JapvOvDNxfr-"
      },
      "source": [
        "#Generate features"
      ]
    },
    {
      "cell_type": "code",
      "metadata": {
        "id": "eatlK-CL68Kt"
      },
      "source": [
        "# clean_com, label = shuffle(clean_com, label, random_state=0)\n",
        "neg = np.argwhere(label == -1)\n",
        "pos = np.argwhere(label == 1)\n",
        "all = np.concatenate((pos,neg)).flatten()\n",
        "np.random.shuffle(all)\n",
        "labeled = nostopwords[all]\n",
        "partedy = label[all]"
      ],
      "execution_count": 17,
      "outputs": []
    },
    {
      "cell_type": "code",
      "metadata": {
        "id": "BWRrvz6m0jfz"
      },
      "source": [
        "vects = []\n",
        "emptyvect = np.ones(vectsize)* 0.01\n",
        "for sent in labeled:\n",
        "  vect = []\n",
        "  if len(sent) >=wordnum:\n",
        "    for word in sent[:wordnum]:\n",
        "      try:\n",
        "        vect.append(model.wv[word])\n",
        "      except:\n",
        "        vect.append(emptyvect)\n",
        "  else:\n",
        "    for word in sent:\n",
        "      try:\n",
        "        vect.append(model.wv[word])\n",
        "      except:\n",
        "        vect.append(emptyvect)\n",
        "    for i in range(0,wordnum-len(sent)):\n",
        "      vect.append(emptyvect)\n",
        "  vects.append(np.array(vect))\n",
        "  \n"
      ],
      "execution_count": 18,
      "outputs": []
    },
    {
      "cell_type": "code",
      "metadata": {
        "id": "Dpgnk9wV94lB"
      },
      "source": [
        "normvects = vects - np.min(vects)\n",
        "normvects = normvects/np.max(normvects)"
      ],
      "execution_count": 19,
      "outputs": []
    },
    {
      "cell_type": "code",
      "metadata": {
        "colab": {
          "base_uri": "https://localhost:8080/"
        },
        "id": "gzGomdYq5WGu",
        "outputId": "2b6026e5-ed7e-4c33-a8c0-373e97c1208f"
      },
      "source": [
        "X = np.array(vects)\n",
        "X = np.expand_dims(X,3)\n",
        "print('X shape is',X.shape)\n",
        "Y = (np.array(partedy)+1)*0.5\n",
        "print('Y shape is ',Y.shape)"
      ],
      "execution_count": 31,
      "outputs": [
        {
          "output_type": "stream",
          "text": [
            "X shape is (50035, 10, 150, 1)\n",
            "Y shape is  (50035,)\n"
          ],
          "name": "stdout"
        }
      ]
    },
    {
      "cell_type": "code",
      "metadata": {
        "id": "gOr8Yica8cFs"
      },
      "source": [
        "X, Y = shuffle(X, Y, random_state=42)\n",
        "Y = to_categorical(Y)\n",
        "X_train, X_test, y_train, y_test = train_test_split(X,\n",
        "                                                    Y,\n",
        "                                                    test_size=0.20,\n",
        "                                                    random_state=42)"
      ],
      "execution_count": 45,
      "outputs": []
    },
    {
      "cell_type": "code",
      "metadata": {
        "colab": {
          "base_uri": "https://localhost:8080/"
        },
        "id": "Jy0SK1Attj7S",
        "outputId": "c10bcb7e-46f3-4c8c-d4a2-8b1c3cc832eb"
      },
      "source": [
        "Y.shape"
      ],
      "execution_count": 46,
      "outputs": [
        {
          "output_type": "execute_result",
          "data": {
            "text/plain": [
              "(50035, 2)"
            ]
          },
          "metadata": {
            "tags": []
          },
          "execution_count": 46
        }
      ]
    },
    {
      "cell_type": "markdown",
      "metadata": {
        "id": "01XtfZlOjJoE"
      },
      "source": [
        "#CNN"
      ]
    },
    {
      "cell_type": "code",
      "metadata": {
        "id": "B_D76310Abln"
      },
      "source": [
        "from sklearn.metrics import accuracy_score, f1_score, confusion_matrix\n",
        "\n",
        "\n",
        "def evaluation(y_test, y_pred, fig_name, title):\n",
        "    '''\n",
        "    Prints accuracy and F1-score and plots confusion matrix and saves result image.\n",
        "\n",
        "    Parameters:\n",
        "        y_test (numpy.ndarray) : test labels (ground truth)\n",
        "        y_pred (numpy.ndarray) : predicted labels \n",
        "        fig_name (str): The name of the image of the plot.\n",
        "        title (str): The caption of the plot.\n",
        "    '''\n",
        "\n",
        "    acc = accuracy_score(y_test, y_pred)\n",
        "    print('Accuracy for', title, '=', acc)\n",
        "    f1 = f1_score(y_test, y_pred, average = 'macro')\n",
        "    print('F1 score for', title, '=', f1)\n",
        "    cm = confusion_matrix(y_test, y_pred)\n",
        "    df_cm = pd.DataFrame(cm, range(2), range(2))  \n",
        "    plt.figure(figsize = (10, 7))\n",
        "    sn.set(font_scale = 1.4) # for label size\n",
        "    sn.heatmap(df_cm , annot = True, annot_kws = {\"size\" : 16}, fmt = 'g') # font size\n",
        "    plt.title(title)\n",
        "    plt.savefig(fig_name + '.png')\n",
        "    plt.show()"
      ],
      "execution_count": 66,
      "outputs": []
    },
    {
      "cell_type": "code",
      "metadata": {
        "colab": {
          "base_uri": "https://localhost:8080/",
          "height": 1000
        },
        "id": "RrnIdS5TkWCc",
        "outputId": "9ede73ae-6ec5-488d-84e6-9d08ae0976ab"
      },
      "source": [
        "visible = Input(shape=(wordnum,vectsize,1))\n",
        "conv1 = Conv2D(8, (3,29), activation='relu')(visible)\n",
        "pool1 = MaxPooling2D((1,9), strides=(1,1))(conv1)\n",
        "conv2 = Conv2D(4, (3,15), activation='relu')(pool1)\n",
        "pool2 = MaxPooling2D((1,15), strides=(1,1))(conv2)\n",
        "gavgpool = GlobalAveragePooling2D()(pool2)\n",
        "dens1 = Dense(64, activation='relu')(gavgpool)\n",
        "drop2 = Dropout(0.3)(dens1)\n",
        "dens2 = Dense(23, activation='relu')(drop2)\n",
        "dens4 = Dense(2, activation='sigmoid')(dens2)\n",
        "model = Model(inputs=visible, outputs=dens4)\n",
        "\n",
        "model.summary()\n",
        "plot_model(model, show_shapes=True, to_file='naive_inception_module.png')"
      ],
      "execution_count": 91,
      "outputs": [
        {
          "output_type": "stream",
          "text": [
            "Model: \"model_5\"\n",
            "_________________________________________________________________\n",
            "Layer (type)                 Output Shape              Param #   \n",
            "=================================================================\n",
            "input_6 (InputLayer)         [(None, 10, 150, 1)]      0         \n",
            "_________________________________________________________________\n",
            "conv2d_10 (Conv2D)           (None, 8, 122, 8)         704       \n",
            "_________________________________________________________________\n",
            "max_pooling2d_10 (MaxPooling (None, 8, 114, 8)         0         \n",
            "_________________________________________________________________\n",
            "conv2d_11 (Conv2D)           (None, 6, 100, 4)         1444      \n",
            "_________________________________________________________________\n",
            "max_pooling2d_11 (MaxPooling (None, 6, 86, 4)          0         \n",
            "_________________________________________________________________\n",
            "global_average_pooling2d (Gl (None, 4)                 0         \n",
            "_________________________________________________________________\n",
            "dense_15 (Dense)             (None, 64)                320       \n",
            "_________________________________________________________________\n",
            "dropout_5 (Dropout)          (None, 64)                0         \n",
            "_________________________________________________________________\n",
            "dense_16 (Dense)             (None, 23)                1495      \n",
            "_________________________________________________________________\n",
            "dense_17 (Dense)             (None, 2)                 48        \n",
            "=================================================================\n",
            "Total params: 4,011\n",
            "Trainable params: 4,011\n",
            "Non-trainable params: 0\n",
            "_________________________________________________________________\n"
          ],
          "name": "stdout"
        },
        {
          "output_type": "execute_result",
          "data": {
            "image/png": "[encoded data removed]",
            "text/plain": [
              "<IPython.core.display.Image object>"
            ]
          },
          "metadata": {
            "tags": []
          },
          "execution_count": 91
        }
      ]
    },
    {
      "cell_type": "code",
      "metadata": {
        "colab": {
          "base_uri": "https://localhost:8080/"
        },
        "id": "L_1YLOwFktu1",
        "outputId": "599d9647-ffa7-46f4-875b-41ac5aadf7ff"
      },
      "source": [
        "model.compile(optimizer='adam', loss = tf.keras.losses.binary_crossentropy, metrics = ['accuracy'],loss_weights=[0.8,0.2])\n",
        "checkpoint = ModelCheckpoint('model.h5', verbose=1, monitor='val_loss',save_best_only=True,save_weights_only=True, mode='auto')  \n",
        "with tf.device('/device:GPU:0'):\n",
        "  start_time = time.time()\n",
        "  history = model.fit(x=X_train,y = y_train,validation_split=0.2 ,epochs=25,batch_size =100,callbacks=[checkpoint],class_weight={0:0.7,1:0.3})\n",
        "  print(\"--- %s seconds ---\" % (time.time() - start_time))"
      ],
      "execution_count": 124,
      "outputs": [
        {
          "output_type": "stream",
          "text": [
            "Epoch 1/25\n",
            "321/321 [==============================] - 3s 6ms/step - loss: 0.0730 - accuracy: 0.9185 - val_loss: 0.2406 - val_accuracy: 0.8952\n",
            "\n",
            "Epoch 00001: val_loss improved from inf to 0.24058, saving model to model.h5\n",
            "Epoch 2/25\n",
            "321/321 [==============================] - 2s 5ms/step - loss: 0.0721 - accuracy: 0.9207 - val_loss: 0.2452 - val_accuracy: 0.8957\n",
            "\n",
            "Epoch 00002: val_loss did not improve from 0.24058\n",
            "Epoch 3/25\n",
            "321/321 [==============================] - 2s 5ms/step - loss: 0.0699 - accuracy: 0.9237 - val_loss: 0.2430 - val_accuracy: 0.8978\n",
            "\n",
            "Epoch 00003: val_loss did not improve from 0.24058\n",
            "Epoch 4/25\n",
            "321/321 [==============================] - 2s 5ms/step - loss: 0.0733 - accuracy: 0.9183 - val_loss: 0.2539 - val_accuracy: 0.8922\n",
            "\n",
            "Epoch 00004: val_loss did not improve from 0.24058\n",
            "Epoch 5/25\n",
            "321/321 [==============================] - 2s 7ms/step - loss: 0.0752 - accuracy: 0.9149 - val_loss: 0.2316 - val_accuracy: 0.9117\n",
            "\n",
            "Epoch 00005: val_loss improved from 0.24058 to 0.23160, saving model to model.h5\n",
            "Epoch 6/25\n",
            "321/321 [==============================] - 2s 5ms/step - loss: 0.0740 - accuracy: 0.9192 - val_loss: 0.2318 - val_accuracy: 0.9133\n",
            "\n",
            "Epoch 00006: val_loss did not improve from 0.23160\n",
            "Epoch 7/25\n",
            "321/321 [==============================] - 2s 5ms/step - loss: 0.0749 - accuracy: 0.9168 - val_loss: 0.2367 - val_accuracy: 0.9046\n",
            "\n",
            "Epoch 00007: val_loss did not improve from 0.23160\n",
            "Epoch 8/25\n",
            "321/321 [==============================] - 2s 5ms/step - loss: 0.0734 - accuracy: 0.9213 - val_loss: 0.2343 - val_accuracy: 0.9072\n",
            "\n",
            "Epoch 00008: val_loss did not improve from 0.23160\n",
            "Epoch 9/25\n",
            "321/321 [==============================] - 2s 5ms/step - loss: 0.0770 - accuracy: 0.9192 - val_loss: 0.2425 - val_accuracy: 0.9011\n",
            "\n",
            "Epoch 00009: val_loss did not improve from 0.23160\n",
            "Epoch 10/25\n",
            "321/321 [==============================] - 2s 5ms/step - loss: 0.0734 - accuracy: 0.9221 - val_loss: 0.2335 - val_accuracy: 0.9094\n",
            "\n",
            "Epoch 00010: val_loss did not improve from 0.23160\n",
            "Epoch 11/25\n",
            "321/321 [==============================] - 2s 6ms/step - loss: 0.0757 - accuracy: 0.9161 - val_loss: 0.2346 - val_accuracy: 0.8988\n",
            "\n",
            "Epoch 00011: val_loss did not improve from 0.23160\n",
            "Epoch 12/25\n",
            "321/321 [==============================] - 2s 6ms/step - loss: 0.0709 - accuracy: 0.9224 - val_loss: 0.2412 - val_accuracy: 0.8997\n",
            "\n",
            "Epoch 00012: val_loss did not improve from 0.23160\n",
            "Epoch 13/25\n",
            "321/321 [==============================] - 2s 5ms/step - loss: 0.0740 - accuracy: 0.9171 - val_loss: 0.2471 - val_accuracy: 0.8896\n",
            "\n",
            "Epoch 00013: val_loss did not improve from 0.23160\n",
            "Epoch 14/25\n",
            "321/321 [==============================] - 2s 5ms/step - loss: 0.0739 - accuracy: 0.9210 - val_loss: 0.2550 - val_accuracy: 0.8876\n",
            "\n",
            "Epoch 00014: val_loss did not improve from 0.23160\n",
            "Epoch 15/25\n",
            "321/321 [==============================] - 2s 5ms/step - loss: 0.0705 - accuracy: 0.9217 - val_loss: 0.2298 - val_accuracy: 0.9109\n",
            "\n",
            "Epoch 00015: val_loss improved from 0.23160 to 0.22981, saving model to model.h5\n",
            "Epoch 16/25\n",
            "321/321 [==============================] - 2s 5ms/step - loss: 0.0723 - accuracy: 0.9229 - val_loss: 0.2386 - val_accuracy: 0.9038\n",
            "\n",
            "Epoch 00016: val_loss did not improve from 0.22981\n",
            "Epoch 17/25\n",
            "321/321 [==============================] - 2s 5ms/step - loss: 0.0734 - accuracy: 0.9189 - val_loss: 0.2469 - val_accuracy: 0.8953\n",
            "\n",
            "Epoch 00017: val_loss did not improve from 0.22981\n",
            "Epoch 18/25\n",
            "321/321 [==============================] - 2s 5ms/step - loss: 0.0734 - accuracy: 0.9216 - val_loss: 0.2487 - val_accuracy: 0.8951\n",
            "\n",
            "Epoch 00018: val_loss did not improve from 0.22981\n",
            "Epoch 19/25\n",
            "321/321 [==============================] - 2s 6ms/step - loss: 0.0707 - accuracy: 0.9199 - val_loss: 0.2632 - val_accuracy: 0.8908\n",
            "\n",
            "Epoch 00019: val_loss did not improve from 0.22981\n",
            "Epoch 20/25\n",
            "321/321 [==============================] - 2s 5ms/step - loss: 0.0736 - accuracy: 0.9217 - val_loss: 0.2758 - val_accuracy: 0.8708\n",
            "\n",
            "Epoch 00020: val_loss did not improve from 0.22981\n",
            "Epoch 21/25\n",
            "321/321 [==============================] - 2s 5ms/step - loss: 0.0732 - accuracy: 0.9205 - val_loss: 0.2576 - val_accuracy: 0.8504\n",
            "\n",
            "Epoch 00021: val_loss did not improve from 0.22981\n",
            "Epoch 22/25\n",
            "321/321 [==============================] - 2s 5ms/step - loss: 0.0737 - accuracy: 0.9124 - val_loss: 0.2250 - val_accuracy: 0.9168\n",
            "\n",
            "Epoch 00022: val_loss improved from 0.22981 to 0.22500, saving model to model.h5\n",
            "Epoch 23/25\n",
            "321/321 [==============================] - 2s 6ms/step - loss: 0.0757 - accuracy: 0.9168 - val_loss: 0.2473 - val_accuracy: 0.8946\n",
            "\n",
            "Epoch 00023: val_loss did not improve from 0.22500\n",
            "Epoch 24/25\n",
            "321/321 [==============================] - 2s 5ms/step - loss: 0.0719 - accuracy: 0.9219 - val_loss: 0.2541 - val_accuracy: 0.8891\n",
            "\n",
            "Epoch 00024: val_loss did not improve from 0.22500\n",
            "Epoch 25/25\n",
            "321/321 [==============================] - 2s 6ms/step - loss: 0.0745 - accuracy: 0.9173 - val_loss: 0.2339 - val_accuracy: 0.9101\n",
            "\n",
            "Epoch 00025: val_loss did not improve from 0.22500\n",
            "--- 45.13099551200867 seconds ---\n"
          ],
          "name": "stdout"
        }
      ]
    },
    {
      "cell_type": "code",
      "metadata": {
        "id": "0buZWK8685ou",
        "colab": {
          "base_uri": "https://localhost:8080/"
        },
        "outputId": "6658ac4a-ed99-498d-b9a4-e0afc5c70196"
      },
      "source": [
        "# model.load_weights('/content/model.h5')\n",
        "model.evaluate(X_test,y_test)"
      ],
      "execution_count": 125,
      "outputs": [
        {
          "output_type": "stream",
          "text": [
            "313/313 [==============================] - 1s 2ms/step - loss: 0.2590 - accuracy: 0.9011\n"
          ],
          "name": "stdout"
        },
        {
          "output_type": "execute_result",
          "data": {
            "text/plain": [
              "[0.25895795226097107, 0.9010692238807678]"
            ]
          },
          "metadata": {
            "tags": []
          },
          "execution_count": 125
        }
      ]
    },
    {
      "cell_type": "code",
      "metadata": {
        "id": "zGGn9l8pAhjy"
      },
      "source": [
        "y_test_int = np.argmax(y_test,axis =1)\n",
        "predicted = model.predict(X_test)\n",
        "predicted_int = np.argmax(predicted,axis =1)"
      ],
      "execution_count": 126,
      "outputs": []
    },
    {
      "cell_type": "code",
      "metadata": {
        "colab": {
          "base_uri": "https://localhost:8080/",
          "height": 490
        },
        "id": "5usDAxGRBIGM",
        "outputId": "da81c2f9-d3ac-4d53-e5ea-c938be04730e"
      },
      "source": [
        "evaluation(y_test_int,predicted_int,\"ACC\",'A')"
      ],
      "execution_count": 128,
      "outputs": [
        {
          "output_type": "stream",
          "text": [
            "Accuracy for A = 0.9010692515239332\n",
            "F1 score for A = 0.5962456571750511\n"
          ],
          "name": "stdout"
        },
        {
          "output_type": "display_data",
          "data": {
            "image/png": "[encoded data removed]",
            "text/plain": [
              "<Figure size 720x504 with 2 Axes>"
            ]
          },
          "metadata": {
            "tags": []
          }
        }
      ]
    }
  ]
}