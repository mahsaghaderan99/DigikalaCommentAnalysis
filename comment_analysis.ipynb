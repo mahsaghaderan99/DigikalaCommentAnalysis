{
  "nbformat": 4,
  "nbformat_minor": 0,
  "metadata": {
    "colab": {
      "name": "comment_analysis.ipynb",
      "provenance": [],
      "collapsed_sections": [
        "ZHH5xG5XY2Fx",
        "on6AuvKwn7OD",
        "DJaW-7P0vkEa",
        "Yr1opjZnwOIa"
      ],
      "mount_file_id": "1NUW9Boa819KPbp-rGfijNc3qkweGJIaV",
      "authorship_tag": "ABX9TyMDUcjmmGDIC0YYV9Zim1uZ",
      "include_colab_link": true
    },
    "kernelspec": {
      "name": "python3",
      "display_name": "Python 3"
    },
    "accelerator": "GPU"
  },
  "cells": [
    {
      "cell_type": "markdown",
      "metadata": {
        "id": "view-in-github",
        "colab_type": "text"
      },
      "source": [
        "<a href=\"https://colab.research.google.com/github/mahsaghaderan99/DigikalaCommentAnalysis/blob/cnn/comment_analysis.ipynb\" target=\"_parent\"><img src=\"https://colab.research.google.com/assets/colab-badge.svg\" alt=\"Open In Colab\"/></a>"
      ]
    },
    {
      "cell_type": "markdown",
      "metadata": {
        "id": "EHdscTCirHZh"
      },
      "source": [
        "#Installation"
      ]
    },
    {
      "cell_type": "code",
      "metadata": {
        "id": "ocIxrDHloNot",
        "colab": {
          "base_uri": "https://localhost:8080/"
        },
        "outputId": "736313d1-d96d-479a-bdbd-a1e1847e80e7"
      },
      "source": [
        "!pip install stanza -U"
      ],
      "execution_count": 4,
      "outputs": [
        {
          "output_type": "stream",
          "text": [
            "Requirement already up-to-date: stanza in /usr/local/lib/python3.6/dist-packages (1.1.1)\n",
            "Requirement already satisfied, skipping upgrade: requests in /usr/local/lib/python3.6/dist-packages (from stanza) (2.23.0)\n",
            "Requirement already satisfied, skipping upgrade: protobuf in /usr/local/lib/python3.6/dist-packages (from stanza) (3.12.4)\n",
            "Requirement already satisfied, skipping upgrade: tqdm in /usr/local/lib/python3.6/dist-packages (from stanza) (4.41.1)\n",
            "Requirement already satisfied, skipping upgrade: torch>=1.3.0 in /usr/local/lib/python3.6/dist-packages (from stanza) (1.7.1)\n",
            "Requirement already satisfied, skipping upgrade: numpy in /usr/local/lib/python3.6/dist-packages (from stanza) (1.19.4)\n",
            "Requirement already satisfied, skipping upgrade: chardet<4,>=3.0.2 in /usr/local/lib/python3.6/dist-packages (from requests->stanza) (3.0.4)\n",
            "Requirement already satisfied, skipping upgrade: certifi>=2017.4.17 in /usr/local/lib/python3.6/dist-packages (from requests->stanza) (2020.12.5)\n",
            "Requirement already satisfied, skipping upgrade: idna<3,>=2.5 in /usr/local/lib/python3.6/dist-packages (from requests->stanza) (2.10)\n",
            "Requirement already satisfied, skipping upgrade: urllib3!=1.25.0,!=1.25.1,<1.26,>=1.21.1 in /usr/local/lib/python3.6/dist-packages (from requests->stanza) (1.24.3)\n",
            "Requirement already satisfied, skipping upgrade: six>=1.9 in /usr/local/lib/python3.6/dist-packages (from protobuf->stanza) (1.15.0)\n",
            "Requirement already satisfied, skipping upgrade: setuptools in /usr/local/lib/python3.6/dist-packages (from protobuf->stanza) (51.0.0)\n",
            "Requirement already satisfied, skipping upgrade: dataclasses; python_version < \"3.7\" in /usr/local/lib/python3.6/dist-packages (from torch>=1.3.0->stanza) (0.8)\n",
            "Requirement already satisfied, skipping upgrade: typing-extensions in /usr/local/lib/python3.6/dist-packages (from torch>=1.3.0->stanza) (3.7.4.3)\n"
          ],
          "name": "stdout"
        }
      ]
    },
    {
      "cell_type": "markdown",
      "metadata": {
        "id": "FxYtjv-oq12t"
      },
      "source": [
        "#Imports"
      ]
    },
    {
      "cell_type": "code",
      "metadata": {
        "id": "fYlcRYzcnwpF"
      },
      "source": [
        "import stanza\n",
        "import numpy as np\n",
        "import pandas as pd \n",
        "import string\n",
        "import cv2\n",
        "import matplotlib.pyplot as plt\n",
        "import seaborn as sn"
      ],
      "execution_count": 1,
      "outputs": []
    },
    {
      "cell_type": "code",
      "metadata": {
        "id": "e8kenI7qdXl9"
      },
      "source": [
        "import gensim \n",
        "from gensim.models import Word2Vec "
      ],
      "execution_count": 2,
      "outputs": []
    },
    {
      "cell_type": "code",
      "metadata": {
        "id": "69Qw-xlukaN6"
      },
      "source": [
        "from keras.utils import plot_model\n",
        "from keras.models import Model\n",
        "from keras.layers import Input\n",
        "from keras.layers import Dense\n",
        "from keras.layers import Flatten\n",
        "from keras.layers.convolutional import Conv2D\n",
        "from keras.layers.pooling import MaxPooling2D\n",
        "from keras.layers.merge import concatenate\n",
        "from keras.utils import to_categorical\n",
        "from keras.layers import Dropout\n",
        "from keras.layers import GlobalAveragePooling2D\n",
        "import tensorflow as tf\n",
        "from keras.callbacks import ModelCheckpoint \n",
        "from sklearn.model_selection import train_test_split\n",
        "import time"
      ],
      "execution_count": 229,
      "outputs": []
    },
    {
      "cell_type": "markdown",
      "metadata": {
        "id": "UEcOSQvSq7Bl"
      },
      "source": [
        "#Data preparation"
      ]
    },
    {
      "cell_type": "code",
      "metadata": {
        "id": "rCAnMJuTyzrA"
      },
      "source": [
        "#Save text file into drive\n",
        "\n",
        "# !ls /content/drive/MyDrive\n",
        "# !mkdir /content/drive/MyDrive/digikala\n",
        "# !cp /content/digikala_dataset.txt /content/drive/MyDrive/digikala"
      ],
      "execution_count": null,
      "outputs": []
    },
    {
      "cell_type": "code",
      "metadata": {
        "id": "StlSM7Z8zRi4"
      },
      "source": [
        "x = []\n",
        "y = []\n",
        "with open('/content/drive/MyDrive/digikala/digikala_dataset.txt','r') as f:\n",
        "  for line in f:\n",
        "    index = line.find('\\t')\n",
        "    dy = line[:index]\n",
        "    dx = line[index+1:]\n",
        "    x.append(dx)\n",
        "    y.append(dy)\n"
      ],
      "execution_count": 2,
      "outputs": []
    },
    {
      "cell_type": "code",
      "metadata": {
        "id": "j3XzcoBj439_"
      },
      "source": [
        "x = np.array(x)\n",
        "y = np.array(y)"
      ],
      "execution_count": 4,
      "outputs": []
    },
    {
      "cell_type": "code",
      "metadata": {
        "id": "lLsmkixkGObW"
      },
      "source": [
        "punkts = {\n",
        "    '!':' ',\n",
        "    ')':' ',\n",
        "    '(':' ',\n",
        "    \"'\":' ',\n",
        "    '.':' ',\n",
        "    ':':' ',\n",
        "    '-':' ',\n",
        "    ',':' ',\n",
        "    '*':' ',\n",
        "    '/':' ',\n",
        "    '[':' ',\n",
        "    ']':' ',\n",
        "    '?':' ',\n",
        "    '؟':' ',\n",
        "    '!':' ',\n",
        "    '}':' ',\n",
        "    '{':' ',\n",
        "    '@':' '\n",
        "}"
      ],
      "execution_count": 28,
      "outputs": []
    },
    {
      "cell_type": "code",
      "metadata": {
        "id": "X0pm27Sk6-GS"
      },
      "source": [
        "punct = str.maketrans(punkts)\n",
        "nopunct_x = [s.translate(punct) for s in x]\n",
        "nopunct_x = [s.replace('\\n',' ').replace('\\t',' ') for s in nopunct_x]"
      ],
      "execution_count": 29,
      "outputs": []
    },
    {
      "cell_type": "code",
      "metadata": {
        "colab": {
          "base_uri": "https://localhost:8080/",
          "height": 406
        },
        "id": "FWU7QXPGAuVO",
        "outputId": "c0939715-65dc-4fb5-a8b2-8c163b4b0d2f"
      },
      "source": [
        "data = {'label':y, \n",
        "        'comment':nopunct_x} \n",
        "df = pd.DataFrame(data) \n",
        "df "
      ],
      "execution_count": 30,
      "outputs": [
        {
          "output_type": "execute_result",
          "data": {
            "text/html": [
              "<div>\n",
              "<style scoped>\n",
              "    .dataframe tbody tr th:only-of-type {\n",
              "        vertical-align: middle;\n",
              "    }\n",
              "\n",
              "    .dataframe tbody tr th {\n",
              "        vertical-align: top;\n",
              "    }\n",
              "\n",
              "    .dataframe thead th {\n",
              "        text-align: right;\n",
              "    }\n",
              "</style>\n",
              "<table border=\"1\" class=\"dataframe\">\n",
              "  <thead>\n",
              "    <tr style=\"text-align: right;\">\n",
              "      <th></th>\n",
              "      <th>label</th>\n",
              "      <th>comment</th>\n",
              "    </tr>\n",
              "  </thead>\n",
              "  <tbody>\n",
              "    <tr>\n",
              "      <th>0</th>\n",
              "      <td>0</td>\n",
              "      <td>لطفا رنگ سفید رو هم موجود کنید</td>\n",
              "    </tr>\n",
              "    <tr>\n",
              "      <th>1</th>\n",
              "      <td>0</td>\n",
              "      <td>با سلام؛ من همین الان میخواستم نوک مدادی بخرم ...</td>\n",
              "    </tr>\n",
              "    <tr>\n",
              "      <th>2</th>\n",
              "      <td>0</td>\n",
              "      <td>من یه روز گذاشتم شارژ 12 روز شارژ داشت</td>\n",
              "    </tr>\n",
              "    <tr>\n",
              "      <th>3</th>\n",
              "      <td>0</td>\n",
              "      <td>برای خاموش کردن نوار چراغ پایین گوشی از برنامه...</td>\n",
              "    </tr>\n",
              "    <tr>\n",
              "      <th>4</th>\n",
              "      <td>0</td>\n",
              "      <td>سلام بر دیجی کالا من میخواستم امروز بخرم ولی ا...</td>\n",
              "    </tr>\n",
              "    <tr>\n",
              "      <th>...</th>\n",
              "      <td>...</td>\n",
              "      <td>...</td>\n",
              "    </tr>\n",
              "    <tr>\n",
              "      <th>200756</th>\n",
              "      <td>0</td>\n",
              "      <td>لطفا موجود کنین</td>\n",
              "    </tr>\n",
              "    <tr>\n",
              "      <th>200757</th>\n",
              "      <td>-1</td>\n",
              "      <td>من 1 ساله دارمش واقعا بده  هنگ زیاد داغ شدن زی...</td>\n",
              "    </tr>\n",
              "    <tr>\n",
              "      <th>200758</th>\n",
              "      <td>0</td>\n",
              "      <td>اگه دو سیمشم بیاری دیجی کالا و نقد و بررسی هم ...</td>\n",
              "    </tr>\n",
              "    <tr>\n",
              "      <th>200759</th>\n",
              "      <td>1</td>\n",
              "      <td>سلام من این گوشیو 2هفته پیش خریدم البته ایم بگ...</td>\n",
              "    </tr>\n",
              "    <tr>\n",
              "      <th>200760</th>\n",
              "      <td>0</td>\n",
              "      <td>مردیم بابا مشکی رو جور کنید دیجییی</td>\n",
              "    </tr>\n",
              "  </tbody>\n",
              "</table>\n",
              "<p>200761 rows × 2 columns</p>\n",
              "</div>"
            ],
            "text/plain": [
              "       label                                            comment\n",
              "0          0                    لطفا رنگ سفید رو هم موجود کنید \n",
              "1          0  با سلام؛ من همین الان میخواستم نوک مدادی بخرم ...\n",
              "2          0            من یه روز گذاشتم شارژ 12 روز شارژ داشت \n",
              "3          0  برای خاموش کردن نوار چراغ پایین گوشی از برنامه...\n",
              "4          0  سلام بر دیجی کالا من میخواستم امروز بخرم ولی ا...\n",
              "...      ...                                                ...\n",
              "200756     0                                   لطفا موجود کنین \n",
              "200757    -1  من 1 ساله دارمش واقعا بده  هنگ زیاد داغ شدن زی...\n",
              "200758     0  اگه دو سیمشم بیاری دیجی کالا و نقد و بررسی هم ...\n",
              "200759     1  سلام من این گوشیو 2هفته پیش خریدم البته ایم بگ...\n",
              "200760     0                 مردیم بابا مشکی رو جور کنید دیجییی\n",
              "\n",
              "[200761 rows x 2 columns]"
            ]
          },
          "metadata": {
            "tags": []
          },
          "execution_count": 30
        }
      ]
    },
    {
      "cell_type": "code",
      "metadata": {
        "id": "1qYWfaoZDf49"
      },
      "source": [
        "#create csv file\n",
        "# !touch /content/drive/MyDrive/digikala/digikala.csv"
      ],
      "execution_count": null,
      "outputs": []
    },
    {
      "cell_type": "code",
      "metadata": {
        "id": "Qp8UxsnTBvbd"
      },
      "source": [
        "df.to_csv ('/content/drive/MyDrive/digikala/digikala.csv', index = False, header=True)"
      ],
      "execution_count": 31,
      "outputs": []
    },
    {
      "cell_type": "markdown",
      "metadata": {
        "id": "PGcCo6MeDw84"
      },
      "source": [
        "#Tokenize"
      ]
    },
    {
      "cell_type": "markdown",
      "metadata": {
        "id": "050DDkayoB7W"
      },
      "source": [
        "##LOad Dataset"
      ]
    },
    {
      "cell_type": "code",
      "metadata": {
        "id": "D7KhDcFcEoYr"
      },
      "source": [
        "df = pd.read_csv('/content/drive/MyDrive/digikala/digikala.csv')"
      ],
      "execution_count": 4,
      "outputs": []
    },
    {
      "cell_type": "code",
      "metadata": {
        "id": "z__Bq7cKFqHW"
      },
      "source": [
        "label = np.array(df['label'])\n",
        "clean_com = np.array(df['comment'])"
      ],
      "execution_count": 5,
      "outputs": []
    },
    {
      "cell_type": "code",
      "metadata": {
        "id": "8vOc__TnoAHp",
        "colab": {
          "base_uri": "https://localhost:8080/"
        },
        "outputId": "f498e44f-f7b8-42c3-e367-1173ff3c0be3"
      },
      "source": [
        "stanza.download('fa') "
      ],
      "execution_count": 6,
      "outputs": [
        {
          "output_type": "stream",
          "text": [
            "Downloading https://raw.githubusercontent.com/stanfordnlp/stanza-resources/master/resources_1.1.0.json: 122kB [00:00, 32.3MB/s]                    \n",
            "2021-01-07 14:53:30 INFO: Downloading default packages for language: fa (Persian)...\n",
            "2021-01-07 14:53:30 INFO: File exists: /root/stanza_resources/fa/default.zip.\n",
            "2021-01-07 14:53:33 INFO: Finished downloading models and saved to /root/stanza_resources.\n"
          ],
          "name": "stderr"
        }
      ]
    },
    {
      "cell_type": "code",
      "metadata": {
        "id": "6u49iW22EYev",
        "colab": {
          "base_uri": "https://localhost:8080/"
        },
        "outputId": "bd49fdb3-951a-44cd-a73b-fcaea2de985b"
      },
      "source": [
        "nlp = stanza.Pipeline(processors='tokenize', lang='fa', tokenize_pretokenized=True, use_gpu=True)\n",
        "tokens = []\n",
        "for row in clean_com:\n",
        "  doc = nlp(row)\n",
        "  try:\n",
        "    sentence = list(doc.sentences)[0]\n",
        "  except:\n",
        "    print(doc.sentences)\n",
        "    pass\n",
        "  tokenz = np.array([token.text for token in sentence.tokens])\n",
        "  tokens.append(tokenz)"
      ],
      "execution_count": 8,
      "outputs": [
        {
          "output_type": "stream",
          "text": [
            "2021-01-07 14:54:21 INFO: Loading these models for language: fa (Persian):\n",
            "=======================\n",
            "| Processor | Package |\n",
            "-----------------------\n",
            "| tokenize  | seraji  |\n",
            "=======================\n",
            "\n",
            "INFO:stanza:Loading these models for language: fa (Persian):\n",
            "=======================\n",
            "| Processor | Package |\n",
            "-----------------------\n",
            "| tokenize  | seraji  |\n",
            "=======================\n",
            "\n",
            "2021-01-07 14:54:21 INFO: Use device: cpu\n",
            "INFO:stanza:Use device: cpu\n",
            "2021-01-07 14:54:21 INFO: Loading: tokenize\n",
            "INFO:stanza:Loading: tokenize\n",
            "2021-01-07 14:54:21 INFO: Done loading processors!\n",
            "INFO:stanza:Done loading processors!\n"
          ],
          "name": "stderr"
        },
        {
          "output_type": "stream",
          "text": [
            "[]\n",
            "[]\n"
          ],
          "name": "stdout"
        }
      ]
    },
    {
      "cell_type": "code",
      "metadata": {
        "colab": {
          "base_uri": "https://localhost:8080/"
        },
        "id": "kKhCgO21txmg",
        "outputId": "81da627e-9150-42ae-ec5d-b10cbaa1c9f3"
      },
      "source": [
        "len(lemmas)"
      ],
      "execution_count": 123,
      "outputs": [
        {
          "output_type": "execute_result",
          "data": {
            "text/plain": [
              "50000"
            ]
          },
          "metadata": {
            "tags": []
          },
          "execution_count": 123
        }
      ]
    },
    {
      "cell_type": "code",
      "metadata": {
        "id": "wG5PVnf1ohkv"
      },
      "source": [
        "nlplemm = stanza.Pipeline(processors='tokenize,lemma', lang='fa',use_gpu=True)\n",
        "lemmas = []\n",
        "i =0\n",
        "for row in clean_com[:50000]:\n",
        "  if i%100 == 0: print(i)\n",
        "  i +=1\n",
        "  try:\n",
        "    sentence = list(nlplemm(row).sentences)[0]\n",
        "    lemmas.append([word.lemma for word in sentence.words if word.lemma != None])\n",
        "  except:\n",
        "    print(doc.sentences)\n",
        "    continue"
      ],
      "execution_count": null,
      "outputs": []
    },
    {
      "cell_type": "code",
      "metadata": {
        "id": "rHsJzhh9oIgE"
      },
      "source": [
        "stopwords = ['از','به','با','را','در','برای',\n",
        "             'که','ازاینرو','این','ان','آن','ها',\n",
        "             'آنجا','اینجا','ازجمله','ازروی','ازلحاظ','اش',\n",
        "             'ات','ام','اید','تان','شان','مان',\n",
        "             'الان','اند','انکه','او','ایم','اینطور',\n",
        "             'انطور','اگر','اگرچه','رو','ب','اگه',\n",
        "             'بلکه','تا','مثل','مثلا','مانند','ما',\n",
        "             'من','ک','فلذا','لذا','فلان','های',\n",
        "             'هایی','چه','هم','اما','چون','تو','توی','و','البته']"
      ],
      "execution_count": 124,
      "outputs": []
    },
    {
      "cell_type": "code",
      "metadata": {
        "id": "puxeOMIg2yyJ"
      },
      "source": [
        "vectsize = 150"
      ],
      "execution_count": 177,
      "outputs": []
    },
    {
      "cell_type": "code",
      "metadata": {
        "colab": {
          "base_uri": "https://localhost:8080/"
        },
        "id": "8d2xTwO8bwwu",
        "outputId": "5cf71824-f7f6-4d94-8e45-bfc3346f1711"
      },
      "source": [
        "nplemmas = np.array(lemmas) \n",
        "nostopwords = [[token for token in token_row if token not in stopwords] for token_row in nplemmas]\n",
        "nostopwords = np.array(nostopwords)\n",
        "model2 = gensim.models.Word2Vec(nostopwords, min_count = 5, size = vectsize, window = 5,sg=0) "
      ],
      "execution_count": 125,
      "outputs": [
        {
          "output_type": "stream",
          "text": [
            "/usr/local/lib/python3.6/dist-packages/ipykernel_launcher.py:1: VisibleDeprecationWarning: Creating an ndarray from ragged nested sequences (which is a list-or-tuple of lists-or-tuples-or ndarrays with different lengths or shapes) is deprecated. If you meant to do this, you must specify 'dtype=object' when creating the ndarray\n",
            "  \"\"\"Entry point for launching an IPython kernel.\n",
            "/usr/local/lib/python3.6/dist-packages/ipykernel_launcher.py:3: VisibleDeprecationWarning: Creating an ndarray from ragged nested sequences (which is a list-or-tuple of lists-or-tuples-or ndarrays with different lengths or shapes) is deprecated. If you meant to do this, you must specify 'dtype=object' when creating the ndarray\n",
            "  This is separate from the ipykernel package so we can avoid doing imports until\n",
            "WARNING:gensim.models.base_any2vec:consider setting layer size to a multiple of 4 for greater performance\n"
          ],
          "name": "stderr"
        }
      ]
    },
    {
      "cell_type": "code",
      "metadata": {
        "id": "1r-aj13wse3i",
        "colab": {
          "base_uri": "https://localhost:8080/"
        },
        "outputId": "61566ac5-3006-43da-f7a6-0d4975565bb3"
      },
      "source": [
        "nptokens = np.array(tokens) "
      ],
      "execution_count": 10,
      "outputs": [
        {
          "output_type": "stream",
          "text": [
            "/usr/local/lib/python3.6/dist-packages/ipykernel_launcher.py:1: VisibleDeprecationWarning: Creating an ndarray from ragged nested sequences (which is a list-or-tuple of lists-or-tuples-or ndarrays with different lengths or shapes) is deprecated. If you meant to do this, you must specify 'dtype=object' when creating the ndarray\n",
            "  \"\"\"Entry point for launching an IPython kernel.\n"
          ],
          "name": "stderr"
        }
      ]
    },
    {
      "cell_type": "code",
      "metadata": {
        "id": "hlza1_MLIxiK"
      },
      "source": [
        "nostopwords = [[token for token in token_row if token not in stopwords] for token_row in nptokens]"
      ],
      "execution_count": 36,
      "outputs": []
    },
    {
      "cell_type": "code",
      "metadata": {
        "colab": {
          "base_uri": "https://localhost:8080/"
        },
        "id": "6f_QCsmlLVek",
        "outputId": "f4f887bd-45f7-43dc-9d4f-a26861726476"
      },
      "source": [
        "nostopwords = np.array(nostopwords)"
      ],
      "execution_count": 37,
      "outputs": [
        {
          "output_type": "stream",
          "text": [
            "/usr/local/lib/python3.6/dist-packages/ipykernel_launcher.py:1: VisibleDeprecationWarning: Creating an ndarray from ragged nested sequences (which is a list-or-tuple of lists-or-tuples-or ndarrays with different lengths or shapes) is deprecated. If you meant to do this, you must specify 'dtype=object' when creating the ndarray\n",
            "  \"\"\"Entry point for launching an IPython kernel.\n"
          ],
          "name": "stderr"
        }
      ]
    },
    {
      "cell_type": "code",
      "metadata": {
        "id": "w0_ZyLoqdSwZ",
        "colab": {
          "base_uri": "https://localhost:8080/"
        },
        "outputId": "8bdf59eb-f3e8-4195-fc3d-640e9011c7e9"
      },
      "source": [
        "model1 = gensim.models.Word2Vec(nostopwords, min_count = 5, size = vectsize, window = 5,sg=0) "
      ],
      "execution_count": 56,
      "outputs": [
        {
          "output_type": "stream",
          "text": [
            "WARNING:gensim.models.base_any2vec:consider setting layer size to a multiple of 4 for greater performance\n"
          ],
          "name": "stderr"
        }
      ]
    },
    {
      "cell_type": "code",
      "metadata": {
        "id": "4YD01QBLb_Y9"
      },
      "source": [
        "model = model2"
      ],
      "execution_count": 126,
      "outputs": []
    },
    {
      "cell_type": "markdown",
      "metadata": {
        "id": "ZHH5xG5XY2Fx"
      },
      "source": [
        "##Similar words"
      ]
    },
    {
      "cell_type": "code",
      "metadata": {
        "colab": {
          "base_uri": "https://localhost:8080/"
        },
        "id": "T_0aDNXfXf4k",
        "outputId": "18acce18-699e-4cf0-c40f-b1d123ca2c39"
      },
      "source": [
        "result = model.most_similar_cosmul(positive=['خوب', 'ممنون'], negative=['متوسط'])\n",
        "result"
      ],
      "execution_count": 127,
      "outputs": [
        {
          "output_type": "stream",
          "text": [
            "/usr/local/lib/python3.6/dist-packages/ipykernel_launcher.py:1: DeprecationWarning: Call to deprecated `most_similar_cosmul` (Method will be removed in 4.0.0, use self.wv.most_similar_cosmul() instead).\n",
            "  \"\"\"Entry point for launching an IPython kernel.\n"
          ],
          "name": "stderr"
        },
        {
          "output_type": "execute_result",
          "data": {
            "text/plain": [
              "[('ممنونم', 1.217738151550293),\n",
              " ('مرسی', 1.2057101726531982),\n",
              " ('باتشکر', 1.0966006517410278),\n",
              " ('خوشحال', 1.0696691274642944),\n",
              " ('متشکرم', 1.0283514261245728),\n",
              " ('منم', 1.008921504020691),\n",
              " ('چیکار', 0.9849681258201599),\n",
              " ('تشکر', 0.9819313287734985),\n",
              " ('منتظرن', 0.9698219895362854),\n",
              " ('ناراحت', 0.9582756757736206)]"
            ]
          },
          "metadata": {
            "tags": []
          },
          "execution_count": 127
        }
      ]
    },
    {
      "cell_type": "code",
      "metadata": {
        "colab": {
          "base_uri": "https://localhost:8080/"
        },
        "id": "-aY5_JBwXpCi",
        "outputId": "612c69ab-55b2-4a7a-ba0f-f8c9b9ec7358"
      },
      "source": [
        "result = model.most_similar_cosmul(positive=['متوسط', 'معمولی'], negative=['قبول'])\n",
        "result"
      ],
      "execution_count": 128,
      "outputs": [
        {
          "output_type": "stream",
          "text": [
            "/usr/local/lib/python3.6/dist-packages/ipykernel_launcher.py:1: DeprecationWarning: Call to deprecated `most_similar_cosmul` (Method will be removed in 4.0.0, use self.wv.most_similar_cosmul() instead).\n",
            "  \"\"\"Entry point for launching an IPython kernel.\n"
          ],
          "name": "stderr"
        },
        {
          "output_type": "execute_result",
          "data": {
            "text/plain": [
              "[('مداوم', 1.6772860288619995),\n",
              " ('حداکثر', 1.5063202381134033),\n",
              " ('روزمره', 1.5013855695724487),\n",
              " ('روزانه', 1.494766116142273),\n",
              " ('عادی', 1.351321816444397),\n",
              " ('وایفای', 1.3003267049789429),\n",
              " ('دوام', 1.2970870733261108),\n",
              " ('یکسره', 1.288082242012024),\n",
              " ('معمول', 1.2732313871383667),\n",
              " ('حین', 1.270707130432129)]"
            ]
          },
          "metadata": {
            "tags": []
          },
          "execution_count": 128
        }
      ]
    },
    {
      "cell_type": "code",
      "metadata": {
        "colab": {
          "base_uri": "https://localhost:8080/"
        },
        "id": "ccmAR-oRXw0K",
        "outputId": "3bff720e-0c64-4507-d970-27c4c2940179"
      },
      "source": [
        "result = model.most_similar_cosmul(positive=['موبایل', 'گوشی'], negative=['کامپیوتر'])\n",
        "result"
      ],
      "execution_count": 129,
      "outputs": [
        {
          "output_type": "stream",
          "text": [
            "/usr/local/lib/python3.6/dist-packages/ipykernel_launcher.py:1: DeprecationWarning: Call to deprecated `most_similar_cosmul` (Method will be removed in 4.0.0, use self.wv.most_similar_cosmul() instead).\n",
            "  \"\"\"Entry point for launching an IPython kernel.\n"
          ],
          "name": "stderr"
        },
        {
          "output_type": "execute_result",
          "data": {
            "text/plain": [
              "[('پرچمدار', 1.195145845413208),\n",
              " ('گوشیه', 1.192892074584961),\n",
              " ('گوشیا', 1.1809098720550537),\n",
              " ('غول', 1.1321289539337158),\n",
              " ('میان', 1.0753382444381714),\n",
              " ('برند', 1.068725824356079),\n",
              " ('فبلت', 1.0516146421432495),\n",
              " ('کمپانی', 1.0365526676177979),\n",
              " ('گوشیهاش', 1.0211732387542725),\n",
              " ('z1', 1.0174870491027832)]"
            ]
          },
          "metadata": {
            "tags": []
          },
          "execution_count": 129
        }
      ]
    },
    {
      "cell_type": "code",
      "metadata": {
        "colab": {
          "base_uri": "https://localhost:8080/"
        },
        "id": "Casbdwykucjp",
        "outputId": "a999582c-b299-4303-d823-6ee6ee22da98"
      },
      "source": [
        "result = model.most_similar_cosmul(positive=['سامسونگ', 'گوشی'], negative=['هواوی'])\n",
        "result"
      ],
      "execution_count": 155,
      "outputs": [
        {
          "output_type": "stream",
          "text": [
            "/usr/local/lib/python3.6/dist-packages/ipykernel_launcher.py:1: DeprecationWarning: Call to deprecated `most_similar_cosmul` (Method will be removed in 4.0.0, use self.wv.most_similar_cosmul() instead).\n",
            "  \"\"\"Entry point for launching an IPython kernel.\n"
          ],
          "name": "stderr"
        },
        {
          "output_type": "execute_result",
          "data": {
            "text/plain": [
              "[('دستگاه', 0.8232766389846802),\n",
              " ('تبلت', 0.8201547861099243),\n",
              " ('طوری', 0.8194299340248108),\n",
              " ('محصول', 0.8046111464500427),\n",
              " ('اون', 0.7765718102455139),\n",
              " ('گوشیه', 0.7650086879730225),\n",
              " ('نگه', 0.7641287446022034),\n",
              " ('هاش', 0.7637757658958435),\n",
              " ('قلم', 0.7628539800643921),\n",
              " ('طراحی', 0.761163592338562)]"
            ]
          },
          "metadata": {
            "tags": []
          },
          "execution_count": 155
        }
      ]
    },
    {
      "cell_type": "markdown",
      "metadata": {
        "id": "q6fzDrfEWvBH"
      },
      "source": [
        "!pip uninstall torch\n",
        "!pip install torch\n"
      ]
    },
    {
      "cell_type": "markdown",
      "metadata": {
        "id": "on6AuvKwn7OD"
      },
      "source": [
        "##Test word2vec Model"
      ]
    },
    {
      "cell_type": "code",
      "metadata": {
        "colab": {
          "base_uri": "https://localhost:8080/"
        },
        "id": "ekNIm7mCdp3f",
        "outputId": "1a9f8415-c68d-4e54-e84d-6284cbcff4e7"
      },
      "source": [
        "model.similarity('بد', 'عالی')"
      ],
      "execution_count": 134,
      "outputs": [
        {
          "output_type": "stream",
          "text": [
            "/usr/local/lib/python3.6/dist-packages/ipykernel_launcher.py:1: DeprecationWarning: Call to deprecated `similarity` (Method will be removed in 4.0.0, use self.wv.similarity() instead).\n",
            "  \"\"\"Entry point for launching an IPython kernel.\n"
          ],
          "name": "stderr"
        },
        {
          "output_type": "execute_result",
          "data": {
            "text/plain": [
              "0.35581672"
            ]
          },
          "metadata": {
            "tags": []
          },
          "execution_count": 134
        }
      ]
    },
    {
      "cell_type": "code",
      "metadata": {
        "colab": {
          "base_uri": "https://localhost:8080/"
        },
        "id": "MPKzZJ7ud9KA",
        "outputId": "2bf7c901-5944-4bdf-8bd0-e75e18da428d"
      },
      "source": [
        "model.similarity('بو', 'طعم')"
      ],
      "execution_count": 135,
      "outputs": [
        {
          "output_type": "stream",
          "text": [
            "/usr/local/lib/python3.6/dist-packages/ipykernel_launcher.py:1: DeprecationWarning: Call to deprecated `similarity` (Method will be removed in 4.0.0, use self.wv.similarity() instead).\n",
            "  \"\"\"Entry point for launching an IPython kernel.\n"
          ],
          "name": "stderr"
        },
        {
          "output_type": "execute_result",
          "data": {
            "text/plain": [
              "0.5344515"
            ]
          },
          "metadata": {
            "tags": []
          },
          "execution_count": 135
        }
      ]
    },
    {
      "cell_type": "code",
      "metadata": {
        "colab": {
          "base_uri": "https://localhost:8080/"
        },
        "id": "RikLZMMdhI_a",
        "outputId": "5cff5d23-62ff-4117-e6a5-55c5e7cc2344"
      },
      "source": [
        "model.similarity('سفید', 'عالی')"
      ],
      "execution_count": 136,
      "outputs": [
        {
          "output_type": "stream",
          "text": [
            "/usr/local/lib/python3.6/dist-packages/ipykernel_launcher.py:1: DeprecationWarning: Call to deprecated `similarity` (Method will be removed in 4.0.0, use self.wv.similarity() instead).\n",
            "  \"\"\"Entry point for launching an IPython kernel.\n"
          ],
          "name": "stderr"
        },
        {
          "output_type": "execute_result",
          "data": {
            "text/plain": [
              "-0.04576087"
            ]
          },
          "metadata": {
            "tags": []
          },
          "execution_count": 136
        }
      ]
    },
    {
      "cell_type": "code",
      "metadata": {
        "colab": {
          "base_uri": "https://localhost:8080/"
        },
        "id": "4WiBZGSihMgF",
        "outputId": "ad654c1f-4b72-4625-f8fe-66e410ebe1a8"
      },
      "source": [
        "model.similarity('بد', 'خش')"
      ],
      "execution_count": 137,
      "outputs": [
        {
          "output_type": "stream",
          "text": [
            "/usr/local/lib/python3.6/dist-packages/ipykernel_launcher.py:1: DeprecationWarning: Call to deprecated `similarity` (Method will be removed in 4.0.0, use self.wv.similarity() instead).\n",
            "  \"\"\"Entry point for launching an IPython kernel.\n"
          ],
          "name": "stderr"
        },
        {
          "output_type": "execute_result",
          "data": {
            "text/plain": [
              "0.25489292"
            ]
          },
          "metadata": {
            "tags": []
          },
          "execution_count": 137
        }
      ]
    },
    {
      "cell_type": "code",
      "metadata": {
        "colab": {
          "base_uri": "https://localhost:8080/"
        },
        "id": "YTCrC7u4hOu7",
        "outputId": "0e9b8639-ffa8-4447-eeee-ed5b84045ce6"
      },
      "source": [
        "model.similarity('بد', 'تیره')"
      ],
      "execution_count": 138,
      "outputs": [
        {
          "output_type": "stream",
          "text": [
            "/usr/local/lib/python3.6/dist-packages/ipykernel_launcher.py:1: DeprecationWarning: Call to deprecated `similarity` (Method will be removed in 4.0.0, use self.wv.similarity() instead).\n",
            "  \"\"\"Entry point for launching an IPython kernel.\n"
          ],
          "name": "stderr"
        },
        {
          "output_type": "execute_result",
          "data": {
            "text/plain": [
              "0.04512664"
            ]
          },
          "metadata": {
            "tags": []
          },
          "execution_count": 138
        }
      ]
    },
    {
      "cell_type": "code",
      "metadata": {
        "colab": {
          "base_uri": "https://localhost:8080/"
        },
        "id": "GnXeuu6vhRcN",
        "outputId": "69f65c14-9fdc-458a-8601-206c2b1484ab"
      },
      "source": [
        "model.similarity('دار', 'دوست')"
      ],
      "execution_count": 144,
      "outputs": [
        {
          "output_type": "stream",
          "text": [
            "/usr/local/lib/python3.6/dist-packages/ipykernel_launcher.py:1: DeprecationWarning: Call to deprecated `similarity` (Method will be removed in 4.0.0, use self.wv.similarity() instead).\n",
            "  \"\"\"Entry point for launching an IPython kernel.\n"
          ],
          "name": "stderr"
        },
        {
          "output_type": "execute_result",
          "data": {
            "text/plain": [
              "-0.022625789"
            ]
          },
          "metadata": {
            "tags": []
          },
          "execution_count": 144
        }
      ]
    },
    {
      "cell_type": "code",
      "metadata": {
        "colab": {
          "base_uri": "https://localhost:8080/"
        },
        "id": "dHt4wqXyhVNp",
        "outputId": "2b7791b5-2c7e-4be0-9a6f-c2bb627234b8"
      },
      "source": [
        "model.similarity('ندار', 'دوست')"
      ],
      "execution_count": 143,
      "outputs": [
        {
          "output_type": "stream",
          "text": [
            "/usr/local/lib/python3.6/dist-packages/ipykernel_launcher.py:1: DeprecationWarning: Call to deprecated `similarity` (Method will be removed in 4.0.0, use self.wv.similarity() instead).\n",
            "  \"\"\"Entry point for launching an IPython kernel.\n"
          ],
          "name": "stderr"
        },
        {
          "output_type": "execute_result",
          "data": {
            "text/plain": [
              "0.054005112"
            ]
          },
          "metadata": {
            "tags": []
          },
          "execution_count": 143
        }
      ]
    },
    {
      "cell_type": "code",
      "metadata": {
        "colab": {
          "base_uri": "https://localhost:8080/"
        },
        "id": "oSJRzD1phXgE",
        "outputId": "59db46cf-a668-45b1-f089-f08ca0da9a6a"
      },
      "source": [
        "model.similarity('عالی', 'مرسی')"
      ],
      "execution_count": 145,
      "outputs": [
        {
          "output_type": "stream",
          "text": [
            "/usr/local/lib/python3.6/dist-packages/ipykernel_launcher.py:1: DeprecationWarning: Call to deprecated `similarity` (Method will be removed in 4.0.0, use self.wv.similarity() instead).\n",
            "  \"\"\"Entry point for launching an IPython kernel.\n"
          ],
          "name": "stderr"
        },
        {
          "output_type": "execute_result",
          "data": {
            "text/plain": [
              "-0.2248378"
            ]
          },
          "metadata": {
            "tags": []
          },
          "execution_count": 145
        }
      ]
    },
    {
      "cell_type": "code",
      "metadata": {
        "colab": {
          "base_uri": "https://localhost:8080/"
        },
        "id": "lSiHb_4ShaYW",
        "outputId": "92c57397-374a-4ef7-bbe1-9fccdae66ab3"
      },
      "source": [
        "model.similarity('مرسی', 'ممنون')"
      ],
      "execution_count": 146,
      "outputs": [
        {
          "output_type": "stream",
          "text": [
            "/usr/local/lib/python3.6/dist-packages/ipykernel_launcher.py:1: DeprecationWarning: Call to deprecated `similarity` (Method will be removed in 4.0.0, use self.wv.similarity() instead).\n",
            "  \"\"\"Entry point for launching an IPython kernel.\n"
          ],
          "name": "stderr"
        },
        {
          "output_type": "execute_result",
          "data": {
            "text/plain": [
              "0.7241453"
            ]
          },
          "metadata": {
            "tags": []
          },
          "execution_count": 146
        }
      ]
    },
    {
      "cell_type": "code",
      "metadata": {
        "colab": {
          "base_uri": "https://localhost:8080/"
        },
        "id": "AbhMTKzphffB",
        "outputId": "bf5ecf22-164c-42d1-d17d-351014300271"
      },
      "source": [
        "model.similarity('تشکر', 'ممنون')\n"
      ],
      "execution_count": 147,
      "outputs": [
        {
          "output_type": "stream",
          "text": [
            "/usr/local/lib/python3.6/dist-packages/ipykernel_launcher.py:1: DeprecationWarning: Call to deprecated `similarity` (Method will be removed in 4.0.0, use self.wv.similarity() instead).\n",
            "  \"\"\"Entry point for launching an IPython kernel.\n"
          ],
          "name": "stderr"
        },
        {
          "output_type": "execute_result",
          "data": {
            "text/plain": [
              "0.61821705"
            ]
          },
          "metadata": {
            "tags": []
          },
          "execution_count": 147
        }
      ]
    },
    {
      "cell_type": "code",
      "metadata": {
        "colab": {
          "base_uri": "https://localhost:8080/"
        },
        "id": "vLMaY0IyhiMo",
        "outputId": "5ada8e9f-a9d9-4201-9fb1-b8c51e7bbe65"
      },
      "source": [
        "model.similarity('افتضاح', 'ممنون')"
      ],
      "execution_count": 148,
      "outputs": [
        {
          "output_type": "stream",
          "text": [
            "/usr/local/lib/python3.6/dist-packages/ipykernel_launcher.py:1: DeprecationWarning: Call to deprecated `similarity` (Method will be removed in 4.0.0, use self.wv.similarity() instead).\n",
            "  \"\"\"Entry point for launching an IPython kernel.\n"
          ],
          "name": "stderr"
        },
        {
          "output_type": "execute_result",
          "data": {
            "text/plain": [
              "-0.2729264"
            ]
          },
          "metadata": {
            "tags": []
          },
          "execution_count": 148
        }
      ]
    },
    {
      "cell_type": "code",
      "metadata": {
        "colab": {
          "base_uri": "https://localhost:8080/"
        },
        "id": "NkMnNwjmhkrX",
        "outputId": "36a696e8-1b30-4b11-c4c4-e6c485906532"
      },
      "source": [
        "model.similarity('مرسی', 'افتضاح')"
      ],
      "execution_count": 149,
      "outputs": [
        {
          "output_type": "stream",
          "text": [
            "/usr/local/lib/python3.6/dist-packages/ipykernel_launcher.py:1: DeprecationWarning: Call to deprecated `similarity` (Method will be removed in 4.0.0, use self.wv.similarity() instead).\n",
            "  \"\"\"Entry point for launching an IPython kernel.\n"
          ],
          "name": "stderr"
        },
        {
          "output_type": "execute_result",
          "data": {
            "text/plain": [
              "-0.37194964"
            ]
          },
          "metadata": {
            "tags": []
          },
          "execution_count": 149
        }
      ]
    },
    {
      "cell_type": "code",
      "metadata": {
        "colab": {
          "base_uri": "https://localhost:8080/"
        },
        "id": "MH544dLRhm_m",
        "outputId": "7bfca94f-c35e-417f-ce71-d3c4635db172"
      },
      "source": [
        "model.similarity('توقع', 'سفید')"
      ],
      "execution_count": 150,
      "outputs": [
        {
          "output_type": "stream",
          "text": [
            "/usr/local/lib/python3.6/dist-packages/ipykernel_launcher.py:1: DeprecationWarning: Call to deprecated `similarity` (Method will be removed in 4.0.0, use self.wv.similarity() instead).\n",
            "  \"\"\"Entry point for launching an IPython kernel.\n"
          ],
          "name": "stderr"
        },
        {
          "output_type": "execute_result",
          "data": {
            "text/plain": [
              "-0.098697655"
            ]
          },
          "metadata": {
            "tags": []
          },
          "execution_count": 150
        }
      ]
    },
    {
      "cell_type": "code",
      "metadata": {
        "colab": {
          "base_uri": "https://localhost:8080/"
        },
        "id": "ElHjUmvXhqPT",
        "outputId": "00d7528c-6787-474b-afc9-b856a1217e8b"
      },
      "source": [
        "model.similarity('خوب', 'بد')"
      ],
      "execution_count": 151,
      "outputs": [
        {
          "output_type": "stream",
          "text": [
            "/usr/local/lib/python3.6/dist-packages/ipykernel_launcher.py:1: DeprecationWarning: Call to deprecated `similarity` (Method will be removed in 4.0.0, use self.wv.similarity() instead).\n",
            "  \"\"\"Entry point for launching an IPython kernel.\n"
          ],
          "name": "stderr"
        },
        {
          "output_type": "execute_result",
          "data": {
            "text/plain": [
              "0.5028223"
            ]
          },
          "metadata": {
            "tags": []
          },
          "execution_count": 151
        }
      ]
    },
    {
      "cell_type": "markdown",
      "metadata": {
        "id": "DJaW-7P0vkEa"
      },
      "source": [
        "##Similar by word"
      ]
    },
    {
      "cell_type": "code",
      "metadata": {
        "colab": {
          "base_uri": "https://localhost:8080/"
        },
        "id": "4EFjqeF9vmSt",
        "outputId": "967a7b9a-881f-4765-f4b4-837086613e26"
      },
      "source": [
        " model.similar_by_word(\"گوشی\")"
      ],
      "execution_count": 156,
      "outputs": [
        {
          "output_type": "stream",
          "text": [
            "/usr/local/lib/python3.6/dist-packages/ipykernel_launcher.py:1: DeprecationWarning: Call to deprecated `similar_by_word` (Method will be removed in 4.0.0, use self.wv.similar_by_word() instead).\n",
            "  \"\"\"Entry point for launching an IPython kernel.\n"
          ],
          "name": "stderr"
        },
        {
          "output_type": "execute_result",
          "data": {
            "text/plain": [
              "[('گوشیه', 0.6207939386367798),\n",
              " ('تبلت', 0.48288244009017944),\n",
              " ('موبایل', 0.46363651752471924),\n",
              " ('گوشیو', 0.45768752694129944),\n",
              " ('گوشیا', 0.4333377778530121),\n",
              " ('دستگاه', 0.4053589403629303),\n",
              " ('پرچمدار', 0.3896113336086273),\n",
              " ('برند', 0.3801174461841583),\n",
              " ('محصول', 0.3778096139431),\n",
              " ('کوشی', 0.3691668212413788)]"
            ]
          },
          "metadata": {
            "tags": []
          },
          "execution_count": 156
        }
      ]
    },
    {
      "cell_type": "code",
      "metadata": {
        "colab": {
          "base_uri": "https://localhost:8080/"
        },
        "id": "70MxvrV9vqMk",
        "outputId": "f2d7e77a-fb34-4f43-e7f8-0beffdd2b3df"
      },
      "source": [
        " model.similar_by_word(\"لپتاپ\")"
      ],
      "execution_count": 157,
      "outputs": [
        {
          "output_type": "stream",
          "text": [
            "/usr/local/lib/python3.6/dist-packages/ipykernel_launcher.py:1: DeprecationWarning: Call to deprecated `similar_by_word` (Method will be removed in 4.0.0, use self.wv.similar_by_word() instead).\n",
            "  \"\"\"Entry point for launching an IPython kernel.\n"
          ],
          "name": "stderr"
        },
        {
          "output_type": "execute_result",
          "data": {
            "text/plain": [
              "[('هیبریدی', 0.7259276509284973),\n",
              " ('لبتاب', 0.699601411819458),\n",
              " ('لب', 0.6893806457519531),\n",
              " ('تاب', 0.6544837355613708),\n",
              " ('ویندوزی', 0.6353491544723511),\n",
              " ('Hotspot', 0.6077556014060974),\n",
              " ('هاب', 0.6043406128883362),\n",
              " ('دانشجویی', 0.5987085700035095),\n",
              " ('لپ', 0.5941034555435181),\n",
              " ('Share', 0.5923898816108704)]"
            ]
          },
          "metadata": {
            "tags": []
          },
          "execution_count": 157
        }
      ]
    },
    {
      "cell_type": "markdown",
      "metadata": {
        "id": "Yr1opjZnwOIa"
      },
      "source": [
        "##Similarity by sentence"
      ]
    },
    {
      "cell_type": "code",
      "metadata": {
        "colab": {
          "base_uri": "https://localhost:8080/"
        },
        "id": "WMmZGErHvyyU",
        "outputId": "ece84f85-c848-49d7-9847-312be7cdd369"
      },
      "source": [
        "model.wmdistance('کتاب خیلی خوبیه', 'خواندن این کتاب را پیشنهاد میکنم')"
      ],
      "execution_count": 158,
      "outputs": [
        {
          "output_type": "stream",
          "text": [
            "/usr/local/lib/python3.6/dist-packages/ipykernel_launcher.py:1: DeprecationWarning: Call to deprecated `wmdistance` (Method will be removed in 4.0.0, use self.wv.wmdistance() instead).\n",
            "  \"\"\"Entry point for launching an IPython kernel.\n"
          ],
          "name": "stderr"
        },
        {
          "output_type": "execute_result",
          "data": {
            "text/plain": [
              "1.5797544538304544"
            ]
          },
          "metadata": {
            "tags": []
          },
          "execution_count": 158
        }
      ]
    },
    {
      "cell_type": "code",
      "metadata": {
        "colab": {
          "base_uri": "https://localhost:8080/"
        },
        "id": "JfK1awaav8fL",
        "outputId": "b51b9965-bb02-42e6-c8da-c35b6f052425"
      },
      "source": [
        "model.wmdistance('گوشی از علادین بخری بهتری', 'خرید این عطر رو توضیه میکنم')"
      ],
      "execution_count": 159,
      "outputs": [
        {
          "output_type": "stream",
          "text": [
            "/usr/local/lib/python3.6/dist-packages/ipykernel_launcher.py:1: DeprecationWarning: Call to deprecated `wmdistance` (Method will be removed in 4.0.0, use self.wv.wmdistance() instead).\n",
            "  \"\"\"Entry point for launching an IPython kernel.\n"
          ],
          "name": "stderr"
        },
        {
          "output_type": "execute_result",
          "data": {
            "text/plain": [
              "0.5956060425608778"
            ]
          },
          "metadata": {
            "tags": []
          },
          "execution_count": 159
        }
      ]
    },
    {
      "cell_type": "code",
      "metadata": {
        "colab": {
          "base_uri": "https://localhost:8080/"
        },
        "id": "62YV6aZkwIJw",
        "outputId": "654ae2fc-bef5-4529-b6ee-d40746c36193"
      },
      "source": [
        "model.wmdistance('گوشی از علادین بخری بهتری', 'خرید این گوشی رو توضیه میکنم')\n"
      ],
      "execution_count": 161,
      "outputs": [
        {
          "output_type": "stream",
          "text": [
            "/usr/local/lib/python3.6/dist-packages/ipykernel_launcher.py:1: DeprecationWarning: Call to deprecated `wmdistance` (Method will be removed in 4.0.0, use self.wv.wmdistance() instead).\n",
            "  \"\"\"Entry point for launching an IPython kernel.\n"
          ],
          "name": "stderr"
        },
        {
          "output_type": "execute_result",
          "data": {
            "text/plain": [
              "0.6169782829566299"
            ]
          },
          "metadata": {
            "tags": []
          },
          "execution_count": 161
        }
      ]
    },
    {
      "cell_type": "markdown",
      "metadata": {
        "id": "9ejL6z21x3mH"
      },
      "source": [
        "##Most repeted words"
      ]
    },
    {
      "cell_type": "code",
      "metadata": {
        "id": "75ypcmEpxkGe"
      },
      "source": [
        "model.wv.index2entity[:50]"
      ],
      "execution_count": null,
      "outputs": []
    },
    {
      "cell_type": "markdown",
      "metadata": {
        "id": "JapvOvDNxfr-"
      },
      "source": [
        "#Generate features"
      ]
    },
    {
      "cell_type": "code",
      "metadata": {
        "id": "E3A5CFuI6kOk"
      },
      "source": [
        "wordnum = 20"
      ],
      "execution_count": 202,
      "outputs": []
    },
    {
      "cell_type": "code",
      "metadata": {
        "id": "BWRrvz6m0jfz"
      },
      "source": [
        "vects = []\n",
        "emptyvect = np.ones(vectsize)\n",
        "emptyvect *= 0.01\n",
        "for sent in nostopwords:\n",
        "  vect = []\n",
        "  if len(sent) >=20:\n",
        "    for word in sent[:20]:\n",
        "      try:\n",
        "        vect.append(model.wv[word])\n",
        "      except:\n",
        "        vect.append(emptyvect)\n",
        "  else:\n",
        "    for word in sent:\n",
        "      try:\n",
        "        vect.append(model.wv[word])\n",
        "      except:\n",
        "        vect.append(emptyvect)\n",
        "    for i in range(0,20-len(sent)):\n",
        "      vect.append(emptyvect)\n",
        "  vects.append(np.array(vect))\n",
        "  \n"
      ],
      "execution_count": 197,
      "outputs": []
    },
    {
      "cell_type": "code",
      "metadata": {
        "colab": {
          "base_uri": "https://localhost:8080/"
        },
        "id": "gzGomdYq5WGu",
        "outputId": "0f2d2167-3767-4dbd-b18b-5caa655e67b4"
      },
      "source": [
        "X = np.array(vects)\n",
        "X = np.expand_dims(X,3)\n",
        "print('X shape is',X.shape)\n",
        "Y = np.array(label[:50000])+1\n",
        "Y = to_categorical(Y)\n",
        "print('Y shape is ',Y.shape)"
      ],
      "execution_count": 222,
      "outputs": [
        {
          "output_type": "stream",
          "text": [
            "X shape is (50000, 20, 150, 1)\n",
            "Y shape is  (50000, 3)\n"
          ],
          "name": "stdout"
        }
      ]
    },
    {
      "cell_type": "code",
      "metadata": {
        "id": "gOr8Yica8cFs"
      },
      "source": [
        "X_train, X_test, y_train, y_test = train_test_split(X,\n",
        "                                                    Y,\n",
        "                                                    test_size=0.20,\n",
        "                                                    random_state=42)"
      ],
      "execution_count": 230,
      "outputs": []
    },
    {
      "cell_type": "markdown",
      "metadata": {
        "id": "01XtfZlOjJoE"
      },
      "source": [
        "#CNN"
      ]
    },
    {
      "cell_type": "code",
      "metadata": {
        "id": "ZtwuofwQkpka"
      },
      "source": [
        "from sklearn.metrics import accuracy_score, f1_score, confusion_matrix\n",
        "\n",
        "\n",
        "def evaluation(y_test, y_pred, fig_name, title):\n",
        "    acc = accuracy_score(y_test, y_pred)\n",
        "    print('Accuracy for', title, '=', acc)\n",
        "    f1 = f1_score(y_test, y_pred, average = 'macro')\n",
        "    print('F1 score for', title, '=', f1)\n",
        "    cm = confusion_matrix(y_test, y_pred)\n",
        "    df_cm = pd.DataFrame(cm, range(3), range(3))\n",
        "    plt.figure(figsize = (10, 7))\n",
        "    sn.set(font_scale = 1.4) # for label size\n",
        "    sn.heatmap(df_cm , annot = True, annot_kws = {\"size\" : 16}, fmt = 'g') # font size\n",
        "    plt.title(title)\n",
        "    plt.savefig(fig_name + '.png')\n",
        "    plt.show()"
      ],
      "execution_count": 244,
      "outputs": []
    },
    {
      "cell_type": "code",
      "metadata": {
        "colab": {
          "base_uri": "https://localhost:8080/",
          "height": 1000
        },
        "id": "RrnIdS5TkWCc",
        "outputId": "2755cf9a-be8e-41f3-dec6-b89eb76e0922"
      },
      "source": [
        "def inception_module(layer_in, f1, f2, f3):\n",
        "\tconv1 = Conv2D(f1, (1,1), padding='same', activation='relu')(layer_in)\n",
        "\tconv3 = Conv2D(f2, (3,3), padding='same', activation='relu')(layer_in)\n",
        "\tconv51 = Conv2D(f3, (3,3), padding='same', activation='relu')(layer_in)\n",
        "\tconv5 = Conv2D(f3, (3,3), padding='same', activation='relu')(conv51)\n",
        "\tpool = MaxPooling2D((3,3), strides=(1,1), padding='same')(layer_in)\n",
        "\tlayer_out = concatenate([conv1, conv3, conv5, pool], axis=-1)\n",
        "\treturn layer_out\n",
        " \n",
        "visible = Input(shape=(wordnum,vectsize,1))\n",
        "# convlayer = naive_inception_module(visible, 64, 64, 32)\n",
        "conv1 = Conv2D(32, (3,6), activation='relu')(visible)\n",
        "conv1 = Conv2D(16, (3,3), activation='relu')(visible)\n",
        "pool1 = MaxPooling2D((3,3), strides=(1,1), padding='same')(conv1)\n",
        "# inception = inception_module(pool1, 32, 64, 16)\n",
        "# pool2 = MaxPooling2D((3,3), strides=(1,1), padding='same')(inception)\n",
        "# gavgpool = GlobalAveragePooling2D()(pool2)\n",
        "gavgpool = Flatten()(pool1)\n",
        "dens1 = Dense(64, activation='relu')(gavgpool)\n",
        "# dens2 = Dense(128, activation='relu')(dens1, activation='relu')\n",
        "drop2 = Dropout(0.2)(dens1)\n",
        "dens3 = Dense(32, activation='relu')(drop2)\n",
        "dens4 = Dense(3, activation='sigmoid')(dens3)\n",
        "model = Model(inputs=visible, outputs=dens4)\n",
        "\n",
        "model.summary()\n",
        "plot_model(model, show_shapes=True, to_file='naive_inception_module.png')"
      ],
      "execution_count": 225,
      "outputs": [
        {
          "output_type": "stream",
          "text": [
            "Model: \"model_4\"\n",
            "_________________________________________________________________\n",
            "Layer (type)                 Output Shape              Param #   \n",
            "=================================================================\n",
            "input_5 (InputLayer)         [(None, 20, 150, 1)]      0         \n",
            "_________________________________________________________________\n",
            "conv2d_9 (Conv2D)            (None, 18, 148, 16)       160       \n",
            "_________________________________________________________________\n",
            "max_pooling2d_4 (MaxPooling2 (None, 18, 148, 16)       0         \n",
            "_________________________________________________________________\n",
            "flatten_4 (Flatten)          (None, 42624)             0         \n",
            "_________________________________________________________________\n",
            "dense_12 (Dense)             (None, 64)                2728000   \n",
            "_________________________________________________________________\n",
            "dropout_4 (Dropout)          (None, 64)                0         \n",
            "_________________________________________________________________\n",
            "dense_13 (Dense)             (None, 32)                2080      \n",
            "_________________________________________________________________\n",
            "dense_14 (Dense)             (None, 3)                 99        \n",
            "=================================================================\n",
            "Total params: 2,730,339\n",
            "Trainable params: 2,730,339\n",
            "Non-trainable params: 0\n",
            "_________________________________________________________________\n"
          ],
          "name": "stdout"
        },
        {
          "output_type": "execute_result",
          "data": {
            "image/png": "[encoded data removed]",
            "text/plain": [
              "<IPython.core.display.Image object>"
            ]
          },
          "metadata": {
            "tags": []
          },
          "execution_count": 225
        }
      ]
    },
    {
      "cell_type": "code",
      "metadata": {
        "colab": {
          "base_uri": "https://localhost:8080/"
        },
        "id": "L_1YLOwFktu1",
        "outputId": "3073601b-161f-4f0d-a09c-96bb612cb559"
      },
      "source": [
        "model.compile(optimizer='adam', loss = 'categorical_crossentropy', metrics = ['accuracy'])\n",
        "checkpoint = ModelCheckpoint('model.h5', verbose=1, monitor='val_accuracy',save_best_only=True,save_weights_only=True, mode='auto')  \n",
        "with tf.device('/device:GPU:0'):\n",
        "  start_time = time.time()\n",
        "  history = model.fit(x=X_train,y = y_train,validation_split=0.2 ,epochs=25,batch_size =1000,callbacks=[checkpoint])\n",
        "  print(\"--- %s seconds ---\" % (time.time() - start_time))"
      ],
      "execution_count": 231,
      "outputs": [
        {
          "output_type": "stream",
          "text": [
            "Epoch 1/25\n",
            "32/32 [==============================] - 2s 49ms/step - loss: 0.6085 - accuracy: 0.7665 - val_loss: 0.5439 - val_accuracy: 0.7874\n",
            "\n",
            "Epoch 00001: val_accuracy improved from -inf to 0.78737, saving model to model.h5\n",
            "Epoch 2/25\n",
            "32/32 [==============================] - 1s 39ms/step - loss: 0.5732 - accuracy: 0.7758 - val_loss: 0.5536 - val_accuracy: 0.7878\n",
            "\n",
            "Epoch 00002: val_accuracy improved from 0.78737 to 0.78775, saving model to model.h5\n",
            "Epoch 3/25\n",
            "32/32 [==============================] - 1s 40ms/step - loss: 0.5631 - accuracy: 0.7813 - val_loss: 0.5503 - val_accuracy: 0.7878\n",
            "\n",
            "Epoch 00003: val_accuracy did not improve from 0.78775\n",
            "Epoch 4/25\n",
            "32/32 [==============================] - 1s 40ms/step - loss: 0.5666 - accuracy: 0.7768 - val_loss: 0.5408 - val_accuracy: 0.7879\n",
            "\n",
            "Epoch 00004: val_accuracy improved from 0.78775 to 0.78787, saving model to model.h5\n",
            "Epoch 5/25\n",
            "32/32 [==============================] - 1s 40ms/step - loss: 0.5489 - accuracy: 0.7812 - val_loss: 0.5345 - val_accuracy: 0.7879\n",
            "\n",
            "Epoch 00005: val_accuracy did not improve from 0.78787\n",
            "Epoch 6/25\n",
            "32/32 [==============================] - 1s 40ms/step - loss: 0.5432 - accuracy: 0.7802 - val_loss: 0.5458 - val_accuracy: 0.7878\n",
            "\n",
            "Epoch 00006: val_accuracy did not improve from 0.78787\n",
            "Epoch 7/25\n",
            "32/32 [==============================] - 1s 40ms/step - loss: 0.5544 - accuracy: 0.7803 - val_loss: 0.5600 - val_accuracy: 0.7876\n",
            "\n",
            "Epoch 00007: val_accuracy did not improve from 0.78787\n",
            "Epoch 8/25\n",
            "32/32 [==============================] - 1s 40ms/step - loss: 0.5473 - accuracy: 0.7819 - val_loss: 0.5347 - val_accuracy: 0.7874\n",
            "\n",
            "Epoch 00008: val_accuracy did not improve from 0.78787\n",
            "Epoch 9/25\n",
            "32/32 [==============================] - 1s 40ms/step - loss: 0.5338 - accuracy: 0.7803 - val_loss: 0.5338 - val_accuracy: 0.7874\n",
            "\n",
            "Epoch 00009: val_accuracy did not improve from 0.78787\n",
            "Epoch 10/25\n",
            "32/32 [==============================] - 1s 40ms/step - loss: 0.5590 - accuracy: 0.7770 - val_loss: 0.5559 - val_accuracy: 0.7745\n",
            "\n",
            "Epoch 00010: val_accuracy did not improve from 0.78787\n",
            "Epoch 11/25\n",
            "32/32 [==============================] - 1s 40ms/step - loss: 0.5568 - accuracy: 0.7670 - val_loss: 0.5542 - val_accuracy: 0.7745\n",
            "\n",
            "Epoch 00011: val_accuracy did not improve from 0.78787\n",
            "Epoch 12/25\n",
            "32/32 [==============================] - 1s 40ms/step - loss: 0.5444 - accuracy: 0.7700 - val_loss: 0.5594 - val_accuracy: 0.7750\n",
            "\n",
            "Epoch 00012: val_accuracy did not improve from 0.78787\n",
            "Epoch 13/25\n",
            "32/32 [==============================] - 1s 39ms/step - loss: 0.5489 - accuracy: 0.7669 - val_loss: 0.5578 - val_accuracy: 0.7750\n",
            "\n",
            "Epoch 00013: val_accuracy did not improve from 0.78787\n",
            "Epoch 14/25\n",
            "32/32 [==============================] - 2s 52ms/step - loss: 0.5463 - accuracy: 0.7658 - val_loss: 0.5482 - val_accuracy: 0.7747\n",
            "\n",
            "Epoch 00014: val_accuracy did not improve from 0.78787\n",
            "Epoch 15/25\n",
            "32/32 [==============================] - 1s 40ms/step - loss: 0.5457 - accuracy: 0.7679 - val_loss: 0.5373 - val_accuracy: 0.7879\n",
            "\n",
            "Epoch 00015: val_accuracy did not improve from 0.78787\n",
            "Epoch 16/25\n",
            "32/32 [==============================] - 1s 40ms/step - loss: 0.5246 - accuracy: 0.7789 - val_loss: 0.5386 - val_accuracy: 0.7878\n",
            "\n",
            "Epoch 00016: val_accuracy did not improve from 0.78787\n",
            "Epoch 17/25\n",
            "32/32 [==============================] - 1s 40ms/step - loss: 0.5172 - accuracy: 0.7800 - val_loss: 0.5632 - val_accuracy: 0.7879\n",
            "\n",
            "Epoch 00017: val_accuracy did not improve from 0.78787\n",
            "Epoch 18/25\n",
            "32/32 [==============================] - 1s 41ms/step - loss: 0.5126 - accuracy: 0.7798 - val_loss: 0.5514 - val_accuracy: 0.7879\n",
            "\n",
            "Epoch 00018: val_accuracy did not improve from 0.78787\n",
            "Epoch 19/25\n",
            "32/32 [==============================] - 1s 41ms/step - loss: 0.5160 - accuracy: 0.7779 - val_loss: 0.5583 - val_accuracy: 0.7879\n",
            "\n",
            "Epoch 00019: val_accuracy did not improve from 0.78787\n",
            "Epoch 20/25\n",
            "32/32 [==============================] - 1s 41ms/step - loss: 0.5271 - accuracy: 0.7784 - val_loss: 0.5485 - val_accuracy: 0.7870\n",
            "\n",
            "Epoch 00020: val_accuracy did not improve from 0.78787\n",
            "Epoch 21/25\n",
            "32/32 [==============================] - 1s 40ms/step - loss: 0.5132 - accuracy: 0.7773 - val_loss: 0.5563 - val_accuracy: 0.7878\n",
            "\n",
            "Epoch 00021: val_accuracy did not improve from 0.78787\n",
            "Epoch 22/25\n",
            "32/32 [==============================] - 1s 41ms/step - loss: 0.5239 - accuracy: 0.7793 - val_loss: 0.5490 - val_accuracy: 0.7878\n",
            "\n",
            "Epoch 00022: val_accuracy did not improve from 0.78787\n",
            "Epoch 23/25\n",
            "32/32 [==============================] - 1s 41ms/step - loss: 0.5106 - accuracy: 0.7792 - val_loss: 0.5596 - val_accuracy: 0.7846\n",
            "\n",
            "Epoch 00023: val_accuracy did not improve from 0.78787\n",
            "Epoch 24/25\n",
            "32/32 [==============================] - 1s 41ms/step - loss: 0.5014 - accuracy: 0.7796 - val_loss: 0.5570 - val_accuracy: 0.7839\n",
            "\n",
            "Epoch 00024: val_accuracy did not improve from 0.78787\n",
            "Epoch 25/25\n",
            "32/32 [==============================] - 1s 41ms/step - loss: 0.4931 - accuracy: 0.7801 - val_loss: 0.5556 - val_accuracy: 0.7815\n",
            "\n",
            "Epoch 00025: val_accuracy did not improve from 0.78787\n",
            "--- 33.93215775489807 seconds ---\n"
          ],
          "name": "stdout"
        }
      ]
    },
    {
      "cell_type": "code",
      "metadata": {
        "colab": {
          "base_uri": "https://localhost:8080/",
          "height": 491
        },
        "id": "0buZWK8685ou",
        "outputId": "26e1ce3a-b088-449e-a422-77e2f6eadb90"
      },
      "source": [
        "predicted = model.predict(X_test)\n",
        "y_pred = np.argmax(predicted,1)\n",
        "y_tested = np.argmax(y_test,1)\n",
        "evaluation(y_tested,y_pred,'CNN',\"Digikala\")"
      ],
      "execution_count": 245,
      "outputs": [
        {
          "output_type": "stream",
          "text": [
            "Accuracy for Digikala = 0.7758\n",
            "F1 score for Digikala = 0.3893745041342717\n"
          ],
          "name": "stdout"
        },
        {
          "output_type": "display_data",
          "data": {
            "image/png": "[encoded data removed]",
            "text/plain": [
              "<Figure size 720x504 with 2 Axes>"
            ]
          },
          "metadata": {
            "tags": [],
            "needs_background": "light"
          }
        }
      ]
    }
  ]
}