{
  "nbformat": 4,
  "nbformat_minor": 0,
  "metadata": {
    "colab": {
      "name": "comment_analysis.ipynb",
      "provenance": [],
      "collapsed_sections": [],
      "mount_file_id": "1NUW9Boa819KPbp-rGfijNc3qkweGJIaV",
      "authorship_tag": "ABX9TyMN4meiv9v6x0nQAsJ63GeY",
      "include_colab_link": true
    },
    "kernelspec": {
      "name": "python3",
      "display_name": "Python 3"
    },
    "accelerator": "GPU"
  },
  "cells": [
    {
      "cell_type": "markdown",
      "metadata": {
        "id": "view-in-github",
        "colab_type": "text"
      },
      "source": [
        "<a href=\"https://colab.research.google.com/github/mahsaghaderan99/DigikalaCommentAnalysis/blob/word2vec/comment_analysis.ipynb\" target=\"_parent\"><img src=\"https://colab.research.google.com/assets/colab-badge.svg\" alt=\"Open In Colab\"/></a>"
      ]
    },
    {
      "cell_type": "markdown",
      "metadata": {
        "id": "EHdscTCirHZh"
      },
      "source": [
        "#Installation"
      ]
    },
    {
      "cell_type": "code",
      "metadata": {
        "id": "ocIxrDHloNot",
        "colab": {
          "base_uri": "https://localhost:8080/"
        },
        "outputId": "703d2546-0943-49e0-9fb6-282090e6111d"
      },
      "source": [
        "!pip install stanfordnlp"
      ],
      "execution_count": 4,
      "outputs": [
        {
          "output_type": "stream",
          "text": [
            "Collecting stanfordnlp\n",
            "\u001b[?25l  Downloading https://files.pythonhosted.org/packages/41/bf/5d2898febb6e993fcccd90484cba3c46353658511a41430012e901824e94/stanfordnlp-0.2.0-py3-none-any.whl (158kB)\n",
            "\r\u001b[K     |██                              | 10kB 18.5MB/s eta 0:00:01\r\u001b[K     |████▏                           | 20kB 24.0MB/s eta 0:00:01\r\u001b[K     |██████▏                         | 30kB 28.6MB/s eta 0:00:01\r\u001b[K     |████████▎                       | 40kB 30.9MB/s eta 0:00:01\r\u001b[K     |██████████▎                     | 51kB 29.2MB/s eta 0:00:01\r\u001b[K     |████████████▍                   | 61kB 23.2MB/s eta 0:00:01\r\u001b[K     |██████████████▌                 | 71kB 22.7MB/s eta 0:00:01\r\u001b[K     |████████████████▌               | 81kB 20.3MB/s eta 0:00:01\r\u001b[K     |██████████████████▋             | 92kB 21.2MB/s eta 0:00:01\r\u001b[K     |████████████████████▋           | 102kB 20.6MB/s eta 0:00:01\r\u001b[K     |██████████████████████▊         | 112kB 20.6MB/s eta 0:00:01\r\u001b[K     |████████████████████████▊       | 122kB 20.6MB/s eta 0:00:01\r\u001b[K     |██████████████████████████▉     | 133kB 20.6MB/s eta 0:00:01\r\u001b[K     |█████████████████████████████   | 143kB 20.6MB/s eta 0:00:01\r\u001b[K     |███████████████████████████████ | 153kB 20.6MB/s eta 0:00:01\r\u001b[K     |████████████████████████████████| 163kB 20.6MB/s \n",
            "\u001b[?25hRequirement already satisfied: tqdm in /usr/local/lib/python3.6/dist-packages (from stanfordnlp) (4.41.1)\n",
            "Requirement already satisfied: torch>=1.0.0 in /usr/local/lib/python3.6/dist-packages (from stanfordnlp) (1.7.0+cu101)\n",
            "Requirement already satisfied: numpy in /usr/local/lib/python3.6/dist-packages (from stanfordnlp) (1.19.4)\n",
            "Requirement already satisfied: requests in /usr/local/lib/python3.6/dist-packages (from stanfordnlp) (2.23.0)\n",
            "Requirement already satisfied: protobuf in /usr/local/lib/python3.6/dist-packages (from stanfordnlp) (3.12.4)\n",
            "Requirement already satisfied: typing-extensions in /usr/local/lib/python3.6/dist-packages (from torch>=1.0.0->stanfordnlp) (3.7.4.3)\n",
            "Requirement already satisfied: dataclasses in /usr/local/lib/python3.6/dist-packages (from torch>=1.0.0->stanfordnlp) (0.8)\n",
            "Requirement already satisfied: future in /usr/local/lib/python3.6/dist-packages (from torch>=1.0.0->stanfordnlp) (0.16.0)\n",
            "Requirement already satisfied: urllib3!=1.25.0,!=1.25.1,<1.26,>=1.21.1 in /usr/local/lib/python3.6/dist-packages (from requests->stanfordnlp) (1.24.3)\n",
            "Requirement already satisfied: certifi>=2017.4.17 in /usr/local/lib/python3.6/dist-packages (from requests->stanfordnlp) (2020.12.5)\n",
            "Requirement already satisfied: idna<3,>=2.5 in /usr/local/lib/python3.6/dist-packages (from requests->stanfordnlp) (2.10)\n",
            "Requirement already satisfied: chardet<4,>=3.0.2 in /usr/local/lib/python3.6/dist-packages (from requests->stanfordnlp) (3.0.4)\n",
            "Requirement already satisfied: six>=1.9 in /usr/local/lib/python3.6/dist-packages (from protobuf->stanfordnlp) (1.15.0)\n",
            "Requirement already satisfied: setuptools in /usr/local/lib/python3.6/dist-packages (from protobuf->stanfordnlp) (51.0.0)\n",
            "Installing collected packages: stanfordnlp\n",
            "Successfully installed stanfordnlp-0.2.0\n"
          ],
          "name": "stdout"
        }
      ]
    },
    {
      "cell_type": "markdown",
      "metadata": {
        "id": "FxYtjv-oq12t"
      },
      "source": [
        "#Imports"
      ]
    },
    {
      "cell_type": "code",
      "metadata": {
        "id": "fYlcRYzcnwpF"
      },
      "source": [
        "import stanfordnlp\n",
        "import numpy as np\n",
        "import pandas as pd "
      ],
      "execution_count": 5,
      "outputs": []
    },
    {
      "cell_type": "code",
      "metadata": {
        "id": "e8kenI7qdXl9"
      },
      "source": [
        "import gensim \n",
        "from gensim.models import Word2Vec "
      ],
      "execution_count": 13,
      "outputs": []
    },
    {
      "cell_type": "markdown",
      "metadata": {
        "id": "UEcOSQvSq7Bl"
      },
      "source": [
        "#Data preparation"
      ]
    },
    {
      "cell_type": "code",
      "metadata": {
        "id": "rCAnMJuTyzrA"
      },
      "source": [
        "#Save text file into drive\n",
        "\n",
        "# !ls /content/drive/MyDrive\n",
        "# !mkdir /content/drive/MyDrive/digikala\n",
        "# !cp /content/digikala_dataset.txt /content/drive/MyDrive/digikala"
      ],
      "execution_count": null,
      "outputs": []
    },
    {
      "cell_type": "code",
      "metadata": {
        "id": "StlSM7Z8zRi4"
      },
      "source": [
        "x = []\n",
        "y = []\n",
        "with open('/content/drive/MyDrive/digikala/digikala_dataset.txt','r') as f:\n",
        "  for line in f:\n",
        "    index = line.find('\\t')\n",
        "    dy = line[:index]\n",
        "    dx = line[index+1:]\n",
        "    x.append(dx)\n",
        "    y.append(dy)\n"
      ],
      "execution_count": null,
      "outputs": []
    },
    {
      "cell_type": "code",
      "metadata": {
        "id": "j3XzcoBj439_"
      },
      "source": [
        "x = np.array(x)\n",
        "y = np.array(y)"
      ],
      "execution_count": null,
      "outputs": []
    },
    {
      "cell_type": "code",
      "metadata": {
        "id": "X0pm27Sk6-GS"
      },
      "source": [
        "punct = str.maketrans(dict.fromkeys(string.punctuation,' '))\n",
        "nopunct_x = [s.translate(table) for s in x]\n",
        "nopunct_x = [s.replace('\\n',' ').replace('\\t',' ') for s in x]"
      ],
      "execution_count": null,
      "outputs": []
    },
    {
      "cell_type": "code",
      "metadata": {
        "colab": {
          "base_uri": "https://localhost:8080/",
          "height": 406
        },
        "id": "FWU7QXPGAuVO",
        "outputId": "9bc95023-9f29-44f5-f286-2bf00312cf59"
      },
      "source": [
        "data = {'label':y, \n",
        "        'comment':nopunct_x} \n",
        "df = pd.DataFrame(data) \n",
        "df "
      ],
      "execution_count": null,
      "outputs": [
        {
          "output_type": "execute_result",
          "data": {
            "text/html": [
              "<div>\n",
              "<style scoped>\n",
              "    .dataframe tbody tr th:only-of-type {\n",
              "        vertical-align: middle;\n",
              "    }\n",
              "\n",
              "    .dataframe tbody tr th {\n",
              "        vertical-align: top;\n",
              "    }\n",
              "\n",
              "    .dataframe thead th {\n",
              "        text-align: right;\n",
              "    }\n",
              "</style>\n",
              "<table border=\"1\" class=\"dataframe\">\n",
              "  <thead>\n",
              "    <tr style=\"text-align: right;\">\n",
              "      <th></th>\n",
              "      <th>label</th>\n",
              "      <th>comment</th>\n",
              "    </tr>\n",
              "  </thead>\n",
              "  <tbody>\n",
              "    <tr>\n",
              "      <th>0</th>\n",
              "      <td>0</td>\n",
              "      <td>لطفا رنگ سفید رو هم موجود کنید</td>\n",
              "    </tr>\n",
              "    <tr>\n",
              "      <th>1</th>\n",
              "      <td>0</td>\n",
              "      <td>با سلام؛ من همین الان میخواستم نوک مدادی بخرم ...</td>\n",
              "    </tr>\n",
              "    <tr>\n",
              "      <th>2</th>\n",
              "      <td>0</td>\n",
              "      <td>من یه روز گذاشتم شارژ 12 روز شارژ داشت</td>\n",
              "    </tr>\n",
              "    <tr>\n",
              "      <th>3</th>\n",
              "      <td>0</td>\n",
              "      <td>برای خاموش کردن نوار چراغ پایین گوشی از برنامه...</td>\n",
              "    </tr>\n",
              "    <tr>\n",
              "      <th>4</th>\n",
              "      <td>0</td>\n",
              "      <td>سلام بر دیجی کالا من میخواستم امروز بخرم ولی ا...</td>\n",
              "    </tr>\n",
              "    <tr>\n",
              "      <th>...</th>\n",
              "      <td>...</td>\n",
              "      <td>...</td>\n",
              "    </tr>\n",
              "    <tr>\n",
              "      <th>200756</th>\n",
              "      <td>0</td>\n",
              "      <td>لطفا موجود کنین</td>\n",
              "    </tr>\n",
              "    <tr>\n",
              "      <th>200757</th>\n",
              "      <td>-1</td>\n",
              "      <td>من 1 ساله دارمش واقعا بده. هنگ زیاد داغ شدن زی...</td>\n",
              "    </tr>\n",
              "    <tr>\n",
              "      <th>200758</th>\n",
              "      <td>0</td>\n",
              "      <td>اگه دو سیمشم بیاری دیجی کالا و نقد و بررسی هم ...</td>\n",
              "    </tr>\n",
              "    <tr>\n",
              "      <th>200759</th>\n",
              "      <td>1</td>\n",
              "      <td>سلام.من این گوشیو 2هفته پیش خریدم البته ایم بگ...</td>\n",
              "    </tr>\n",
              "    <tr>\n",
              "      <th>200760</th>\n",
              "      <td>0</td>\n",
              "      <td>مردیم بابا مشکی رو جور کنید دیجییی</td>\n",
              "    </tr>\n",
              "  </tbody>\n",
              "</table>\n",
              "<p>200761 rows × 2 columns</p>\n",
              "</div>"
            ],
            "text/plain": [
              "       label                                            comment\n",
              "0          0                    لطفا رنگ سفید رو هم موجود کنید \n",
              "1          0  با سلام؛ من همین الان میخواستم نوک مدادی بخرم ...\n",
              "2          0            من یه روز گذاشتم شارژ 12 روز شارژ داشت \n",
              "3          0  برای خاموش کردن نوار چراغ پایین گوشی از برنامه...\n",
              "4          0  سلام بر دیجی کالا من میخواستم امروز بخرم ولی ا...\n",
              "...      ...                                                ...\n",
              "200756     0                                   لطفا موجود کنین \n",
              "200757    -1  من 1 ساله دارمش واقعا بده. هنگ زیاد داغ شدن زی...\n",
              "200758     0  اگه دو سیمشم بیاری دیجی کالا و نقد و بررسی هم ...\n",
              "200759     1  سلام.من این گوشیو 2هفته پیش خریدم البته ایم بگ...\n",
              "200760     0                 مردیم بابا مشکی رو جور کنید دیجییی\n",
              "\n",
              "[200761 rows x 2 columns]"
            ]
          },
          "metadata": {
            "tags": []
          },
          "execution_count": 33
        }
      ]
    },
    {
      "cell_type": "code",
      "metadata": {
        "id": "1qYWfaoZDf49"
      },
      "source": [
        "#create csv file\n",
        "# !touch /content/drive/MyDrive/digikala/digikala.csv"
      ],
      "execution_count": null,
      "outputs": []
    },
    {
      "cell_type": "code",
      "metadata": {
        "id": "Qp8UxsnTBvbd"
      },
      "source": [
        "df.to_csv ('/content/drive/MyDrive/digikala/digikala.csv', index = False, header=True)"
      ],
      "execution_count": null,
      "outputs": []
    },
    {
      "cell_type": "markdown",
      "metadata": {
        "id": "PGcCo6MeDw84"
      },
      "source": [
        "#Tokenize"
      ]
    },
    {
      "cell_type": "markdown",
      "metadata": {
        "id": "050DDkayoB7W"
      },
      "source": [
        "##LOad Dataset"
      ]
    },
    {
      "cell_type": "code",
      "metadata": {
        "id": "D7KhDcFcEoYr"
      },
      "source": [
        "df = pd.read_csv('/content/drive/MyDrive/digikala/digikala.csv')"
      ],
      "execution_count": 6,
      "outputs": []
    },
    {
      "cell_type": "code",
      "metadata": {
        "id": "z__Bq7cKFqHW"
      },
      "source": [
        "label = np.array(df['label'])\n",
        "clean_com = np.array(df['comment'])"
      ],
      "execution_count": 7,
      "outputs": []
    },
    {
      "cell_type": "code",
      "metadata": {
        "id": "8vOc__TnoAHp",
        "colab": {
          "base_uri": "https://localhost:8080/"
        },
        "outputId": "7e856d14-4577-4e61-d3df-adeea4418fbd"
      },
      "source": [
        "stanfordnlp.download('fa')"
      ],
      "execution_count": 8,
      "outputs": [
        {
          "output_type": "stream",
          "text": [
            "Using the default treebank \"fa_seraji\" for language \"fa\".\n",
            "Would you like to download the models for: fa_seraji now? (Y/n)\n",
            "y\n",
            "\n",
            "Default download directory: /root/stanfordnlp_resources\n",
            "Hit enter to continue or type an alternate directory.\n",
            "\n",
            "\n",
            "Downloading models for: fa_seraji\n",
            "Download location: /root/stanfordnlp_resources/fa_seraji_models.zip\n"
          ],
          "name": "stdout"
        },
        {
          "output_type": "stream",
          "text": [
            "100%|██████████| 226M/226M [01:14<00:00, 3.04MB/s]\n"
          ],
          "name": "stderr"
        },
        {
          "output_type": "stream",
          "text": [
            "\n",
            "Download complete.  Models saved to: /root/stanfordnlp_resources/fa_seraji_models.zip\n",
            "Extracting models file for: fa_seraji\n",
            "Cleaning up...Done.\n"
          ],
          "name": "stdout"
        }
      ]
    },
    {
      "cell_type": "code",
      "metadata": {
        "id": "6u49iW22EYev",
        "colab": {
          "base_uri": "https://localhost:8080/"
        },
        "outputId": "088cb5f3-4a5b-4cee-b3c1-a12bb23f44e3"
      },
      "source": [
        "nlp = stanfordnlp.Pipeline(processors='tokenize', lang='fa', tokenize_pretokenized=True)\n",
        "tokens = []\n",
        "for row in clean_com:\n",
        "  doc = nlp(row)\n",
        "  sentence = list(doc.sentences)[0]\n",
        "  tokenz = np.array([token.text for token in sentence.tokens])\n",
        "  tokens.append(tokenz)"
      ],
      "execution_count": 9,
      "outputs": [
        {
          "output_type": "stream",
          "text": [
            "Use device: gpu\n",
            "---\n",
            "Loading: tokenize\n",
            "With settings: \n",
            "{'model_path': '/root/stanfordnlp_resources/fa_seraji_models/fa_seraji_tokenizer.pt', 'pretokenized': True, 'lang': 'fa', 'shorthand': 'fa_seraji', 'mode': 'predict'}\n",
            "Done loading processors!\n",
            "---\n"
          ],
          "name": "stdout"
        }
      ]
    },
    {
      "cell_type": "code",
      "metadata": {
        "id": "rHsJzhh9oIgE"
      },
      "source": [
        "stopwords = ['از','به','با','را','در','برای',\n",
        "             'که','ازاینرو','این','ان','آن','ها',\n",
        "             'آنجا','اینجا','ازجمله','ازروی','ازلحاظ','اش',\n",
        "             'ات','ام','اید','تان','شان','مان',\n",
        "             'الان','اند','انکه','او','ایم','اینطور',\n",
        "             'انطور','اگر','اگرچه','رو','ب','اگه',\n",
        "             'بلکه','تا','مثل','مثلا','مانند','ما',\n",
        "             'من','ک','فلذا','لذا','فلان','های',\n",
        "             'هایی','چه','هم']"
      ],
      "execution_count": 73,
      "outputs": []
    },
    {
      "cell_type": "code",
      "metadata": {
        "id": "1r-aj13wse3i"
      },
      "source": [
        "tokens = np.array(tokens) "
      ],
      "execution_count": 74,
      "outputs": []
    },
    {
      "cell_type": "code",
      "metadata": {
        "id": "vOvxybgPsO01"
      },
      "source": [
        "nostopwords = [[token for token in token_row if token not in stopwords] for token_row in tokens]"
      ],
      "execution_count": 75,
      "outputs": []
    },
    {
      "cell_type": "code",
      "metadata": {
        "id": "w0_ZyLoqdSwZ"
      },
      "source": [
        "model1 = gensim.models.Word2Vec(nostopwords, min_count = 3, size = 30, window = 7) "
      ],
      "execution_count": 91,
      "outputs": []
    },
    {
      "cell_type": "markdown",
      "metadata": {
        "id": "5OixhnHXn7WL"
      },
      "source": [
        ""
      ]
    },
    {
      "cell_type": "markdown",
      "metadata": {
        "id": "on6AuvKwn7OD"
      },
      "source": [
        "##Test word2vec Model"
      ]
    },
    {
      "cell_type": "code",
      "metadata": {
        "colab": {
          "base_uri": "https://localhost:8080/"
        },
        "id": "ekNIm7mCdp3f",
        "outputId": "fa97d2f5-821c-4fad-ec25-e66878d2f52c"
      },
      "source": [
        "model1.similarity('بد', 'عالی')"
      ],
      "execution_count": 92,
      "outputs": [
        {
          "output_type": "stream",
          "text": [
            "/usr/local/lib/python3.6/dist-packages/ipykernel_launcher.py:1: DeprecationWarning: Call to deprecated `similarity` (Method will be removed in 4.0.0, use self.wv.similarity() instead).\n",
            "  \"\"\"Entry point for launching an IPython kernel.\n"
          ],
          "name": "stderr"
        },
        {
          "output_type": "execute_result",
          "data": {
            "text/plain": [
              "0.47915635"
            ]
          },
          "metadata": {
            "tags": []
          },
          "execution_count": 92
        }
      ]
    },
    {
      "cell_type": "code",
      "metadata": {
        "colab": {
          "base_uri": "https://localhost:8080/"
        },
        "id": "MPKzZJ7ud9KA",
        "outputId": "0a12ff16-5aec-4086-ae04-deb6c864a83b"
      },
      "source": [
        "model1.similarity('بو', 'عطر')"
      ],
      "execution_count": 93,
      "outputs": [
        {
          "output_type": "stream",
          "text": [
            "/usr/local/lib/python3.6/dist-packages/ipykernel_launcher.py:1: DeprecationWarning: Call to deprecated `similarity` (Method will be removed in 4.0.0, use self.wv.similarity() instead).\n",
            "  \"\"\"Entry point for launching an IPython kernel.\n"
          ],
          "name": "stderr"
        },
        {
          "output_type": "execute_result",
          "data": {
            "text/plain": [
              "0.4705136"
            ]
          },
          "metadata": {
            "tags": []
          },
          "execution_count": 93
        }
      ]
    },
    {
      "cell_type": "code",
      "metadata": {
        "colab": {
          "base_uri": "https://localhost:8080/"
        },
        "id": "RikLZMMdhI_a",
        "outputId": "46b540cb-8a96-4c51-9e9a-2f10a37f2989"
      },
      "source": [
        "model1.similarity('سفید', 'عالی')"
      ],
      "execution_count": 94,
      "outputs": [
        {
          "output_type": "stream",
          "text": [
            "/usr/local/lib/python3.6/dist-packages/ipykernel_launcher.py:1: DeprecationWarning: Call to deprecated `similarity` (Method will be removed in 4.0.0, use self.wv.similarity() instead).\n",
            "  \"\"\"Entry point for launching an IPython kernel.\n"
          ],
          "name": "stderr"
        },
        {
          "output_type": "execute_result",
          "data": {
            "text/plain": [
              "-0.02474477"
            ]
          },
          "metadata": {
            "tags": []
          },
          "execution_count": 94
        }
      ]
    },
    {
      "cell_type": "code",
      "metadata": {
        "colab": {
          "base_uri": "https://localhost:8080/"
        },
        "id": "4WiBZGSihMgF",
        "outputId": "2ba8fd44-9074-41ee-ea50-057ab287b483"
      },
      "source": [
        "model1.similarity('بد', 'خش')"
      ],
      "execution_count": 95,
      "outputs": [
        {
          "output_type": "stream",
          "text": [
            "/usr/local/lib/python3.6/dist-packages/ipykernel_launcher.py:1: DeprecationWarning: Call to deprecated `similarity` (Method will be removed in 4.0.0, use self.wv.similarity() instead).\n",
            "  \"\"\"Entry point for launching an IPython kernel.\n"
          ],
          "name": "stderr"
        },
        {
          "output_type": "execute_result",
          "data": {
            "text/plain": [
              "0.3067072"
            ]
          },
          "metadata": {
            "tags": []
          },
          "execution_count": 95
        }
      ]
    },
    {
      "cell_type": "code",
      "metadata": {
        "colab": {
          "base_uri": "https://localhost:8080/"
        },
        "id": "YTCrC7u4hOu7",
        "outputId": "be2ed925-aee0-41ab-a384-24c0e86f4216"
      },
      "source": [
        "model1.similarity('بد', 'تیره')"
      ],
      "execution_count": 96,
      "outputs": [
        {
          "output_type": "stream",
          "text": [
            "/usr/local/lib/python3.6/dist-packages/ipykernel_launcher.py:1: DeprecationWarning: Call to deprecated `similarity` (Method will be removed in 4.0.0, use self.wv.similarity() instead).\n",
            "  \"\"\"Entry point for launching an IPython kernel.\n"
          ],
          "name": "stderr"
        },
        {
          "output_type": "execute_result",
          "data": {
            "text/plain": [
              "0.18311915"
            ]
          },
          "metadata": {
            "tags": []
          },
          "execution_count": 96
        }
      ]
    },
    {
      "cell_type": "code",
      "metadata": {
        "colab": {
          "base_uri": "https://localhost:8080/"
        },
        "id": "GnXeuu6vhRcN",
        "outputId": "b89d83ca-36a3-4232-8a31-54a5a3446d61"
      },
      "source": [
        "model1.similarity('دارم', 'دوست')"
      ],
      "execution_count": 97,
      "outputs": [
        {
          "output_type": "stream",
          "text": [
            "/usr/local/lib/python3.6/dist-packages/ipykernel_launcher.py:1: DeprecationWarning: Call to deprecated `similarity` (Method will be removed in 4.0.0, use self.wv.similarity() instead).\n",
            "  \"\"\"Entry point for launching an IPython kernel.\n"
          ],
          "name": "stderr"
        },
        {
          "output_type": "execute_result",
          "data": {
            "text/plain": [
              "-0.3252009"
            ]
          },
          "metadata": {
            "tags": []
          },
          "execution_count": 97
        }
      ]
    },
    {
      "cell_type": "code",
      "metadata": {
        "colab": {
          "base_uri": "https://localhost:8080/"
        },
        "id": "dHt4wqXyhVNp",
        "outputId": "9b16fa3e-1a4b-4606-afc1-263cfd56429f"
      },
      "source": [
        "model1.similarity('ندارم', 'دوست')"
      ],
      "execution_count": 98,
      "outputs": [
        {
          "output_type": "stream",
          "text": [
            "/usr/local/lib/python3.6/dist-packages/ipykernel_launcher.py:1: DeprecationWarning: Call to deprecated `similarity` (Method will be removed in 4.0.0, use self.wv.similarity() instead).\n",
            "  \"\"\"Entry point for launching an IPython kernel.\n"
          ],
          "name": "stderr"
        },
        {
          "output_type": "execute_result",
          "data": {
            "text/plain": [
              "-0.19102529"
            ]
          },
          "metadata": {
            "tags": []
          },
          "execution_count": 98
        }
      ]
    },
    {
      "cell_type": "code",
      "metadata": {
        "colab": {
          "base_uri": "https://localhost:8080/"
        },
        "id": "oSJRzD1phXgE",
        "outputId": "8f26269f-3849-4e3c-ac97-bbcfda6593fc"
      },
      "source": [
        "model1.similarity('عالی', 'مرسی')"
      ],
      "execution_count": 99,
      "outputs": [
        {
          "output_type": "stream",
          "text": [
            "/usr/local/lib/python3.6/dist-packages/ipykernel_launcher.py:1: DeprecationWarning: Call to deprecated `similarity` (Method will be removed in 4.0.0, use self.wv.similarity() instead).\n",
            "  \"\"\"Entry point for launching an IPython kernel.\n"
          ],
          "name": "stderr"
        },
        {
          "output_type": "execute_result",
          "data": {
            "text/plain": [
              "-0.20637283"
            ]
          },
          "metadata": {
            "tags": []
          },
          "execution_count": 99
        }
      ]
    },
    {
      "cell_type": "code",
      "metadata": {
        "colab": {
          "base_uri": "https://localhost:8080/"
        },
        "id": "lSiHb_4ShaYW",
        "outputId": "12fc70ca-1a2d-4cfb-f457-c896e1c4c1b3"
      },
      "source": [
        "model1.similarity('مرسی', 'ممنون')"
      ],
      "execution_count": 100,
      "outputs": [
        {
          "output_type": "stream",
          "text": [
            "/usr/local/lib/python3.6/dist-packages/ipykernel_launcher.py:1: DeprecationWarning: Call to deprecated `similarity` (Method will be removed in 4.0.0, use self.wv.similarity() instead).\n",
            "  \"\"\"Entry point for launching an IPython kernel.\n"
          ],
          "name": "stderr"
        },
        {
          "output_type": "execute_result",
          "data": {
            "text/plain": [
              "0.7820511"
            ]
          },
          "metadata": {
            "tags": []
          },
          "execution_count": 100
        }
      ]
    },
    {
      "cell_type": "code",
      "metadata": {
        "colab": {
          "base_uri": "https://localhost:8080/"
        },
        "id": "AbhMTKzphffB",
        "outputId": "c9a16b28-a2c6-48e0-8d97-cc0743760d8a"
      },
      "source": [
        "model1.similarity('تشکر', 'ممنون')\n"
      ],
      "execution_count": 101,
      "outputs": [
        {
          "output_type": "stream",
          "text": [
            "/usr/local/lib/python3.6/dist-packages/ipykernel_launcher.py:1: DeprecationWarning: Call to deprecated `similarity` (Method will be removed in 4.0.0, use self.wv.similarity() instead).\n",
            "  \"\"\"Entry point for launching an IPython kernel.\n"
          ],
          "name": "stderr"
        },
        {
          "output_type": "execute_result",
          "data": {
            "text/plain": [
              "0.632688"
            ]
          },
          "metadata": {
            "tags": []
          },
          "execution_count": 101
        }
      ]
    },
    {
      "cell_type": "code",
      "metadata": {
        "colab": {
          "base_uri": "https://localhost:8080/"
        },
        "id": "vLMaY0IyhiMo",
        "outputId": "334bb0d2-0e64-4ef6-f0f8-0e8e13205514"
      },
      "source": [
        "model1.similarity('افتضاح', 'ممنون')"
      ],
      "execution_count": 102,
      "outputs": [
        {
          "output_type": "stream",
          "text": [
            "/usr/local/lib/python3.6/dist-packages/ipykernel_launcher.py:1: DeprecationWarning: Call to deprecated `similarity` (Method will be removed in 4.0.0, use self.wv.similarity() instead).\n",
            "  \"\"\"Entry point for launching an IPython kernel.\n"
          ],
          "name": "stderr"
        },
        {
          "output_type": "execute_result",
          "data": {
            "text/plain": [
              "-0.1239124"
            ]
          },
          "metadata": {
            "tags": []
          },
          "execution_count": 102
        }
      ]
    },
    {
      "cell_type": "code",
      "metadata": {
        "colab": {
          "base_uri": "https://localhost:8080/"
        },
        "id": "NkMnNwjmhkrX",
        "outputId": "9194fef1-88f1-433f-a3c6-88deb2e07c47"
      },
      "source": [
        "model1.similarity('مرسی', 'افتضاح')\n"
      ],
      "execution_count": 103,
      "outputs": [
        {
          "output_type": "stream",
          "text": [
            "/usr/local/lib/python3.6/dist-packages/ipykernel_launcher.py:1: DeprecationWarning: Call to deprecated `similarity` (Method will be removed in 4.0.0, use self.wv.similarity() instead).\n",
            "  \"\"\"Entry point for launching an IPython kernel.\n"
          ],
          "name": "stderr"
        },
        {
          "output_type": "execute_result",
          "data": {
            "text/plain": [
              "-0.24797018"
            ]
          },
          "metadata": {
            "tags": []
          },
          "execution_count": 103
        }
      ]
    },
    {
      "cell_type": "code",
      "metadata": {
        "colab": {
          "base_uri": "https://localhost:8080/"
        },
        "id": "MH544dLRhm_m",
        "outputId": "b06023fb-b375-44fa-bb57-1e20d6779342"
      },
      "source": [
        "model1.similarity('توقع', 'سفید')\n"
      ],
      "execution_count": 104,
      "outputs": [
        {
          "output_type": "stream",
          "text": [
            "/usr/local/lib/python3.6/dist-packages/ipykernel_launcher.py:1: DeprecationWarning: Call to deprecated `similarity` (Method will be removed in 4.0.0, use self.wv.similarity() instead).\n",
            "  \"\"\"Entry point for launching an IPython kernel.\n"
          ],
          "name": "stderr"
        },
        {
          "output_type": "execute_result",
          "data": {
            "text/plain": [
              "-0.19228292"
            ]
          },
          "metadata": {
            "tags": []
          },
          "execution_count": 104
        }
      ]
    },
    {
      "cell_type": "code",
      "metadata": {
        "colab": {
          "base_uri": "https://localhost:8080/"
        },
        "id": "ElHjUmvXhqPT",
        "outputId": "d6e5b2ee-e586-4159-a71d-aa00b50a1e3c"
      },
      "source": [
        "model1.similarity('خوب', 'بد')\n"
      ],
      "execution_count": 105,
      "outputs": [
        {
          "output_type": "stream",
          "text": [
            "/usr/local/lib/python3.6/dist-packages/ipykernel_launcher.py:1: DeprecationWarning: Call to deprecated `similarity` (Method will be removed in 4.0.0, use self.wv.similarity() instead).\n",
            "  \"\"\"Entry point for launching an IPython kernel.\n"
          ],
          "name": "stderr"
        },
        {
          "output_type": "execute_result",
          "data": {
            "text/plain": [
              "0.74483365"
            ]
          },
          "metadata": {
            "tags": []
          },
          "execution_count": 105
        }
      ]
    }
  ]
}